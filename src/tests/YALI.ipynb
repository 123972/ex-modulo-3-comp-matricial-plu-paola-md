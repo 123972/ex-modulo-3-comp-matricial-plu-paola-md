{
 "cells": [
  {
   "cell_type": "code",
   "execution_count": 8,
   "metadata": {},
   "outputs": [
    {
     "name": "stdout",
     "output_type": "stream",
     "text": [
      "The autoreload extension is already loaded. To reload it, use:\n",
      "  %reload_ext autoreload\n",
      "EliminacionPorBloques\n"
     ]
    }
   ],
   "source": [
    "import numpy as np\n",
    "import sys\n",
    "sys.path.append('./../../')\n",
    "\n",
    "# OPTIONAL: Load the \"autoreload\" extension so that code can change\n",
    "%load_ext autoreload\n",
    "\n",
    "import src\n",
    "# OPTIONAL: always reload modules so that as you change code in src, it gets loaded\n",
    "%autoreload 2\n",
    "from src.algorithms import FactorizacionPLU\n",
    "from src.algorithms import EliminacionPorBloques as block\n",
    "import src.algorithms.FactorizacionPLU as plu\n",
    "\n",
    "eliminador = block.EliminacionPorBloques()\n",
    "\n",
    "A =  np.array([[ 1.,  4., -2., -5.],\n",
    "               [-3.,  9.,  8.,  7.],\n",
    "               [ 5.,  1., -6., -4.],\n",
    "               [ 6., -1.,  2.,  8.]])\n",
    "\n",
    "b = np.array([3,0,7,6,9], dtype=np.float)\n",
    "a = np.array([3,0,7,6], dtype=np.float)\n",
    "\n",
    "x_prueba=np.linalg.solve(A,a)\n",
    "print(x_prueba)\n",
    "\n",
    "x_nuestra = solve_blocks(A,a)\n",
    "print(x_nuestra)\n",
    "\n",
    "eliminador = block.EliminacionPorBloques()\n",
    "\n",
    "elminador"
   ]
  }
 ],
 "metadata": {
  "kernelspec": {
   "display_name": "Python 3",
   "language": "python",
   "name": "python3"
  },
  "language_info": {
   "codemirror_mode": {
    "name": "ipython",
    "version": 3
   },
   "file_extension": ".py",
   "mimetype": "text/x-python",
   "name": "python",
   "nbconvert_exporter": "python",
   "pygments_lexer": "ipython3",
   "version": "3.7.6"
  }
 },
 "nbformat": 4,
 "nbformat_minor": 4
}
