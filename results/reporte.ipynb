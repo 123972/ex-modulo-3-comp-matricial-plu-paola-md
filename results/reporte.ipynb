{
 "cells": [
  {
   "cell_type": "markdown",
   "metadata": {},
   "source": [
    "# Método de Factorización PLU por Bloques: Reporte final"
   ]
  },
  {
   "cell_type": "markdown",
   "metadata": {},
   "source": [
    "El objetivo de este proyecto es programar el método de factorización PLU por bloques para resolver ecuaciones lineales de tamaño mediano a grande. El lenguaje de su implementación es Python y la plataforma para trabajarlo en equipo, Github."
   ]
  },
  {
   "cell_type": "markdown",
   "metadata": {},
   "source": [
    "# Tabla de contenidos"
   ]
  },
  {
   "cell_type": "markdown",
   "metadata": {},
   "source": [
    "1. [Introducción: Breve Explicación sobre la Factorización PLU](#1.-Introducción:-Breve-Explicación-sobre-la-Factorización-PLU)\n",
    "2. [Programación del Código en Python](#2.-Programación-del-Código-en-Python)\n",
    "3. [Revisión del Código en Python](#3.-Revisión-del-Código-en-Python)\n",
    "4. [Implementación del Algoritmo de Programación](#4.-Implementación-del-Algoritmo-de-Programación)\n",
    "5. [Implementación del Algoritmo de Revisión](#5.-Implementación-del-Algoritmo-de-Revisión)\n",
    "6. [Resultados Finales](#6.-Resultados-Finales)\n",
    "7. [Pruebas Unitarias](#7.-Pruebas-Unitarias)\n",
    "8. [Conclusiones](#8.-Conclusiones)"
   ]
  },
  {
   "cell_type": "markdown",
   "metadata": {},
   "source": [
    "# 1. Introducción: Breve Explicación sobre la Factorización PLU\n",
    "\n",
    "*La siguiente explicación sobre la factorización no tiene intenciones de ser amplia y completa, sino una breve síntesis general.\n",
    "Nota generada a partir de la siguiente [liga](https://github.com/ITAM-DS/analisis-numerico-computo-cientifico/blob/master/temas/III.computo_matricial/3.3.a.Factorizacion_LU.ipynb)\n",
    "\n",
    "### Factorización LU simple\n",
    "La factorización $LU$ de una matriz resume el proceso de [eliminación Gaussiana](https://en.wikipedia.org/wiki/Gaussian_elimination) aplicada a una matriz, lo cual es conveniente en términos del número total de operaciones de punto flotante cuando se desea calcular la inversa de una matriz o cuando se resolverá una serie de sistema de ecuaciones con una misma matriz de coeficientes. \n",
    "\n",
    "### Factorización PLU\n",
    "Frecuentemente no es posible escalonar una matriz solamente con operaciones de eliminación, por lo se requiere realizar un intercambio de renglones; para este tipo de matrices no existe la factorización $LU$ y lo que se aplica es la factorización $PA = LU$, donde la matriz P es una matriz de permutación, que se obtiene a partir de la matriz identidad al realizar el mismo intercambio de renglones. Ver [Factorización PLU](http://cb.mty.itesm.mx/ma1010/materiales/ma1010-26.pdf).\n",
    "\n",
    "**Teorema**\n",
    "\n",
    "Si $A \\in  \\mathbb{R}^{n \\times n}$ es no singular, existen matrices $P, L, U$ de permutación, triangular inferior con $1$'s en la diagonal y triangular superior invertible respectivamente, tales que $PA = LU$.\n",
    "\n",
    "Se puede demostrar que si $A$ es no singular, $L$ y $U$ existen y son únicas.\n",
    "\n",
    "En la sección de la factorización $PLU$ se aplicaron recursivamente los pasos de la eliminación Gaussiana para que los elementos de las matrices $L$ y $U$ se calculen de forma iterativa utilizando un vector pivote.\n",
    "\n",
    "### Factorización PLU por bloques\n",
    "\n",
    "Para aprovechar de una forma más eficiente el uso de la memoria y del caché al momento de realizar el cálculo de la factorización $LU$, se puede determinar la partición de la matriz $A$, tomando submatrices de tamaño $k \\times k$, de modo que podemos realizar una partición de las matrices para realizar una evaluación más eficiente en tiempo del método correspondiente. Un ejemplo gráfico se puede encontrar de la siguiente manera:\n",
    "\n",
    "Una matriz de la forma:\n",
    "\n",
    "![PLU_por_bloques_1](../img/PLU_por_bloques_1.JPG)\n",
    "\n",
    "Fuente:[Paralelización de la Factorización de Matrices en Clusters](http://sedici.unlp.edu.ar/bitstream/handle/10915/23049/Art_C121.pdf?sequence=1) \n",
    "\n",
    "Puede factorizarse de la siguiente forma en bloques o sub particiones: \n",
    "\n",
    "![PLU_por_bloques_2](../img/PLU_por_bloques_2.JPG)\n",
    "\n",
    "Fuente:[Paralelización de la Factorización de Matrices en Clusters](http://sedici.unlp.edu.ar/bitstream/handle/10915/23049/Art_C121.pdf?sequence=1) \n",
    "\n",
    "\n"
   ]
  },
  {
   "cell_type": "markdown",
   "metadata": {},
   "source": [
    "# 2. Programación del Código en Python"
   ]
  },
  {
   "cell_type": "markdown",
   "metadata": {},
   "source": [
    "Todas las librerías que se necesitan para correr el código se encuentran en el archivo **Requirements.txt**, que puede ser usado para instalarlas.\n",
    "\n",
    "En el equipo de programación se implementó el código como si fuera una paquetería que puede ser instalada mediante el uso de un install desde la raíz con el siguiente comando:\n",
    "\n",
    "    sudo python setup.py install\n",
    "\n",
    "En este caso, se realizará la importación normal"
   ]
  },
  {
   "cell_type": "code",
   "execution_count": 1,
   "metadata": {},
   "outputs": [],
   "source": [
    "#Standard library modules\n",
    "import numpy as np\n",
    "import scipy\n",
    "from math import ceil\n",
    "from scipy.linalg import solve_triangular\n",
    "\n",
    "import sys\n",
    "sys.path.append('../notebooks/Programacion/') #Para poder importar la anterior versión de factorizacion_PLU\n",
    "#sys.path.append('./../../')\n",
    "sys.path.append('./../')\n",
    "\n",
    "\n",
    "# OPTIONAL: Load the \"autoreload\" extension so that code can change\n",
    "%load_ext autoreload\n",
    "\n",
    "#Own Library modules\n",
    "import src\n",
    "# OPTIONAL: always reload modules so that as you change code in src, it gets loaded\n",
    "%autoreload 2\n",
    "\n",
    "#Funciones de programación\n",
    "from src.algorithms import TodoJunto\n",
    "\n",
    "#Funciones de revisión\n",
    "from src.test_algorithms import revision_modular\n",
    "\n",
    "import numpy as np"
   ]
  },
  {
   "cell_type": "markdown",
   "metadata": {},
   "source": [
    "La programación consistió básicamente en crear funciones que hicieran a grandes razgos, lo siguiente:\n",
    "* validate: valida que una matriz sea cuadrada\n",
    "* forward_substitution: Algoritmo de Forward substitution orientado a filas\n",
    "* backward_substitution: Algoritmo de Backward substitution orientado a filas\n",
    "* get_P: Esta función obtiene la matriz pivote derivada del intercambio de elementos en la matriz identidad original\n",
    "* PLU: Esta función desarrolla la factorización $PA = LU$, donde P es la matriz de permutación codificada por piv(l:n - 1), guarda los índices fila de los pivotes, de tal modo que la columnas intercambiadas se guardan en el vector $P$.\n",
    "* solve: Esta función resuelve un sistema de ecuaciones de la forma $Ax = b$ con la factorización $PLU$.\n",
    "* solve_blocks: Esta función resuelve un sistema de ecuaciones de la forma $Ax = b$ con la factorización $PLU$ y por bloques.\n",
    " "
   ]
  },
  {
   "cell_type": "markdown",
   "metadata": {},
   "source": [
    "El script que corresponde a la programción se llama TodoJunto.py y se encuentra en [Factorización PLU](src/algorithms/TodoJunto.py).\n",
    "* Para más información sobre los siguientes códigos, se pueden consultar los notebooks correspondientes:\n",
    "    - [Algoritmos intermedios y finales para la computación de PLU](notebooks/Programacion/FactorizacionPLU.ipynb)\n",
    "    - [Algoritmo de eliminación por bloques](notebooks/Programacion/EliminacionPorBloques.ipynb)"
   ]
  },
  {
   "cell_type": "markdown",
   "metadata": {},
   "source": [
    "# 3. Revisión del código en Python\n",
    "Para verificar el correcto funcionamiento del algoritmo, el equipo de revisión implementó también algunas funciones para probar el código anteriormente mencionado, tales como: \n",
    "* crea_matrices: crea matrices de forma aleatoria. La función devuelve una matriz $A$ cuadrada de dimensión $n \\times n$\n",
    "* factoriza_plu: ejecuta el algoritmo de $PLU$ y mide el tiempo de ejecución total del algoritmo.\n",
    "* resuelve_bloques: ejecuta el algoritmo de SEL por medio de bloques y mide el tiempo de ejecución total del algoritmo.\n",
    "* solve_A_b: ejecuta el algoritmo que resuelve un sistema de ecuaciones de la forma $Ax = b$ con la factorización $PLU$ y mide el tiempo de ejecución total del algoritmo.\n",
    "* condicion: calcula la condición de la matriz cuadrada $A$.\n",
    "* revision_PLU: el objetivo principal de esta función es revisar que la igualdad $PA=LU$ se cumpla y generar un data frame con información sobre la dimensión y condición de la matriz $A$, el tiempo de ejecución del algoritmo $PLU$ y el estado de la verificación de la igualdad (Ej: Correcto o Incorrecto).\n",
    "* revision_x: el objetivo principal de esta función es verificar que la solución estimada del sistema de ecuaciones x_est sea la correcta al compararla con la x_real y generar un data frame con información sobre la dimensión y condición de la matriz $A$, el tiempo de ejecución del algoritmo solve que resuelve el sistema, el estado de la verificación de la solución (Ej: Correcto o Incorrecto), el error absoluto entre x_est y x_real y el tipo de matriz $A$.\n",
    "* revision_bloques: el objetivo principal de esta función es verificar que la solución estimada del sistema de ecuaciones solucion_bloques, del algoritmo por bloques, sea la correcta al compararla con la solucion_real y generar un data frame con información sobre la dimensión y condición de la matriz $A$, el tiempo de ejecución del algoritmo solve_blocks que resuelve el sistema, el estado de la verificación de la solución (Ej: Correcto o Incorrecto), el error absoluto entre solucion_bloques y solucion_real y el tipo de matriz.\n",
    "\n",
    "\n",
    "El script que corresponde a la programción se llama revision_modular.py y se encuentra en [Revisión Modular](notebooks/Revision/revision_modular.py).\n",
    "* Para más información sobre el proceso histórico seguido por el equipo de revisión, se puede consultar el siguiente notebook [Procedimiento Revisión](notebooks/Revision/Procedimiento_revision.ipynb).\n"
   ]
  },
  {
   "cell_type": "markdown",
   "metadata": {},
   "source": [
    "# 4. Implementación del algoritmo de programación"
   ]
  },
  {
   "cell_type": "markdown",
   "metadata": {},
   "source": [
    "En este sección, se realiza una corrida completa de los algoritmos de programación, con matrices pequeñas, para ejemplificar su implementación:\n",
    "\n",
    "- Primero, se prueba el algoritmo que realiza la factorización PLU.\n",
    "- Segundo, se prueba el algoritmo que resuelve el sistema lineal de ecuaciones.\n",
    "- Tercero, se prueba el algorimo que resuleve el sistema por eliminación por bloques."
   ]
  },
  {
   "cell_type": "markdown",
   "metadata": {},
   "source": [
    "### Algoritmo que realiza la factorización PLU"
   ]
  },
  {
   "cell_type": "code",
   "execution_count": 2,
   "metadata": {},
   "outputs": [
    {
     "data": {
      "text/plain": [
       "array([[ 74,  47, -51, -11,  35, -46,  57,  46,  35,  50],\n",
       "       [-11,  51, -12,  52,  24, -85,  12,  -9,  -1,  42],\n",
       "       [ 79, -22,  29,  49, -46,  -1,  55, -32,  11, -90],\n",
       "       [ 94, -13, -22, -66, -80, -61,  47,  28, -89,  60],\n",
       "       [  6,   1,  11,   3,  52, -43, -21,  19, -12,  72],\n",
       "       [-85,  21,  87, -57, -16,  31,  92,  16, -63,  68],\n",
       "       [ 14,  95,  69, -58,  87, -43,  87,   5, -27, -15],\n",
       "       [ 67, -20,  61,  75, -63,  16,  14, -27,  21,  20],\n",
       "       [ 81, -38, -18,  22,  83, -79, -54, -46,  43, -62],\n",
       "       [ 59, -60, -65, -75,  97, -21,   5, -28, -78,  94]])"
      ]
     },
     "execution_count": 2,
     "metadata": {},
     "output_type": "execute_result"
    }
   ],
   "source": [
    "# Para ejemplificar, creamos una matriz aleatoria de tamaño 10x10\n",
    "n=np.random.randint(10, 10+1)\n",
    "A=np.array(np.random.randint(-90,99, size=(n, n)))\n",
    "A"
   ]
  },
  {
   "cell_type": "code",
   "execution_count": 3,
   "metadata": {},
   "outputs": [],
   "source": [
    "# Calculamos la factorización PLU llamando a la función PLU\n",
    "P, L, U = TodoJunto.PLU(A)"
   ]
  },
  {
   "cell_type": "code",
   "execution_count": 4,
   "metadata": {},
   "outputs": [
    {
     "data": {
      "text/plain": [
       "array([[0., 0., 0., 1., 0., 0., 0., 0., 0., 0.],\n",
       "       [0., 0., 0., 0., 0., 0., 1., 0., 0., 0.],\n",
       "       [0., 0., 0., 0., 0., 0., 0., 1., 0., 0.],\n",
       "       [0., 0., 0., 0., 0., 1., 0., 0., 0., 0.],\n",
       "       [0., 0., 0., 0., 0., 0., 0., 0., 0., 1.],\n",
       "       [0., 0., 0., 0., 0., 0., 0., 0., 1., 0.],\n",
       "       [0., 1., 0., 0., 0., 0., 0., 0., 0., 0.],\n",
       "       [1., 0., 0., 0., 0., 0., 0., 0., 0., 0.],\n",
       "       [0., 0., 0., 0., 1., 0., 0., 0., 0., 0.],\n",
       "       [0., 0., 1., 0., 0., 0., 0., 0., 0., 0.]])"
      ]
     },
     "execution_count": 4,
     "metadata": {},
     "output_type": "execute_result"
    }
   ],
   "source": [
    "# Resultado de la matriz P\n",
    "P"
   ]
  },
  {
   "cell_type": "code",
   "execution_count": 5,
   "metadata": {},
   "outputs": [
    {
     "data": {
      "text/plain": [
       "array([[ 1.        ,  0.        ,  0.        ,  0.        ,  0.        ,\n",
       "         0.        ,  0.        ,  0.        ,  0.        ,  0.        ],\n",
       "       [ 0.14893617,  1.        ,  0.        ,  0.        ,  0.        ,\n",
       "         0.        ,  0.        ,  0.        ,  0.        ,  0.        ],\n",
       "       [ 0.71276596, -0.1107331 ,  1.        ,  0.        ,  0.        ,\n",
       "         0.        ,  0.        ,  0.        ,  0.        ,  0.        ],\n",
       "       [-0.90425532,  0.09536874,  0.71103477,  1.        ,  0.        ,\n",
       "         0.        ,  0.        ,  0.        ,  0.        ,  0.        ],\n",
       "       [ 0.62765957, -0.53478929, -0.14806458,  0.21558839,  1.        ,\n",
       "         0.        ,  0.        ,  0.        ,  0.        ,  0.        ],\n",
       "       [ 0.86170213, -0.27644864,  0.24725035, -0.18813447,  0.713959  ,\n",
       "         1.        ,  0.        ,  0.        ,  0.        ,  0.        ],\n",
       "       [-0.11702128,  0.51042581, -0.60774348, -0.71662599, -0.47343616,\n",
       "         0.98788123,  1.        ,  0.        ,  0.        ,  0.        ],\n",
       "       [ 0.78723404,  0.5904302 , -0.90164493, -0.89520471, -0.20940542,\n",
       "        -0.29596428,  0.73322646,  1.        ,  0.        ,  0.        ],\n",
       "       [ 0.06382979,  0.01887621,  0.13036599,  0.03636006,  0.26168478,\n",
       "         0.64672348, -0.02826074,  0.73099281,  1.        ,  0.        ],\n",
       "       [ 0.84042553, -0.11424495,  0.65828758, -0.11348251,  0.07976565,\n",
       "        -0.01596918,  0.49285353, -0.03871514, -0.54736319,  1.        ]])"
      ]
     },
     "execution_count": 5,
     "metadata": {},
     "output_type": "execute_result"
    }
   ],
   "source": [
    "# Resultado de la matriz L\n",
    "L"
   ]
  },
  {
   "cell_type": "code",
   "execution_count": 6,
   "metadata": {},
   "outputs": [
    {
     "data": {
      "text/plain": [
       "array([[  94.        ,  -13.        ,  -22.        ,  -66.        ,\n",
       "         -80.        ,  -61.        ,   47.        ,   28.        ,\n",
       "         -89.        ,   60.        ],\n",
       "       [   0.        ,   96.93617021,   72.27659574,  -48.17021277,\n",
       "          98.91489362,  -33.91489362,   80.        ,    0.82978723,\n",
       "         -13.74468085,  -23.93617021],\n",
       "       [   0.        ,    0.        ,   84.68426251,  116.70851624,\n",
       "           4.97442932,   55.72322212,  -10.64135206,  -46.8655619 ,\n",
       "          82.9141791 ,  -25.41648376],\n",
       "       [   0.        ,    0.        ,    0.        , -195.07073089,\n",
       "        -101.31080694,  -60.54630185,  134.43687171,   74.56305701,\n",
       "        -201.12277439,  142.61008523],\n",
       "       [   0.        ,    0.        ,    0.        ,    0.        ,\n",
       "         222.68936171,   20.4536274 ,  -12.27549242,  -68.14476579,\n",
       "          26.14758175,    9.03125892],\n",
       "       [   0.        ,    0.        ,    0.        ,    0.        ,\n",
       "           0.        ,  -75.58338041,  -35.69662242,    4.36971058,\n",
       "          38.88480275,  -93.65309001],\n",
       "       [   0.        ,    0.        ,    0.        ,    0.        ,\n",
       "           0.        ,    0.        ,   95.99203975,  -17.7743158 ,\n",
       "        -124.17286484,  244.78416057],\n",
       "       [   0.        ,    0.        ,    0.        ,    0.        ,\n",
       "           0.        ,    0.        ,    0.        ,   48.01661243,\n",
       "         115.9229872 ,  -83.66182743],\n",
       "       [   0.        ,    0.        ,    0.        ,    0.        ,\n",
       "           0.        ,    0.        ,    0.        ,    0.        ,\n",
       "        -129.79427991,  193.0284551 ],\n",
       "       [   0.        ,    0.        ,    0.        ,    0.        ,\n",
       "           0.        ,    0.        ,    0.        ,    0.        ,\n",
       "           0.        , -130.68600675]])"
      ]
     },
     "execution_count": 6,
     "metadata": {},
     "output_type": "execute_result"
    }
   ],
   "source": [
    "# Resultado de la matriz U\n",
    "U"
   ]
  },
  {
   "cell_type": "markdown",
   "metadata": {},
   "source": [
    "### Algoritmo que resuelve el sistema lineal de ecuaciones"
   ]
  },
  {
   "cell_type": "code",
   "execution_count": 7,
   "metadata": {},
   "outputs": [
    {
     "data": {
      "text/plain": [
       "array([[-50],\n",
       "       [-15],\n",
       "       [-71],\n",
       "       [-37],\n",
       "       [ 54],\n",
       "       [-28],\n",
       "       [  5],\n",
       "       [ 39],\n",
       "       [ 40],\n",
       "       [ 64]])"
      ]
     },
     "execution_count": 7,
     "metadata": {},
     "output_type": "execute_result"
    }
   ],
   "source": [
    "# Generamos un vector b aleatorio con las soluciones de tamaño 1x10\n",
    "b=np.array(np.random.randint(-90,99, size=(n, 1)))\n",
    "b"
   ]
  },
  {
   "cell_type": "code",
   "execution_count": 8,
   "metadata": {},
   "outputs": [
    {
     "data": {
      "text/plain": [
       "array([[ 0.47614334],\n",
       "       [ 0.52174642],\n",
       "       [ 0.55643102],\n",
       "       [-0.19816221],\n",
       "       [ 0.27153522],\n",
       "       [ 0.46946642],\n",
       "       [-1.1234913 ],\n",
       "       [-0.61225607],\n",
       "       [-0.14971236],\n",
       "       [ 0.51951893]])"
      ]
     },
     "execution_count": 8,
     "metadata": {},
     "output_type": "execute_result"
    }
   ],
   "source": [
    "# Resolvemos el sistema llamando a la función solve\n",
    "TodoJunto.solve(A,b)"
   ]
  },
  {
   "cell_type": "markdown",
   "metadata": {},
   "source": [
    "### Algoritmo que resuelve el sistema por eliminación por bloques"
   ]
  },
  {
   "cell_type": "code",
   "execution_count": 9,
   "metadata": {},
   "outputs": [
    {
     "name": "stdout",
     "output_type": "stream",
     "text": [
      "[[ 0.47614334  0.46946642]\n",
      " [ 0.52174642 -1.1234913 ]\n",
      " [ 0.55643102 -0.61225607]\n",
      " [-0.19816221 -0.14971236]\n",
      " [ 0.27153522  0.51951893]]\n"
     ]
    }
   ],
   "source": [
    "#Resolvemos el sistema llamando a la función solve_blocks\n",
    "\n",
    "x_nuestra = TodoJunto.solve_blocks(A,b)\n",
    "print(x_nuestra)"
   ]
  },
  {
   "cell_type": "markdown",
   "metadata": {},
   "source": [
    "Se puede observar que las dos formas de resolver el algoritmo (sin bloques usando solve y con bloques usando solve_blocks) dan el mismo vector x de respuesta. No obstante, hasta esta parte solo sabemos que ambas funciones dan el mismo vector, no si están resolviendo el sistema de forma satisfactoria. Para ello, hay que pasar a la sección de revisión. \n"
   ]
  },
  {
   "cell_type": "markdown",
   "metadata": {},
   "source": [
    "# 5. Implementación del Algoritmo de Revisión"
   ]
  },
  {
   "cell_type": "markdown",
   "metadata": {},
   "source": [
    "En este sección, se realiza una corrida completa de los algoritmos de revisión, con matrices medianas y grandes, para ejemplificar su implementación:\n",
    "\n",
    "- Primero, se prueba el algoritmo que revisa la factorización PLU.\n",
    "- Segundo, se prueba el algoritmo que revisa la solución del sistema lineal de ecuaciones.\n",
    "- Tercero, se prueba el algorimo que revisa  la solución del sistema por eliminación por bloques.\n",
    "\n",
    "Las funciones de revisión llaman a las funciones de programación, corren los algoritmos para múltiples matrices aletatorias de distintos tamaños y entregan un data frame con las características de cada corrida. "
   ]
  },
  {
   "cell_type": "markdown",
   "metadata": {},
   "source": [
    "### Algoritmo que revisa la factorización PLU"
   ]
  },
  {
   "cell_type": "code",
   "execution_count": 58,
   "metadata": {},
   "outputs": [
    {
     "data": {
      "text/html": [
       "<div>\n",
       "<style scoped>\n",
       "    .dataframe tbody tr th:only-of-type {\n",
       "        vertical-align: middle;\n",
       "    }\n",
       "\n",
       "    .dataframe tbody tr th {\n",
       "        vertical-align: top;\n",
       "    }\n",
       "\n",
       "    .dataframe thead th {\n",
       "        text-align: right;\n",
       "    }\n",
       "</style>\n",
       "<table border=\"1\" class=\"dataframe\">\n",
       "  <thead>\n",
       "    <tr style=\"text-align: right;\">\n",
       "      <th></th>\n",
       "      <th>dimension_A</th>\n",
       "      <th>condicion_A</th>\n",
       "      <th>tiempo_plu</th>\n",
       "      <th>status_plu</th>\n",
       "    </tr>\n",
       "  </thead>\n",
       "  <tbody>\n",
       "    <tr>\n",
       "      <th>0</th>\n",
       "      <td>950</td>\n",
       "      <td>6160.464722</td>\n",
       "      <td>480.797077</td>\n",
       "      <td>Correcto</td>\n",
       "    </tr>\n",
       "    <tr>\n",
       "      <th>1</th>\n",
       "      <td>436</td>\n",
       "      <td>663.794912</td>\n",
       "      <td>47.830825</td>\n",
       "      <td>Correcto</td>\n",
       "    </tr>\n",
       "    <tr>\n",
       "      <th>2</th>\n",
       "      <td>707</td>\n",
       "      <td>4317.074411</td>\n",
       "      <td>202.151649</td>\n",
       "      <td>Correcto</td>\n",
       "    </tr>\n",
       "    <tr>\n",
       "      <th>3</th>\n",
       "      <td>155</td>\n",
       "      <td>369.956501</td>\n",
       "      <td>2.108075</td>\n",
       "      <td>Correcto</td>\n",
       "    </tr>\n",
       "    <tr>\n",
       "      <th>4</th>\n",
       "      <td>544</td>\n",
       "      <td>4609.178438</td>\n",
       "      <td>88.756652</td>\n",
       "      <td>Correcto</td>\n",
       "    </tr>\n",
       "    <tr>\n",
       "      <th>5</th>\n",
       "      <td>496</td>\n",
       "      <td>16405.846656</td>\n",
       "      <td>70.960904</td>\n",
       "      <td>Correcto</td>\n",
       "    </tr>\n",
       "    <tr>\n",
       "      <th>6</th>\n",
       "      <td>269</td>\n",
       "      <td>445.517469</td>\n",
       "      <td>11.036275</td>\n",
       "      <td>Correcto</td>\n",
       "    </tr>\n",
       "    <tr>\n",
       "      <th>7</th>\n",
       "      <td>923</td>\n",
       "      <td>1930.248741</td>\n",
       "      <td>402.917221</td>\n",
       "      <td>Correcto</td>\n",
       "    </tr>\n",
       "    <tr>\n",
       "      <th>8</th>\n",
       "      <td>692</td>\n",
       "      <td>1802.628115</td>\n",
       "      <td>181.958976</td>\n",
       "      <td>Correcto</td>\n",
       "    </tr>\n",
       "    <tr>\n",
       "      <th>9</th>\n",
       "      <td>468</td>\n",
       "      <td>32918.172317</td>\n",
       "      <td>56.624681</td>\n",
       "      <td>Correcto</td>\n",
       "    </tr>\n",
       "  </tbody>\n",
       "</table>\n",
       "</div>"
      ],
      "text/plain": [
       "   dimension_A   condicion_A  tiempo_plu status_plu\n",
       "0          950   6160.464722  480.797077   Correcto\n",
       "1          436    663.794912   47.830825   Correcto\n",
       "2          707   4317.074411  202.151649   Correcto\n",
       "3          155    369.956501    2.108075   Correcto\n",
       "4          544   4609.178438   88.756652   Correcto\n",
       "5          496  16405.846656   70.960904   Correcto\n",
       "6          269    445.517469   11.036275   Correcto\n",
       "7          923   1930.248741  402.917221   Correcto\n",
       "8          692   1802.628115  181.958976   Correcto\n",
       "9          468  32918.172317   56.624681   Correcto"
      ]
     },
     "execution_count": 58,
     "metadata": {},
     "output_type": "execute_result"
    }
   ],
   "source": [
    "#Corremos el algoritmo revision_PLU que usa la función PLU para generar 10 ejemplos \n",
    "rev_plu = revision_modular.revision_PLU(10,10**2,10**3+1,-99,99)\n",
    "rev_plu"
   ]
  },
  {
   "cell_type": "markdown",
   "metadata": {},
   "source": [
    "La función revisión_PLU devuelve un data frame con información sobre la dimensión de la matriz A (dimension_A), la condición de la matriz A (condicion_A), el tiempo que tarda en correr el algoritmo PLU (tiempo_plu) y el si el status es correcto o incorrecto al resolver PA=LU (status_plu).\n",
    "\n",
    "En el data frame, se puede observar que:\n",
    "\n",
    "- El algoritmo resolvió la factorización de manera exitosa las 10 veces.\n",
    "- El tiempo de ejecución máximo es de 480.8 segundos y 8 minutos para una matriz de dimensión 950x950 y que el tiempo mínimo de ejecución es de 2.1 segundos para un matriz de 155x155.\n",
    "- El tiempo de ejecución tiene una tendencia monótona creciente al compararlo con la dimensión de la matriz A. Es decir que a mayor tamaño, es mayor el tiempo de ejecución.\n",
    "- Con respecto a la condición de las matrices, ninguna está bien condiconada pues la condición dista mucho del 1."
   ]
  },
  {
   "cell_type": "markdown",
   "metadata": {},
   "source": [
    "### Algoritmo que revisa la solución del sistema lineal de ecuaciones"
   ]
  },
  {
   "cell_type": "code",
   "execution_count": 59,
   "metadata": {},
   "outputs": [
    {
     "data": {
      "text/html": [
       "<div>\n",
       "<style scoped>\n",
       "    .dataframe tbody tr th:only-of-type {\n",
       "        vertical-align: middle;\n",
       "    }\n",
       "\n",
       "    .dataframe tbody tr th {\n",
       "        vertical-align: top;\n",
       "    }\n",
       "\n",
       "    .dataframe thead th {\n",
       "        text-align: right;\n",
       "    }\n",
       "</style>\n",
       "<table border=\"1\" class=\"dataframe\">\n",
       "  <thead>\n",
       "    <tr style=\"text-align: right;\">\n",
       "      <th></th>\n",
       "      <th>dimension_A</th>\n",
       "      <th>condicion_A</th>\n",
       "      <th>tiempo_x</th>\n",
       "      <th>estado_x</th>\n",
       "      <th>error_absoluto</th>\n",
       "      <th>tipo_matriz</th>\n",
       "    </tr>\n",
       "  </thead>\n",
       "  <tbody>\n",
       "    <tr>\n",
       "      <th>0</th>\n",
       "      <td>954</td>\n",
       "      <td>4187.790948</td>\n",
       "      <td>474.786941</td>\n",
       "      <td>Correcto</td>\n",
       "      <td>4.345978e-10</td>\n",
       "      <td>no singular</td>\n",
       "    </tr>\n",
       "    <tr>\n",
       "      <th>1</th>\n",
       "      <td>374</td>\n",
       "      <td>2332.691736</td>\n",
       "      <td>28.621497</td>\n",
       "      <td>Correcto</td>\n",
       "      <td>1.075591e-10</td>\n",
       "      <td>no singular</td>\n",
       "    </tr>\n",
       "    <tr>\n",
       "      <th>2</th>\n",
       "      <td>423</td>\n",
       "      <td>2423.069516</td>\n",
       "      <td>41.448981</td>\n",
       "      <td>Correcto</td>\n",
       "      <td>1.713345e-10</td>\n",
       "      <td>no singular</td>\n",
       "    </tr>\n",
       "    <tr>\n",
       "      <th>3</th>\n",
       "      <td>205</td>\n",
       "      <td>594.314518</td>\n",
       "      <td>4.609567</td>\n",
       "      <td>Correcto</td>\n",
       "      <td>5.451465e-11</td>\n",
       "      <td>no singular</td>\n",
       "    </tr>\n",
       "    <tr>\n",
       "      <th>4</th>\n",
       "      <td>873</td>\n",
       "      <td>785.980084</td>\n",
       "      <td>336.995339</td>\n",
       "      <td>Correcto</td>\n",
       "      <td>1.912129e-10</td>\n",
       "      <td>no singular</td>\n",
       "    </tr>\n",
       "    <tr>\n",
       "      <th>5</th>\n",
       "      <td>850</td>\n",
       "      <td>3171.798365</td>\n",
       "      <td>332.763004</td>\n",
       "      <td>Correcto</td>\n",
       "      <td>3.413496e-10</td>\n",
       "      <td>no singular</td>\n",
       "    </tr>\n",
       "    <tr>\n",
       "      <th>6</th>\n",
       "      <td>266</td>\n",
       "      <td>1168.066656</td>\n",
       "      <td>10.258442</td>\n",
       "      <td>Correcto</td>\n",
       "      <td>2.978974e-11</td>\n",
       "      <td>no singular</td>\n",
       "    </tr>\n",
       "    <tr>\n",
       "      <th>7</th>\n",
       "      <td>725</td>\n",
       "      <td>5405.895149</td>\n",
       "      <td>213.163540</td>\n",
       "      <td>Correcto</td>\n",
       "      <td>1.697044e-10</td>\n",
       "      <td>no singular</td>\n",
       "    </tr>\n",
       "    <tr>\n",
       "      <th>8</th>\n",
       "      <td>888</td>\n",
       "      <td>1798.951061</td>\n",
       "      <td>371.579662</td>\n",
       "      <td>Correcto</td>\n",
       "      <td>1.096124e-10</td>\n",
       "      <td>no singular</td>\n",
       "    </tr>\n",
       "    <tr>\n",
       "      <th>9</th>\n",
       "      <td>387</td>\n",
       "      <td>517.774218</td>\n",
       "      <td>34.546217</td>\n",
       "      <td>Correcto</td>\n",
       "      <td>4.314533e-11</td>\n",
       "      <td>no singular</td>\n",
       "    </tr>\n",
       "  </tbody>\n",
       "</table>\n",
       "</div>"
      ],
      "text/plain": [
       "   dimension_A  condicion_A    tiempo_x  estado_x  error_absoluto  tipo_matriz\n",
       "0          954  4187.790948  474.786941  Correcto    4.345978e-10  no singular\n",
       "1          374  2332.691736   28.621497  Correcto    1.075591e-10  no singular\n",
       "2          423  2423.069516   41.448981  Correcto    1.713345e-10  no singular\n",
       "3          205   594.314518    4.609567  Correcto    5.451465e-11  no singular\n",
       "4          873   785.980084  336.995339  Correcto    1.912129e-10  no singular\n",
       "5          850  3171.798365  332.763004  Correcto    3.413496e-10  no singular\n",
       "6          266  1168.066656   10.258442  Correcto    2.978974e-11  no singular\n",
       "7          725  5405.895149  213.163540  Correcto    1.697044e-10  no singular\n",
       "8          888  1798.951061  371.579662  Correcto    1.096124e-10  no singular\n",
       "9          387   517.774218   34.546217  Correcto    4.314533e-11  no singular"
      ]
     },
     "execution_count": 59,
     "metadata": {},
     "output_type": "execute_result"
    }
   ],
   "source": [
    "#Corremos el algoritmo revision_x que usa la función solve para generar 10 ejemplos \n",
    "rev_x = revision_modular.revision_x(10,10**2,10**3+1,-99,99)\n",
    "rev_x"
   ]
  },
  {
   "cell_type": "markdown",
   "metadata": {},
   "source": [
    "La función revisión_x devuelve un data frame con información sobre la dimensión de la matriz A (dimension_A) , la condición de la matriz A (condicion_A), el tiempo que tarda en correr el algoritmo solve (tiempo_x), el status correcto o incorrecto (estado_x) al resolver el sistema, el error absoluto (error_absoluto) y si la matriz A es singular o no singular (tipo_matriz).\n",
    "\n",
    "En el data frame, se puede observar que:\n",
    "\n",
    "- El algoritmo resolvió la factorización de manera exitosa las 10 veces.\n",
    "- El tiempo de ejecución máximo es de 474.8 segundos y 7.9 minutos para una matriz de dimensión 954x954 y que el tiempo mínimo de ejecución es de 4.6 segundos para un matriz de 205x205.\n",
    "- El tiempo de ejecución tiene una tendencia monótona creciente al compararlo con la dimensión de la matriz A. Es decir que a mayor tamaño, es mayor el tiempo de ejecución.\n",
    "- Con respecto a la condición de las matrices, ninguna está bien condiconada pues la condición dista mucho del 1.\n",
    "- Las 10 matrices A fueron no singulares, por lo que se procedió a la solución. \n",
    "- El error absoluto muestra una precisión de 10 o 11 dígitos correctos."
   ]
  },
  {
   "cell_type": "markdown",
   "metadata": {},
   "source": [
    "### Algoritmo que revisa la solución del sistema por eliminación por bloques"
   ]
  },
  {
   "cell_type": "code",
   "execution_count": 10,
   "metadata": {},
   "outputs": [
    {
     "name": "stdout",
     "output_type": "stream",
     "text": [
      "'Incorrecto para A igual a:'\n",
      "array([[-75,   3, -97, ..., -62,  94, -21],\n",
      "       [-57, -80, -31, ...,  21, -87,  82],\n",
      "       [-40, -51, -34, ..., -51, -29,   5],\n",
      "       ...,\n",
      "       [ 42,  78,  88, ...,  93,  67,  39],\n",
      "       [-62,  40, -89, ..., -35,  23,   7],\n",
      "       [-84,   7, -51, ..., -22, -70,  44]])\n"
     ]
    },
    {
     "data": {
      "text/html": [
       "<div>\n",
       "<style scoped>\n",
       "    .dataframe tbody tr th:only-of-type {\n",
       "        vertical-align: middle;\n",
       "    }\n",
       "\n",
       "    .dataframe tbody tr th {\n",
       "        vertical-align: top;\n",
       "    }\n",
       "\n",
       "    .dataframe thead th {\n",
       "        text-align: right;\n",
       "    }\n",
       "</style>\n",
       "<table border=\"1\" class=\"dataframe\">\n",
       "  <thead>\n",
       "    <tr style=\"text-align: right;\">\n",
       "      <th></th>\n",
       "      <th>dimension_A</th>\n",
       "      <th>condicion_A</th>\n",
       "      <th>tiempo_bloques</th>\n",
       "      <th>solucion_bloques</th>\n",
       "      <th>error_absoluto</th>\n",
       "      <th>tipo_matriz</th>\n",
       "    </tr>\n",
       "  </thead>\n",
       "  <tbody>\n",
       "    <tr>\n",
       "      <th>0</th>\n",
       "      <td>930</td>\n",
       "      <td>18105.154650</td>\n",
       "      <td>203.463456</td>\n",
       "      <td>Correcto</td>\n",
       "      <td>1.662530e-09</td>\n",
       "      <td>no singular</td>\n",
       "    </tr>\n",
       "    <tr>\n",
       "      <th>1</th>\n",
       "      <td>293</td>\n",
       "      <td>207.560705</td>\n",
       "      <td>6.488861</td>\n",
       "      <td>Correcto</td>\n",
       "      <td>1.218653e-10</td>\n",
       "      <td>no singular</td>\n",
       "    </tr>\n",
       "    <tr>\n",
       "      <th>2</th>\n",
       "      <td>648</td>\n",
       "      <td>2324.582880</td>\n",
       "      <td>71.174866</td>\n",
       "      <td>Correcto</td>\n",
       "      <td>5.924319e-11</td>\n",
       "      <td>no singular</td>\n",
       "    </tr>\n",
       "    <tr>\n",
       "      <th>3</th>\n",
       "      <td>891</td>\n",
       "      <td>2228.878259</td>\n",
       "      <td>181.762999</td>\n",
       "      <td>Correcto</td>\n",
       "      <td>1.836509e-10</td>\n",
       "      <td>no singular</td>\n",
       "    </tr>\n",
       "    <tr>\n",
       "      <th>4</th>\n",
       "      <td>365</td>\n",
       "      <td>14125.992612</td>\n",
       "      <td>11.289088</td>\n",
       "      <td>Correcto</td>\n",
       "      <td>3.800165e-10</td>\n",
       "      <td>no singular</td>\n",
       "    </tr>\n",
       "    <tr>\n",
       "      <th>5</th>\n",
       "      <td>866</td>\n",
       "      <td>3946.759034</td>\n",
       "      <td>162.291712</td>\n",
       "      <td>Correcto</td>\n",
       "      <td>1.237399e-10</td>\n",
       "      <td>no singular</td>\n",
       "    </tr>\n",
       "    <tr>\n",
       "      <th>6</th>\n",
       "      <td>161</td>\n",
       "      <td>681.569861</td>\n",
       "      <td>1.138721</td>\n",
       "      <td>Correcto</td>\n",
       "      <td>2.772573e-12</td>\n",
       "      <td>no singular</td>\n",
       "    </tr>\n",
       "    <tr>\n",
       "      <th>7</th>\n",
       "      <td>417</td>\n",
       "      <td>1306.396387</td>\n",
       "      <td>17.374909</td>\n",
       "      <td>Correcto</td>\n",
       "      <td>3.637412e-11</td>\n",
       "      <td>no singular</td>\n",
       "    </tr>\n",
       "    <tr>\n",
       "      <th>8</th>\n",
       "      <td>992</td>\n",
       "      <td>26312.485760</td>\n",
       "      <td>233.856070</td>\n",
       "      <td>Correcto</td>\n",
       "      <td>1.331493e-09</td>\n",
       "      <td>no singular</td>\n",
       "    </tr>\n",
       "    <tr>\n",
       "      <th>9</th>\n",
       "      <td>970</td>\n",
       "      <td>35648.907568</td>\n",
       "      <td>208.470082</td>\n",
       "      <td>Incorrecto</td>\n",
       "      <td>4.107972e-08</td>\n",
       "      <td>no singular</td>\n",
       "    </tr>\n",
       "  </tbody>\n",
       "</table>\n",
       "</div>"
      ],
      "text/plain": [
       "   dimension_A   condicion_A  tiempo_bloques solucion_bloques  error_absoluto  \\\n",
       "0          930  18105.154650      203.463456         Correcto    1.662530e-09   \n",
       "1          293    207.560705        6.488861         Correcto    1.218653e-10   \n",
       "2          648   2324.582880       71.174866         Correcto    5.924319e-11   \n",
       "3          891   2228.878259      181.762999         Correcto    1.836509e-10   \n",
       "4          365  14125.992612       11.289088         Correcto    3.800165e-10   \n",
       "5          866   3946.759034      162.291712         Correcto    1.237399e-10   \n",
       "6          161    681.569861        1.138721         Correcto    2.772573e-12   \n",
       "7          417   1306.396387       17.374909         Correcto    3.637412e-11   \n",
       "8          992  26312.485760      233.856070         Correcto    1.331493e-09   \n",
       "9          970  35648.907568      208.470082       Incorrecto    4.107972e-08   \n",
       "\n",
       "   tipo_matriz  \n",
       "0  no singular  \n",
       "1  no singular  \n",
       "2  no singular  \n",
       "3  no singular  \n",
       "4  no singular  \n",
       "5  no singular  \n",
       "6  no singular  \n",
       "7  no singular  \n",
       "8  no singular  \n",
       "9  no singular  "
      ]
     },
     "execution_count": 10,
     "metadata": {},
     "output_type": "execute_result"
    }
   ],
   "source": [
    "#Corremos el algoritmo revision_bloques que usa la función solve_blocks para generar 10 ejemplos \n",
    "bloques=revision_modular.revision_bloques(10,10**2,10**3+1,-99,99)\n",
    "bloques"
   ]
  },
  {
   "cell_type": "markdown",
   "metadata": {},
   "source": [
    "La función revisión_x devuelve un data frame con información sobre la dimensión de la matriz A (dimension_A) , la condición de la matriz A (condicion_A), el tiempo que tarda en correr el algoritmo solve (tiempo_x), el status correcto o incorrecto (estado_x) al resolver el sistema, el error absoluto (error_absoluto) y si la matriz A es singular o no singular (tipo_matriz).\n",
    "\n",
    "En el data frame, se puede observar que:\n",
    "\n",
    "- El algoritmo resolvió la factorización de manera exitosa las 10 veces.\n",
    "- El tiempo de ejecución máximo es de 474.8 segundos y 7.9 minutos para una matriz de dimensión 954x954 y que el tiempo mínimo de ejecución es de 4.6 segundos para un matriz de 205x205.\n",
    "- El tiempo de ejecución tiene una tendencia monótona creciente al compararlo con la dimensión de la matriz A. Es decir que a mayor tamaño, es mayor el tiempo de ejecución.\n",
    "- Con respecto a la condición de las matrices, ninguna está bien condiconada pues la condición dista mucho del 1.\n",
    "- Las 10 matrices A fueron no singulares, por lo que se procedió a la solución. \n",
    "- El error absoluto muestra una precisión de 10 o 11 dígitos correctos."
   ]
  },
  {
   "cell_type": "markdown",
   "metadata": {},
   "source": [
    "# 6. Resultados finales\n",
    "\n",
    "Los parámetros que se evaluaron son: dimensión de la matriz A, número condición de A, tiempo de cada bloque, solución  correcta o incorrecta, error absoluto y tipo de matriz obtenida.\n",
    "\n",
    "con base en las corridas anteriores, mostraremos ciertas gráficas que nos ayudarán a evaluar el desempeño de los algoritmos."
   ]
  },
  {
   "cell_type": "markdown",
   "metadata": {},
   "source": [
    "### Dimensión de la matriz $A$ vs tiempo de ejecución en el algoritmo por bloques:"
   ]
  },
  {
   "cell_type": "code",
   "execution_count": 49,
   "metadata": {},
   "outputs": [],
   "source": [
    "bloques.sort_values(by=['dimension_A'],inplace=True)\n",
    "dimension = bloques['dimension_A']\n",
    "tiempo=bloques['tiempo_bloques']"
   ]
  },
  {
   "cell_type": "code",
   "execution_count": 50,
   "metadata": {},
   "outputs": [
    {
     "data": {
      "image/png": "[encoded data removed]",
      "text/plain": [
       "<Figure size 432x288 with 1 Axes>"
      ]
     },
     "metadata": {
      "needs_background": "light"
     },
     "output_type": "display_data"
    }
   ],
   "source": [
    "import matplotlib.pyplot as plt\n",
    "plt.plot(tiempo,dimension,'o-')\n",
    "plt.title('Gráfica dimension de matriz contra el tiempo de ejecución')\n",
    "plt.xlabel('dimension')\n",
    "plt.ylabel('tiempo_bloques')\n",
    "plt.grid()\n",
    "plt.show()"
   ]
  },
  {
   "cell_type": "markdown",
   "metadata": {},
   "source": [
    "### Número de condición de la matriz $A$ y el tiempo de ejecución en el algoritmo por bloques:"
   ]
  },
  {
   "cell_type": "code",
   "execution_count": 56,
   "metadata": {},
   "outputs": [],
   "source": [
    "bloques.sort_values(by=['condicion_A'],inplace=True)\n",
    "condicion = bloques['condicion_A']\n",
    "tiempo=bloques['tiempo_bloques']"
   ]
  },
  {
   "cell_type": "code",
   "execution_count": 57,
   "metadata": {},
   "outputs": [
    {
     "data": {
      "image/png": "[encoded data removed]",
      "text/plain": [
       "<Figure size 432x288 with 1 Axes>"
      ]
     },
     "metadata": {
      "needs_background": "light"
     },
     "output_type": "display_data"
    }
   ],
   "source": [
    "import matplotlib.pyplot as plt\n",
    "plt.plot(tiempo,condicion,'o-')\n",
    "plt.title('Gráfica condicion de matriz contra el tiempo de ejecución')\n",
    "plt.xlabel('condicion')\n",
    "plt.ylabel('tiempo_bloques')\n",
    "plt.grid()\n",
    "plt.show()"
   ]
  },
  {
   "cell_type": "markdown",
   "metadata": {},
   "source": [
    "### Dimensión de la matriz $A$ y el error relativo en el algoritmo por bloques:"
   ]
  },
  {
   "cell_type": "code",
   "execution_count": 53,
   "metadata": {},
   "outputs": [],
   "source": [
    "bloques.sort_values(by=['dimension_A'],inplace=True)\n",
    "dimension = bloques['dimension_A']\n",
    "error_abs=bloques['error_absoluto']"
   ]
  },
  {
   "cell_type": "code",
   "execution_count": 55,
   "metadata": {},
   "outputs": [
    {
     "data": {
      "image/png": "[encoded data removed]",
      "text/plain": [
       "<Figure size 432x288 with 1 Axes>"
      ]
     },
     "metadata": {
      "needs_background": "light"
     },
     "output_type": "display_data"
    }
   ],
   "source": [
    "import matplotlib.pyplot as plt\n",
    "plt.plot(error_abs,dimension,'o-')\n",
    "plt.title('Gráfica dimension de matriz contra el tiempo de ejecución')\n",
    "plt.xlabel('Error absoluto')\n",
    "plt.ylabel('tiempo bloques')\n",
    "plt.grid()\n",
    "plt.show()"
   ]
  },
  {
   "cell_type": "markdown",
   "metadata": {},
   "source": [
    "Se puede observar en la gráfica que "
   ]
  },
  {
   "cell_type": "markdown",
   "metadata": {},
   "source": [
    "# 7. Pruebas Unitarias\n",
    "Finalmente, se corrió una prueba unitaria, que puede ser encontrada en el siguiente notebook: [Unit Testing](notebooks/Programacion/UnitTestingPLU.ipynb).\n",
    "\n",
    "Los resultados fueron los siguientes:\n",
    "![Unit_Testing_Results](../img/resultado_prueba_unitaria.JPG)"
   ]
  },
  {
   "cell_type": "markdown",
   "metadata": {},
   "source": [
    "# 8. Conclusiones"
   ]
  },
  {
   "cell_type": "code",
   "execution_count": null,
   "metadata": {},
   "outputs": [],
   "source": []
  }
 ],
 "metadata": {
  "kernelspec": {
   "display_name": "Python 3",
   "language": "python",
   "name": "python3"
  },
  "language_info": {
   "codemirror_mode": {
    "name": "ipython",
    "version": 3
   },
   "file_extension": ".py",
   "mimetype": "text/x-python",
   "name": "python",
   "nbconvert_exporter": "python",
   "pygments_lexer": "ipython3",
   "version": "3.7.3"
  }
 },
 "nbformat": 4,
 "nbformat_minor": 2
}
