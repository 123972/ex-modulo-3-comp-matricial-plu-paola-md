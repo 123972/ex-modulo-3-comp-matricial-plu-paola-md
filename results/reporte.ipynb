{
 "cells": [
  {
   "cell_type": "markdown",
   "metadata": {},
   "source": [
    "# Método de Factorización PLU por Bloques: Reporte final"
   ]
  },
  {
   "cell_type": "markdown",
   "metadata": {},
   "source": [
    "El objetivo de este proyecto es programar el método de factorización PLU por bloques para resolver ecuaciones lineales de tamaño mediano a grande. El lenguaje de su implementación es Python y la plataforma para trabajarlo en equipo, Github.\n",
    "\n",
    "**Nota:**  El siguiente reporte se corrió con una computadora con las siguientes especificaciones: \n",
    "- MacBook Pro (13-inch, 2019, Four Thunderbolt 3 ports)\n",
    "- Procesador: 2.4 GHz Quad-Core Intel Core i7\n",
    "- Memoria RAM: 8 GB 2133 MHz LPDDR3"
   ]
  },
  {
   "cell_type": "markdown",
   "metadata": {},
   "source": [
    "# Tabla de contenidos"
   ]
  },
  {
   "cell_type": "markdown",
   "metadata": {},
   "source": [
    "1. [Introducción: Breve Explicación sobre la Factorización PLU](#1.-Introducción:-Breve-Explicación-sobre-la-Factorización-PLU)\n",
    "2. [Programación del Código en Python](#2.-Programación-del-Código-en-Python)\n",
    "3. [Revisión del Código en Python](#3.-Revisión-del-Código-en-Python)\n",
    "4. [Implementación del Algoritmo de Programación](#4.-Implementación-del-Algoritmo-de-Programación)\n",
    "5. [Implementación del Algoritmo de Revisión](#5.-Implementación-del-Algoritmo-de-Revisión)\n",
    "6. [Resultados Finales](#6.-Resultados-Finales)\n",
    "7. [Pruebas Unitarias](#7.-Pruebas-Unitarias)\n",
    "8. [Conclusiones](#8.-Conclusiones)"
   ]
  },
  {
   "cell_type": "markdown",
   "metadata": {},
   "source": [
    "# 1. Introducción: Breve Explicación sobre la Factorización PLU\n",
    "\n",
    "*La siguiente explicación sobre la factorización no tiene intenciones de ser amplia y completa, sino una breve síntesis general.\n",
    "Nota generada a partir de la siguiente [liga](https://github.com/ITAM-DS/analisis-numerico-computo-cientifico/blob/master/temas/III.computo_matricial/3.3.a.Factorizacion_LU.ipynb)\n",
    "\n",
    "### Factorización LU simple\n",
    "La factorización $LU$ de una matriz resume el proceso de [eliminación Gaussiana](https://en.wikipedia.org/wiki/Gaussian_elimination) aplicada a una matriz, lo cual es conveniente en términos del número total de operaciones de punto flotante cuando se desea calcular la inversa de una matriz o cuando se resolverá una serie de sistema de ecuaciones con una misma matriz de coeficientes. \n",
    "\n",
    "### Factorización PLU\n",
    "Frecuentemente no es posible escalonar una matriz solamente con operaciones de eliminación, por lo se requiere realizar un intercambio de renglones; para este tipo de matrices no existe la factorización $LU$ y lo que se aplica es la factorización $PA = LU$, donde la matriz P es una matriz de permutación, que se obtiene a partir de la matriz identidad al realizar el mismo intercambio de renglones. Ver [Factorización PLU](http://cb.mty.itesm.mx/ma1010/materiales/ma1010-26.pdf).\n",
    "\n",
    "**Teorema**\n",
    "\n",
    "Si $A \\in  \\mathbb{R}^{n \\times n}$ es no singular, existen matrices $P, L, U$ de permutación, triangular inferior con $1$'s en la diagonal y triangular superior invertible respectivamente, tales que $PA = LU$.\n",
    "\n",
    "Se puede demostrar que si $A$ es no singular, $L$ y $U$ existen y son únicas.\n",
    "\n",
    "En la sección de la factorización $PLU$ se aplicaron recursivamente los pasos de la eliminación Gaussiana para que los elementos de las matrices $L$ y $U$ se calculen de forma iterativa utilizando un vector pivote.\n",
    "\n",
    "### Factorización PLU por bloques\n",
    "\n",
    "Para aprovechar de una forma más eficiente el uso de la memoria y del caché al momento de realizar el cálculo de la factorización $LU$, se puede determinar la partición de la matriz $A$, tomando submatrices de tamaño $k \\times k$, de modo que podemos realizar una partición de las matrices para realizar una evaluación más eficiente en tiempo del método correspondiente. Un ejemplo gráfico se puede encontrar de la siguiente manera:\n",
    "\n",
    "Una matriz de la forma:\n",
    "\n",
    "![PLU_por_bloques_1](../img/PLU_por_bloques_1.JPG)\n",
    "\n",
    "Fuente:[Paralelización de la Factorización de Matrices en Clusters](http://sedici.unlp.edu.ar/bitstream/handle/10915/23049/Art_C121.pdf?sequence=1) \n",
    "\n",
    "Puede factorizarse de la siguiente forma en bloques o sub particiones: \n",
    "\n",
    "<img src=\"../img/PLU_por_bloques_2.JPG\" alt=\"300\" width=\"500\"/>\n",
    "\n",
    "Fuente:[Paralelización de la Factorización de Matrices en Clusters](http://sedici.unlp.edu.ar/bitstream/handle/10915/23049/Art_C121.pdf?sequence=1) \n",
    "\n",
    "\n"
   ]
  },
  {
   "cell_type": "markdown",
   "metadata": {},
   "source": [
    "# 2. Programación del Código en Python"
   ]
  },
  {
   "cell_type": "markdown",
   "metadata": {},
   "source": [
    "Todas las librerías que se necesitan para correr el código se encuentran en el archivo **Requirements.txt**, que puede ser usado para instalarlas.\n",
    "\n",
    "En el equipo de programación se implementó el código como si fuera una paquetería que puede ser instalada mediante el uso de un install desde la raíz con el siguiente comando:\n",
    "\n",
    "    sudo python setup.py install\n",
    "\n",
    "En este caso, se realizará la importación normal"
   ]
  },
  {
   "cell_type": "code",
   "execution_count": 1,
   "metadata": {},
   "outputs": [],
   "source": [
    "#Standard library modules\n",
    "import numpy as np\n",
    "import scipy\n",
    "from math import ceil\n",
    "from scipy.linalg import solve_triangular\n",
    "\n",
    "import sys\n",
    "sys.path.append('../notebooks/Programacion/') #Para poder importar la anterior versión de factorizacion_PLU\n",
    "#sys.path.append('./../../')\n",
    "sys.path.append('./../')\n",
    "\n",
    "\n",
    "# OPTIONAL: Load the \"autoreload\" extension so that code can change\n",
    "%load_ext autoreload\n",
    "\n",
    "#Own Library modules\n",
    "import src\n",
    "# OPTIONAL: always reload modules so that as you change code in src, it gets loaded\n",
    "%autoreload 2\n",
    "\n",
    "#Funciones de programación\n",
    "from src.algorithms import TodoJunto\n",
    "\n",
    "#Funciones de revisión\n",
    "from src.test_algorithms import revision_modular\n",
    "\n",
    "import numpy as np"
   ]
  },
  {
   "cell_type": "markdown",
   "metadata": {},
   "source": [
    "La programación consistió básicamente en crear funciones que hicieran a grandes razgos, lo siguiente:\n",
    "* validate: valida que una matriz sea cuadrada\n",
    "* forward_substitution: Algoritmo de Forward substitution orientado a filas\n",
    "* backward_substitution: Algoritmo de Backward substitution orientado a filas\n",
    "* get_P: Esta función obtiene la matriz pivote derivada del intercambio de elementos en la matriz identidad original\n",
    "* PLU: Esta función desarrolla la factorización $PA = LU$, donde P es la matriz de permutación codificada por piv(l:n - 1), guarda los índices fila de los pivotes, de tal modo que la columnas intercambiadas se guardan en el vector $P$.\n",
    "* solve: Esta función resuelve un sistema de ecuaciones de la forma $Ax = b$ con la factorización $PLU$.\n",
    "* solve_blocks: Esta función resuelve un sistema de ecuaciones de la forma $Ax = b$ con la factorización $PLU$ y por bloques.\n",
    " "
   ]
  },
  {
   "cell_type": "markdown",
   "metadata": {},
   "source": [
    "El script que corresponde a la programción se llama TodoJunto.py y se encuentra en [Factorización PLU](src/algorithms/TodoJunto.py).\n",
    "* Para más información sobre los siguientes códigos, se pueden consultar los notebooks correspondientes:\n",
    "    - [Algoritmos intermedios y finales para la computación de PLU](notebooks/Programacion/FactorizacionPLU.ipynb)\n",
    "    - [Algoritmo de eliminación por bloques](notebooks/Programacion/EliminacionPorBloques.ipynb)"
   ]
  },
  {
   "cell_type": "markdown",
   "metadata": {},
   "source": [
    "# 3. Revisión del código en Python\n",
    "Para verificar el correcto funcionamiento del algoritmo, el equipo de revisión implementó también algunas funciones para probar el código anteriormente mencionado, tales como: \n",
    "* crea_matrices: crea matrices de forma aleatoria. La función devuelve una matriz $A$ cuadrada de dimensión $n \\times n$\n",
    "* factoriza_plu: ejecuta el algoritmo de $PLU$ y mide el tiempo de ejecución total del algoritmo.\n",
    "* resuelve_bloques: ejecuta el algoritmo de SEL por medio de bloques y mide el tiempo de ejecución total del algoritmo.\n",
    "* solve_A_b: ejecuta el algoritmo que resuelve un sistema de ecuaciones de la forma $Ax = b$ con la factorización $PLU$ y mide el tiempo de ejecución total del algoritmo.\n",
    "* condicion: calcula la condición de la matriz cuadrada $A$.\n",
    "* revision_PLU: el objetivo principal de esta función es revisar que la igualdad $PA=LU$ se cumpla y generar un data frame con información sobre la dimensión y condición de la matriz $A$, el tiempo de ejecución del algoritmo $PLU$ y el estado de la verificación de la igualdad (Ej: Correcto o Incorrecto).\n",
    "* revision_x: el objetivo principal de esta función es verificar que la solución estimada del sistema de ecuaciones x_est sea la correcta al compararla con la x_real y generar un data frame con información sobre la dimensión y condición de la matriz $A$, el tiempo de ejecución del algoritmo solve que resuelve el sistema, el estado de la verificación de la solución (Ej: Correcto o Incorrecto), el error absoluto entre x_est y x_real y el tipo de matriz $A$.\n",
    "* revision_bloques: el objetivo principal de esta función es verificar que la solución estimada del sistema de ecuaciones solucion_bloques, del algoritmo por bloques, sea la correcta al compararla con la solucion_real y generar un data frame con información sobre la dimensión y condición de la matriz $A$, el tiempo de ejecución del algoritmo solve_blocks que resuelve el sistema, el estado de la verificación de la solución (Ej: Correcto o Incorrecto), el error absoluto entre solucion_bloques y solucion_real y el tipo de matriz.\n",
    "\n",
    "\n",
    "El script que corresponde a la programción se llama revision_modular.py y se encuentra en [Revisión Modular](notebooks/Revision/revision_modular.py).\n",
    "* Para más información sobre el proceso histórico seguido por el equipo de revisión, se puede consultar el siguiente notebook [Procedimiento Revisión](notebooks/Revision/Procedimiento_revision.ipynb).\n"
   ]
  },
  {
   "cell_type": "markdown",
   "metadata": {},
   "source": [
    "# 4. Implementación del algoritmo de programación"
   ]
  },
  {
   "cell_type": "markdown",
   "metadata": {},
   "source": [
    "En este sección, se realiza una corrida completa de los algoritmos de programación, con matrices pequeñas, para ejemplificar su implementación:\n",
    "\n",
    "- Primero, se prueba el algoritmo que realiza la factorización PLU.\n",
    "- Segundo, se prueba el algoritmo que resuelve el sistema lineal de ecuaciones.\n",
    "- Tercero, se prueba el algorimo que resuleve el sistema por eliminación por bloques."
   ]
  },
  {
   "cell_type": "markdown",
   "metadata": {},
   "source": [
    "### Algoritmo que realiza la factorización PLU"
   ]
  },
  {
   "cell_type": "code",
   "execution_count": 2,
   "metadata": {},
   "outputs": [
    {
     "data": {
      "text/plain": [
       "array([[ 91, -66,  49, -65, -34,  17, -41, -77, -11, -76],\n",
       "       [-24, -70,  33,  90, -28,   6, -81, -57,  71,  11],\n",
       "       [-73,   0,  56,   9, -55, -49,  75, -79, -73,  68],\n",
       "       [ 73,  96, -16,  19,  49, -37, -77,  80, -15,  97],\n",
       "       [-52, -78,  46,  87, -69,  86,  12,  55,  89,  27],\n",
       "       [ 26,  24, -37, -89, -43, -17, -54, -87, -47,  94],\n",
       "       [ 59, -83,  11, -55, -90,  97,  65, -54, -10, -40],\n",
       "       [ 31,  60,  63,  37,  -5,  79, -10,  97,  82, -22],\n",
       "       [-34, -41,  42, -40,   8, -45,  65,  19, -86,  23],\n",
       "       [-90, -16, -35, -16, -88,  97,  12,  90,  39, -63]])"
      ]
     },
     "execution_count": 2,
     "metadata": {},
     "output_type": "execute_result"
    }
   ],
   "source": [
    "# Para ejemplificar, creamos una matriz aleatoria de tamaño 10x10\n",
    "n=np.random.randint(10, 10+1)\n",
    "A=np.array(np.random.randint(-90,99, size=(n, n)))\n",
    "A"
   ]
  },
  {
   "cell_type": "code",
   "execution_count": 3,
   "metadata": {},
   "outputs": [],
   "source": [
    "# Calculamos la factorización PLU llamando a la función PLU\n",
    "P, L, U = TodoJunto.PLU(A)"
   ]
  },
  {
   "cell_type": "code",
   "execution_count": 4,
   "metadata": {},
   "outputs": [
    {
     "data": {
      "text/plain": [
       "array([[1., 0., 0., 0., 0., 0., 0., 0., 0., 0.],\n",
       "       [0., 0., 0., 1., 0., 0., 0., 0., 0., 0.],\n",
       "       [0., 0., 0., 0., 0., 0., 0., 1., 0., 0.],\n",
       "       [0., 1., 0., 0., 0., 0., 0., 0., 0., 0.],\n",
       "       [0., 0., 0., 0., 0., 0., 0., 0., 0., 1.],\n",
       "       [0., 0., 1., 0., 0., 0., 0., 0., 0., 0.],\n",
       "       [0., 0., 0., 0., 0., 0., 1., 0., 0., 0.],\n",
       "       [0., 0., 0., 0., 0., 1., 0., 0., 0., 0.],\n",
       "       [0., 0., 0., 0., 0., 0., 0., 0., 1., 0.],\n",
       "       [0., 0., 0., 0., 1., 0., 0., 0., 0., 0.]])"
      ]
     },
     "execution_count": 4,
     "metadata": {},
     "output_type": "execute_result"
    }
   ],
   "source": [
    "# Resultado de la matriz P\n",
    "P"
   ]
  },
  {
   "cell_type": "code",
   "execution_count": 5,
   "metadata": {},
   "outputs": [
    {
     "data": {
      "text/plain": [
       "array([[ 1.        ,  0.        ,  0.        ,  0.        ,  0.        ,\n",
       "         0.        ,  0.        ,  0.        ,  0.        ,  0.        ],\n",
       "       [ 0.8021978 ,  1.        ,  0.        ,  0.        ,  0.        ,\n",
       "         0.        ,  0.        ,  0.        ,  0.        ,  0.        ],\n",
       "       [ 0.34065934,  0.55378486,  1.        ,  0.        ,  0.        ,\n",
       "         0.        ,  0.        ,  0.        ,  0.        ,  0.        ],\n",
       "       [-0.26373626, -0.58683783,  0.17503361,  1.        ,  0.        ,\n",
       "         0.        ,  0.        ,  0.        ,  0.        ,  0.        ],\n",
       "       [-0.98901099, -0.54566918, -0.21729891, -0.33445378,  1.        ,\n",
       "         0.        ,  0.        ,  0.        ,  0.        ,  0.        ],\n",
       "       [-0.8021978 , -0.35546702,  0.98325077, -0.33529539,  0.18535477,\n",
       "         1.        ,  0.        ,  0.        ,  0.        ,  0.        ],\n",
       "       [ 0.64835165, -0.26995721, -0.46401974,  0.1395448 ,  0.79303542,\n",
       "        -0.26468344,  1.        ,  0.        ,  0.        ,  0.        ],\n",
       "       [ 0.28571429,  0.28773794, -0.4560383 , -0.7367906 ,  0.736253  ,\n",
       "         0.32168671, -0.19801159,  1.        ,  0.        ,  0.        ],\n",
       "       [-0.37362637, -0.44082928,  0.46696375, -0.37916248, -0.61272847,\n",
       "         0.34713017, -0.42916679, -0.95065332,  1.        ,  0.        ],\n",
       "       [-0.57142857, -0.77689243,  0.40334524,  0.8741616 ,  0.32576556,\n",
       "        -0.09080488,  0.44201252, -0.70015161, -0.76993093,  1.        ]])"
      ]
     },
     "execution_count": 5,
     "metadata": {},
     "output_type": "execute_result"
    }
   ],
   "source": [
    "# Resultado de la matriz L\n",
    "L"
   ]
  },
  {
   "cell_type": "code",
   "execution_count": 6,
   "metadata": {},
   "outputs": [
    {
     "data": {
      "text/plain": [
       "array([[  91.        ,  -66.        ,   49.        ,  -65.        ,\n",
       "         -34.        ,   17.        ,  -41.        ,  -77.        ,\n",
       "         -11.        ,  -76.        ],\n",
       "       [   0.        ,  148.94505495,  -55.30769231,   71.14285714,\n",
       "          76.27472527,  -50.63736264,  -44.10989011,  141.76923077,\n",
       "          -6.17582418,  157.96703297],\n",
       "       [   0.        ,    0.        ,   76.93625498,   19.74501992,\n",
       "         -35.65737052,  101.25099602,   28.39442231,   44.72111554,\n",
       "          89.16733068,  -83.58964143],\n",
       "       [   0.        ,    0.        ,    0.        ,  111.15042089,\n",
       "          14.03509993,  -36.95473123, -122.66851746,   -1.93984238,\n",
       "          48.86741389,   98.28807224],\n",
       "       [   0.        ,    0.        ,    0.        ,    0.        ,\n",
       "         -83.05982269,   95.82402035,  -87.47573064,  100.27431512,\n",
       "          60.4707775 ,  -37.25821497],\n",
       "       [   0.        ,    0.        ,    0.        ,    0.        ,\n",
       "           0.        , -183.06985996,  -26.40470259, -153.5837591 ,\n",
       "        -166.51685268,  185.23614214],\n",
       "       [   0.        ,    0.        ,    0.        ,    0.        ,\n",
       "           0.        ,    0.        ,  172.35042587,  -64.95528305,\n",
       "         -62.00885378,   77.99225495],\n",
       "       [   0.        ,    0.        ,    0.        ,    0.        ,\n",
       "           0.        ,    0.        ,    0.        , -124.11041127,\n",
       "          31.35464109,   87.84566431],\n",
       "       [   0.        ,    0.        ,    0.        ,    0.        ,\n",
       "           0.        ,    0.        ,    0.        ,    0.        ,\n",
       "         -17.89115352,  170.39360584],\n",
       "       [   0.        ,    0.        ,    0.        ,    0.        ,\n",
       "           0.        ,    0.        ,    0.        ,    0.        ,\n",
       "           0.        ,  241.27147193]])"
      ]
     },
     "execution_count": 6,
     "metadata": {},
     "output_type": "execute_result"
    }
   ],
   "source": [
    "# Resultado de la matriz U\n",
    "U"
   ]
  },
  {
   "cell_type": "markdown",
   "metadata": {},
   "source": [
    "### Algoritmo que resuelve el sistema lineal de ecuaciones"
   ]
  },
  {
   "cell_type": "code",
   "execution_count": 7,
   "metadata": {},
   "outputs": [
    {
     "data": {
      "text/plain": [
       "array([[-40],\n",
       "       [ 58],\n",
       "       [ 58],\n",
       "       [-18],\n",
       "       [-33],\n",
       "       [-17],\n",
       "       [-68],\n",
       "       [-22],\n",
       "       [ 47],\n",
       "       [-58]])"
      ]
     },
     "execution_count": 7,
     "metadata": {},
     "output_type": "execute_result"
    }
   ],
   "source": [
    "# Generamos un vector b aleatorio con las soluciones de tamaño 1x10\n",
    "b=np.array(np.random.randint(-90,99, size=(n, 1)))\n",
    "b"
   ]
  },
  {
   "cell_type": "code",
   "execution_count": 8,
   "metadata": {},
   "outputs": [
    {
     "data": {
      "text/plain": [
       "array([[-1.47772953],\n",
       "       [ 0.18754978],\n",
       "       [ 0.85769209],\n",
       "       [ 0.95029474],\n",
       "       [ 2.60572381],\n",
       "       [ 3.21549985],\n",
       "       [-1.27666834],\n",
       "       [-1.10361817],\n",
       "       [-2.700819  ],\n",
       "       [ 0.085605  ]])"
      ]
     },
     "execution_count": 8,
     "metadata": {},
     "output_type": "execute_result"
    }
   ],
   "source": [
    "# Resolvemos el sistema llamando a la función solve\n",
    "TodoJunto.solve(A,b)"
   ]
  },
  {
   "cell_type": "markdown",
   "metadata": {},
   "source": [
    "### Algoritmo que resuelve el sistema por eliminación por bloques"
   ]
  },
  {
   "cell_type": "code",
   "execution_count": 9,
   "metadata": {},
   "outputs": [
    {
     "name": "stdout",
     "output_type": "stream",
     "text": [
      "[[-1.47772953  3.21549985]\n",
      " [ 0.18754978 -1.27666834]\n",
      " [ 0.85769209 -1.10361817]\n",
      " [ 0.95029474 -2.700819  ]\n",
      " [ 2.60572381  0.085605  ]]\n"
     ]
    }
   ],
   "source": [
    "#Resolvemos el sistema llamando a la función solve_blocks\n",
    "\n",
    "x_nuestra = TodoJunto.solve_blocks(A,b)\n",
    "print(x_nuestra)"
   ]
  },
  {
   "cell_type": "markdown",
   "metadata": {},
   "source": [
    "Se puede observar que las dos formas de resolver el algoritmo (sin bloques usando solve y con bloques usando solve_blocks) dan el mismo vector x de respuesta. No obstante, hasta esta parte solo sabemos que ambas funciones dan el mismo vector, no si están resolviendo el sistema de forma satisfactoria. Para ello, hay que pasar a la sección de revisión. \n"
   ]
  },
  {
   "cell_type": "markdown",
   "metadata": {},
   "source": [
    "# 5. Implementación del Algoritmo de Revisión"
   ]
  },
  {
   "cell_type": "markdown",
   "metadata": {},
   "source": [
    "En este sección, se realiza una corrida completa de los algoritmos de revisión, con matrices medianas y grandes, para ejemplificar su implementación:\n",
    "\n",
    "- Primero, se prueba el algoritmo que revisa la factorización PLU.\n",
    "- Segundo, se prueba el algoritmo que revisa la solución del sistema lineal de ecuaciones.\n",
    "- Tercero, se prueba el algorimo que revisa  la solución del sistema por eliminación por bloques.\n",
    "\n",
    "Las funciones de revisión llaman a las funciones de programación, corren los algoritmos para múltiples matrices aletatorias de distintos tamaños y entregan un data frame con las características de cada corrida. "
   ]
  },
  {
   "cell_type": "markdown",
   "metadata": {},
   "source": [
    "### Algoritmo que revisa la factorización PLU"
   ]
  },
  {
   "cell_type": "code",
   "execution_count": 10,
   "metadata": {},
   "outputs": [
    {
     "data": {
      "text/html": [
       "<div>\n",
       "<style scoped>\n",
       "    .dataframe tbody tr th:only-of-type {\n",
       "        vertical-align: middle;\n",
       "    }\n",
       "\n",
       "    .dataframe tbody tr th {\n",
       "        vertical-align: top;\n",
       "    }\n",
       "\n",
       "    .dataframe thead th {\n",
       "        text-align: right;\n",
       "    }\n",
       "</style>\n",
       "<table border=\"1\" class=\"dataframe\">\n",
       "  <thead>\n",
       "    <tr style=\"text-align: right;\">\n",
       "      <th></th>\n",
       "      <th>dimension_A</th>\n",
       "      <th>condicion_A</th>\n",
       "      <th>tiempo_plu</th>\n",
       "      <th>status_plu</th>\n",
       "    </tr>\n",
       "  </thead>\n",
       "  <tbody>\n",
       "    <tr>\n",
       "      <th>0</th>\n",
       "      <td>348</td>\n",
       "      <td>1694.280951</td>\n",
       "      <td>10.832953</td>\n",
       "      <td>Correcto</td>\n",
       "    </tr>\n",
       "    <tr>\n",
       "      <th>1</th>\n",
       "      <td>419</td>\n",
       "      <td>1114.842560</td>\n",
       "      <td>19.825866</td>\n",
       "      <td>Correcto</td>\n",
       "    </tr>\n",
       "    <tr>\n",
       "      <th>2</th>\n",
       "      <td>509</td>\n",
       "      <td>3436.293325</td>\n",
       "      <td>38.671897</td>\n",
       "      <td>Correcto</td>\n",
       "    </tr>\n",
       "    <tr>\n",
       "      <th>3</th>\n",
       "      <td>215</td>\n",
       "      <td>672.736668</td>\n",
       "      <td>2.712435</td>\n",
       "      <td>Correcto</td>\n",
       "    </tr>\n",
       "    <tr>\n",
       "      <th>4</th>\n",
       "      <td>857</td>\n",
       "      <td>4641.250853</td>\n",
       "      <td>180.540485</td>\n",
       "      <td>Correcto</td>\n",
       "    </tr>\n",
       "    <tr>\n",
       "      <th>5</th>\n",
       "      <td>967</td>\n",
       "      <td>3731.852297</td>\n",
       "      <td>253.189562</td>\n",
       "      <td>Correcto</td>\n",
       "    </tr>\n",
       "    <tr>\n",
       "      <th>6</th>\n",
       "      <td>615</td>\n",
       "      <td>807.238600</td>\n",
       "      <td>67.081293</td>\n",
       "      <td>Correcto</td>\n",
       "    </tr>\n",
       "    <tr>\n",
       "      <th>7</th>\n",
       "      <td>883</td>\n",
       "      <td>1597.632900</td>\n",
       "      <td>191.057470</td>\n",
       "      <td>Correcto</td>\n",
       "    </tr>\n",
       "    <tr>\n",
       "      <th>8</th>\n",
       "      <td>710</td>\n",
       "      <td>2011.238790</td>\n",
       "      <td>103.081445</td>\n",
       "      <td>Correcto</td>\n",
       "    </tr>\n",
       "    <tr>\n",
       "      <th>9</th>\n",
       "      <td>897</td>\n",
       "      <td>5335.596543</td>\n",
       "      <td>228.118760</td>\n",
       "      <td>Correcto</td>\n",
       "    </tr>\n",
       "  </tbody>\n",
       "</table>\n",
       "</div>"
      ],
      "text/plain": [
       "   dimension_A  condicion_A  tiempo_plu status_plu\n",
       "0          348  1694.280951   10.832953   Correcto\n",
       "1          419  1114.842560   19.825866   Correcto\n",
       "2          509  3436.293325   38.671897   Correcto\n",
       "3          215   672.736668    2.712435   Correcto\n",
       "4          857  4641.250853  180.540485   Correcto\n",
       "5          967  3731.852297  253.189562   Correcto\n",
       "6          615   807.238600   67.081293   Correcto\n",
       "7          883  1597.632900  191.057470   Correcto\n",
       "8          710  2011.238790  103.081445   Correcto\n",
       "9          897  5335.596543  228.118760   Correcto"
      ]
     },
     "execution_count": 10,
     "metadata": {},
     "output_type": "execute_result"
    }
   ],
   "source": [
    "#Corremos el algoritmo revision_PLU que usa la función PLU para generar 10 ejemplos \n",
    "rev_plu = revision_modular.revision_PLU(10,10**2,10**3+1,-99,99)\n",
    "rev_plu"
   ]
  },
  {
   "cell_type": "markdown",
   "metadata": {},
   "source": [
    "La función revisión_PLU devuelve un data frame con información sobre la dimensión de la matriz A `dimension_A`, la condición de la matriz A `condicion_A`, el tiempo que tarda en correr el algoritmo PLU `tiempo_plu` y el si el status es correcto o incorrecto al resolver PA=LU `status_plu`.\n",
    "\n",
    "En el data frame, se puede observar que:\n",
    "\n",
    "- El algoritmo resolvió la factorización de manera exitosa las 10 veces.\n",
    "- El tiempo de ejecución máximo es de 253.18 segundos o 4.21 minutos para una matriz de dimensión 967x967 y que el tiempo mínimo de ejecución es de 2.7 segundos para un matriz de 215x215.\n",
    "- El tiempo de ejecución tiene una tendencia monótona creciente al compararlo con la dimensión de la matriz A. Es decir que a mayor tamaño, es mayor el tiempo de ejecución.\n",
    "- Con respecto a la condición de las matrices, ninguna está bien condiconada pues la condición dista mucho del 1."
   ]
  },
  {
   "cell_type": "markdown",
   "metadata": {},
   "source": [
    "### Algoritmo que revisa la solución del sistema lineal de ecuaciones"
   ]
  },
  {
   "cell_type": "code",
   "execution_count": 11,
   "metadata": {},
   "outputs": [
    {
     "data": {
      "text/html": [
       "<div>\n",
       "<style scoped>\n",
       "    .dataframe tbody tr th:only-of-type {\n",
       "        vertical-align: middle;\n",
       "    }\n",
       "\n",
       "    .dataframe tbody tr th {\n",
       "        vertical-align: top;\n",
       "    }\n",
       "\n",
       "    .dataframe thead th {\n",
       "        text-align: right;\n",
       "    }\n",
       "</style>\n",
       "<table border=\"1\" class=\"dataframe\">\n",
       "  <thead>\n",
       "    <tr style=\"text-align: right;\">\n",
       "      <th></th>\n",
       "      <th>dimension_A</th>\n",
       "      <th>condicion_A</th>\n",
       "      <th>tiempo_x</th>\n",
       "      <th>estado_x</th>\n",
       "      <th>error_absoluto</th>\n",
       "      <th>error_relativo</th>\n",
       "      <th>residual_relativo</th>\n",
       "      <th>tipo_matriz</th>\n",
       "    </tr>\n",
       "  </thead>\n",
       "  <tbody>\n",
       "    <tr>\n",
       "      <th>0</th>\n",
       "      <td>338</td>\n",
       "      <td>482.555116</td>\n",
       "      <td>14.225561</td>\n",
       "      <td>Correcto</td>\n",
       "      <td>3.440142e-11</td>\n",
       "      <td>4.263587e-14</td>\n",
       "      <td>4.306379e-15</td>\n",
       "      <td>no singular</td>\n",
       "    </tr>\n",
       "    <tr>\n",
       "      <th>1</th>\n",
       "      <td>675</td>\n",
       "      <td>5666.986897</td>\n",
       "      <td>106.779841</td>\n",
       "      <td>Correcto</td>\n",
       "      <td>3.326764e-10</td>\n",
       "      <td>4.206622e-13</td>\n",
       "      <td>8.967129e-15</td>\n",
       "      <td>no singular</td>\n",
       "    </tr>\n",
       "    <tr>\n",
       "      <th>2</th>\n",
       "      <td>828</td>\n",
       "      <td>1607.073573</td>\n",
       "      <td>188.888310</td>\n",
       "      <td>Correcto</td>\n",
       "      <td>2.568657e-10</td>\n",
       "      <td>3.282255e-13</td>\n",
       "      <td>1.321017e-14</td>\n",
       "      <td>no singular</td>\n",
       "    </tr>\n",
       "    <tr>\n",
       "      <th>3</th>\n",
       "      <td>183</td>\n",
       "      <td>1506.863005</td>\n",
       "      <td>1.896986</td>\n",
       "      <td>Correcto</td>\n",
       "      <td>2.633779e-11</td>\n",
       "      <td>3.288868e-14</td>\n",
       "      <td>2.299177e-15</td>\n",
       "      <td>no singular</td>\n",
       "    </tr>\n",
       "    <tr>\n",
       "      <th>4</th>\n",
       "      <td>619</td>\n",
       "      <td>3520.118261</td>\n",
       "      <td>102.396179</td>\n",
       "      <td>Correcto</td>\n",
       "      <td>1.579299e-10</td>\n",
       "      <td>2.018673e-13</td>\n",
       "      <td>8.932321e-15</td>\n",
       "      <td>no singular</td>\n",
       "    </tr>\n",
       "    <tr>\n",
       "      <th>5</th>\n",
       "      <td>722</td>\n",
       "      <td>3178.259318</td>\n",
       "      <td>116.302161</td>\n",
       "      <td>Correcto</td>\n",
       "      <td>2.179887e-10</td>\n",
       "      <td>2.683266e-13</td>\n",
       "      <td>1.043244e-14</td>\n",
       "      <td>no singular</td>\n",
       "    </tr>\n",
       "    <tr>\n",
       "      <th>6</th>\n",
       "      <td>492</td>\n",
       "      <td>5143.535737</td>\n",
       "      <td>46.127115</td>\n",
       "      <td>Correcto</td>\n",
       "      <td>6.017565e-10</td>\n",
       "      <td>7.710206e-13</td>\n",
       "      <td>8.242145e-15</td>\n",
       "      <td>no singular</td>\n",
       "    </tr>\n",
       "    <tr>\n",
       "      <th>7</th>\n",
       "      <td>757</td>\n",
       "      <td>695.323280</td>\n",
       "      <td>143.057402</td>\n",
       "      <td>Correcto</td>\n",
       "      <td>1.229604e-10</td>\n",
       "      <td>1.499836e-13</td>\n",
       "      <td>1.177801e-14</td>\n",
       "      <td>no singular</td>\n",
       "    </tr>\n",
       "    <tr>\n",
       "      <th>8</th>\n",
       "      <td>849</td>\n",
       "      <td>107531.740824</td>\n",
       "      <td>182.279629</td>\n",
       "      <td>Correcto</td>\n",
       "      <td>1.947935e-08</td>\n",
       "      <td>2.332298e-11</td>\n",
       "      <td>1.373592e-14</td>\n",
       "      <td>no singular</td>\n",
       "    </tr>\n",
       "    <tr>\n",
       "      <th>9</th>\n",
       "      <td>121</td>\n",
       "      <td>68.708964</td>\n",
       "      <td>0.477370</td>\n",
       "      <td>Correcto</td>\n",
       "      <td>5.497457e-12</td>\n",
       "      <td>6.572198e-15</td>\n",
       "      <td>1.813756e-15</td>\n",
       "      <td>no singular</td>\n",
       "    </tr>\n",
       "  </tbody>\n",
       "</table>\n",
       "</div>"
      ],
      "text/plain": [
       "   dimension_A    condicion_A    tiempo_x  estado_x  error_absoluto  \\\n",
       "0          338     482.555116   14.225561  Correcto    3.440142e-11   \n",
       "1          675    5666.986897  106.779841  Correcto    3.326764e-10   \n",
       "2          828    1607.073573  188.888310  Correcto    2.568657e-10   \n",
       "3          183    1506.863005    1.896986  Correcto    2.633779e-11   \n",
       "4          619    3520.118261  102.396179  Correcto    1.579299e-10   \n",
       "5          722    3178.259318  116.302161  Correcto    2.179887e-10   \n",
       "6          492    5143.535737   46.127115  Correcto    6.017565e-10   \n",
       "7          757     695.323280  143.057402  Correcto    1.229604e-10   \n",
       "8          849  107531.740824  182.279629  Correcto    1.947935e-08   \n",
       "9          121      68.708964    0.477370  Correcto    5.497457e-12   \n",
       "\n",
       "   error_relativo  residual_relativo  tipo_matriz  \n",
       "0    4.263587e-14       4.306379e-15  no singular  \n",
       "1    4.206622e-13       8.967129e-15  no singular  \n",
       "2    3.282255e-13       1.321017e-14  no singular  \n",
       "3    3.288868e-14       2.299177e-15  no singular  \n",
       "4    2.018673e-13       8.932321e-15  no singular  \n",
       "5    2.683266e-13       1.043244e-14  no singular  \n",
       "6    7.710206e-13       8.242145e-15  no singular  \n",
       "7    1.499836e-13       1.177801e-14  no singular  \n",
       "8    2.332298e-11       1.373592e-14  no singular  \n",
       "9    6.572198e-15       1.813756e-15  no singular  "
      ]
     },
     "execution_count": 11,
     "metadata": {},
     "output_type": "execute_result"
    }
   ],
   "source": [
    "#Corremos el algoritmo revision_x que usa la función solve para generar 10 ejemplos \n",
    "rev_x = revision_modular.revision_x(10,10**2,10**3+1,-99,99)\n",
    "rev_x"
   ]
  },
  {
   "cell_type": "markdown",
   "metadata": {},
   "source": [
    "La función revisión_x devuelve un data frame con información sobre la dimensión de la matriz A `dimension_A` , la condición de la matriz A `condicion_A`, el tiempo que tarda en correr el algoritmo solve `tiempo_x`, el status correcto o incorrecto `estado_x` al resolver el sistema, el error absoluto `error_absoluto` y relativo `error_relativo`, el residual relativo `residual_relativo` y si la matriz A es singular o no singular `tipo_matriz`.\n",
    "\n",
    "En el data frame, se puede observar que:\n",
    "\n",
    "- El algoritmo resolvió la factorización de manera exitosa las 10 veces.\n",
    "- El tiempo de ejecución máximo es de 182.3 segundos o 3 minutos para una matriz de dimensión 849x849 (sin ser esta la matriz más grande) y que el tiempo mínimo de ejecución es de 0.47 segundos para un matriz de 121x121.\n",
    "- El tiempo de ejecución tiene una tendencia monótona creciente al compararlo con la dimensión de la matriz A. Es decir que a mayor tamaño, es mayor el tiempo de ejecución.\n",
    "- Con respecto a la condición de las matrices, ninguna está bien condiconada pues la condición dista mucho del 1.\n",
    "- Las 10 matrices A fueron no singulares, por lo que se procedió a la solución. \n",
    "- El error absoluto muestra una precisión entre 8 y 12 dígitos correctos.\n",
    "- El error relativo muestra una precisión entre 11 y 15 dígitos correctos.\n",
    "- El residual relativo muestra una precisión entre 14 y 15 dígitos correctos. Si la matriz estuviera bien condicionada, el residual relativo debería estimar bien al error relativo. Sin embargo, nuestras matrices no están bien condicionadas. "
   ]
  },
  {
   "cell_type": "markdown",
   "metadata": {},
   "source": [
    "### Algoritmo que revisa la solución del sistema por eliminación por bloques"
   ]
  },
  {
   "cell_type": "code",
   "execution_count": 15,
   "metadata": {},
   "outputs": [
    {
     "name": "stdout",
     "output_type": "stream",
     "text": [
      "'Incorrecto para A igual a:'\n",
      "array([[-32, -61, -25, ..., -24, -72,  -6],\n",
      "       [ 47, -51,  16, ..., -81,   2, -52],\n",
      "       [ 95, -95,  30, ...,   1,  -2,  74],\n",
      "       ...,\n",
      "       [ 59, -34, -59, ..., -47,  11,  35],\n",
      "       [-73,  83, -39, ..., -33,  15, -36],\n",
      "       [ 33,  90,  41, ...,   7,  95,  14]])\n",
      "'Incorrecto para A igual a:'\n",
      "array([[ -9,  90, -31, ...,  24,  40,  53],\n",
      "       [-84, -99, -15, ...,  23, -98,  37],\n",
      "       [-19,  51, -11, ..., -37,   9, -63],\n",
      "       ...,\n",
      "       [-50,  13, -64, ..., -47,  52, -72],\n",
      "       [ 10,  95, -78, ..., -12, -88, -75],\n",
      "       [-66,  28, -63, ...,  97, -54, -82]])\n"
     ]
    },
    {
     "data": {
      "text/html": [
       "<div>\n",
       "<style scoped>\n",
       "    .dataframe tbody tr th:only-of-type {\n",
       "        vertical-align: middle;\n",
       "    }\n",
       "\n",
       "    .dataframe tbody tr th {\n",
       "        vertical-align: top;\n",
       "    }\n",
       "\n",
       "    .dataframe thead th {\n",
       "        text-align: right;\n",
       "    }\n",
       "</style>\n",
       "<table border=\"1\" class=\"dataframe\">\n",
       "  <thead>\n",
       "    <tr style=\"text-align: right;\">\n",
       "      <th></th>\n",
       "      <th>dimension_A</th>\n",
       "      <th>condicion_A</th>\n",
       "      <th>tiempo_bloques</th>\n",
       "      <th>solucion_bloques</th>\n",
       "      <th>error_absoluto</th>\n",
       "      <th>error_relativo</th>\n",
       "      <th>residual_relativo</th>\n",
       "      <th>tipo_matriz</th>\n",
       "      <th>dimension_bloque</th>\n",
       "    </tr>\n",
       "  </thead>\n",
       "  <tbody>\n",
       "    <tr>\n",
       "      <th>0</th>\n",
       "      <td>738</td>\n",
       "      <td>4934.183710</td>\n",
       "      <td>54.947191</td>\n",
       "      <td>Correcto</td>\n",
       "      <td>8.070154e-10</td>\n",
       "      <td>1.725476e-11</td>\n",
       "      <td>5.260393e-13</td>\n",
       "      <td>no singular</td>\n",
       "      <td>369</td>\n",
       "    </tr>\n",
       "    <tr>\n",
       "      <th>1</th>\n",
       "      <td>561</td>\n",
       "      <td>1145.920566</td>\n",
       "      <td>35.111349</td>\n",
       "      <td>Correcto</td>\n",
       "      <td>3.128099e-11</td>\n",
       "      <td>6.952759e-13</td>\n",
       "      <td>1.196258e-13</td>\n",
       "      <td>no singular</td>\n",
       "      <td>281</td>\n",
       "    </tr>\n",
       "    <tr>\n",
       "      <th>2</th>\n",
       "      <td>967</td>\n",
       "      <td>10803.872765</td>\n",
       "      <td>154.984269</td>\n",
       "      <td>Incorrecto</td>\n",
       "      <td>8.229667e-09</td>\n",
       "      <td>1.775903e-10</td>\n",
       "      <td>2.447722e-12</td>\n",
       "      <td>no singular</td>\n",
       "      <td>484</td>\n",
       "    </tr>\n",
       "    <tr>\n",
       "      <th>3</th>\n",
       "      <td>436</td>\n",
       "      <td>3187.121186</td>\n",
       "      <td>14.478269</td>\n",
       "      <td>Correcto</td>\n",
       "      <td>2.670986e-10</td>\n",
       "      <td>5.750387e-12</td>\n",
       "      <td>2.009363e-13</td>\n",
       "      <td>no singular</td>\n",
       "      <td>218</td>\n",
       "    </tr>\n",
       "    <tr>\n",
       "      <th>4</th>\n",
       "      <td>935</td>\n",
       "      <td>4215.487851</td>\n",
       "      <td>152.395980</td>\n",
       "      <td>Correcto</td>\n",
       "      <td>2.659616e-10</td>\n",
       "      <td>5.722408e-12</td>\n",
       "      <td>1.494021e-13</td>\n",
       "      <td>no singular</td>\n",
       "      <td>468</td>\n",
       "    </tr>\n",
       "    <tr>\n",
       "      <th>5</th>\n",
       "      <td>987</td>\n",
       "      <td>3193.993494</td>\n",
       "      <td>168.077979</td>\n",
       "      <td>Incorrecto</td>\n",
       "      <td>1.621663e-08</td>\n",
       "      <td>3.506625e-10</td>\n",
       "      <td>1.022964e-11</td>\n",
       "      <td>no singular</td>\n",
       "      <td>494</td>\n",
       "    </tr>\n",
       "    <tr>\n",
       "      <th>6</th>\n",
       "      <td>834</td>\n",
       "      <td>1845.516808</td>\n",
       "      <td>119.569415</td>\n",
       "      <td>Correcto</td>\n",
       "      <td>1.363386e-10</td>\n",
       "      <td>3.102878e-12</td>\n",
       "      <td>1.735292e-13</td>\n",
       "      <td>no singular</td>\n",
       "      <td>417</td>\n",
       "    </tr>\n",
       "    <tr>\n",
       "      <th>7</th>\n",
       "      <td>543</td>\n",
       "      <td>52720.613689</td>\n",
       "      <td>34.177457</td>\n",
       "      <td>Correcto</td>\n",
       "      <td>1.525193e-11</td>\n",
       "      <td>3.377146e-13</td>\n",
       "      <td>6.432126e-14</td>\n",
       "      <td>no singular</td>\n",
       "      <td>272</td>\n",
       "    </tr>\n",
       "    <tr>\n",
       "      <th>8</th>\n",
       "      <td>479</td>\n",
       "      <td>1403.861572</td>\n",
       "      <td>23.675614</td>\n",
       "      <td>Correcto</td>\n",
       "      <td>9.463915e-11</td>\n",
       "      <td>2.052381e-12</td>\n",
       "      <td>1.551303e-13</td>\n",
       "      <td>no singular</td>\n",
       "      <td>240</td>\n",
       "    </tr>\n",
       "    <tr>\n",
       "      <th>9</th>\n",
       "      <td>999</td>\n",
       "      <td>7029.580109</td>\n",
       "      <td>194.769735</td>\n",
       "      <td>Correcto</td>\n",
       "      <td>1.067559e-10</td>\n",
       "      <td>2.341754e-12</td>\n",
       "      <td>3.007028e-13</td>\n",
       "      <td>no singular</td>\n",
       "      <td>500</td>\n",
       "    </tr>\n",
       "  </tbody>\n",
       "</table>\n",
       "</div>"
      ],
      "text/plain": [
       "   dimension_A   condicion_A  tiempo_bloques solucion_bloques  error_absoluto  \\\n",
       "0          738   4934.183710       54.947191         Correcto    8.070154e-10   \n",
       "1          561   1145.920566       35.111349         Correcto    3.128099e-11   \n",
       "2          967  10803.872765      154.984269       Incorrecto    8.229667e-09   \n",
       "3          436   3187.121186       14.478269         Correcto    2.670986e-10   \n",
       "4          935   4215.487851      152.395980         Correcto    2.659616e-10   \n",
       "5          987   3193.993494      168.077979       Incorrecto    1.621663e-08   \n",
       "6          834   1845.516808      119.569415         Correcto    1.363386e-10   \n",
       "7          543  52720.613689       34.177457         Correcto    1.525193e-11   \n",
       "8          479   1403.861572       23.675614         Correcto    9.463915e-11   \n",
       "9          999   7029.580109      194.769735         Correcto    1.067559e-10   \n",
       "\n",
       "   error_relativo  residual_relativo  tipo_matriz  dimension_bloque  \n",
       "0    1.725476e-11       5.260393e-13  no singular               369  \n",
       "1    6.952759e-13       1.196258e-13  no singular               281  \n",
       "2    1.775903e-10       2.447722e-12  no singular               484  \n",
       "3    5.750387e-12       2.009363e-13  no singular               218  \n",
       "4    5.722408e-12       1.494021e-13  no singular               468  \n",
       "5    3.506625e-10       1.022964e-11  no singular               494  \n",
       "6    3.102878e-12       1.735292e-13  no singular               417  \n",
       "7    3.377146e-13       6.432126e-14  no singular               272  \n",
       "8    2.052381e-12       1.551303e-13  no singular               240  \n",
       "9    2.341754e-12       3.007028e-13  no singular               500  "
      ]
     },
     "execution_count": 15,
     "metadata": {},
     "output_type": "execute_result"
    }
   ],
   "source": [
    "#Corremos el algoritmo revision_bloques que usa la función solve_blocks para generar 10 ejemplos \n",
    "bloques=revision_modular.revision_bloques(10,10**2,10**3+1,-99,99)\n",
    "bloques"
   ]
  },
  {
   "cell_type": "markdown",
   "metadata": {},
   "source": [
    "La función revisión_bloques devuelve un data frame con información sobre la dimensión de la matriz A `dimension_A` , la condición de la matriz A `condicion_A`, la dimensión del bloque mayor `dimension_bloque`, el tiempo que tarda en correr el algoritmo solve_blocks `tiempo_bloques`, el status correcto o incorrecto `solucion_bloques` al resolver el sistema, el error absoluto `error_absoluto` y relativo `error_relativo`, el residual relativo `residual_relativo` y si la matriz A es singular o no singular `tipo_matriz`.\n",
    "\n",
    "En el data frame, se puede observar que:\n",
    "\n",
    "- El algoritmo resolvió la factorización de manera correcta 8 veces y fue incorrecto en 2. Esto puede deberse a que el algoritmo tiene un margen de error y esas dos matrices presentan un error más grande a comparación de las otras. Por eso, fueron clasificadas como incorrectas.\n",
    "- El tiempo de ejecución máximo es de 194.76 segundos o 3.2 minutos para una matriz de dimensión 999x999 y que el tiempo mínimo de ejecución es de 14.47 segundos para un matriz de 436x436.\n",
    "- El tiempo de ejecución tiene una tendencia monótona creciente al compararlo con la dimensión de la matriz A. Es decir que a mayor tamaño, es mayor el tiempo de ejecución.\n",
    "- Con respecto a la condición de las matrices, ninguna está bien condiconada pues la condición dista mucho del 1.\n",
    "- Las 10 matrices A fueron no singulares, por lo que se procedió a la solución. \n",
    "- El error absoluto muestra una precisión entre 8 y 11 dígitos correctos.\n",
    "- El error relativo muestra una precisión entre 11 y 13 dígitos correctos.\n",
    "- El residual relativo muestra una precisión entre 12 o 14 dígitos correctos. Si la matriz estuviera bien condicionada, el residual relativo debería estimar bien al error relativo. Sin embargo, nuestras matrices no están bien condicionadas. \n",
    "\n",
    "**Resultado esperado: ¡El tiempo de ejecución disminuyó a la mitad al usar la factorización por bloques con respecto a la factorización simple!**"
   ]
  },
  {
   "cell_type": "markdown",
   "metadata": {},
   "source": [
    "# 6. Resultados finales\n",
    "\n",
    "Los parámetros que se evaluaron en la ejecución de los algoritmos son: dimensión de la matriz A, condición de la matriz A, tiempo de solución y error absoluto. \n",
    "\n",
    "En esta sección se muestran gráficas basadas en la información producida con los algoritmos de la sección anterior y que se muestran en los data frames obtenidos. "
   ]
  },
  {
   "cell_type": "markdown",
   "metadata": {},
   "source": [
    "### Dimensión de la matriz $A$ vs tiempo de ejecución en el algoritmo simple y por bloques:"
   ]
  },
  {
   "cell_type": "code",
   "execution_count": null,
   "metadata": {},
   "outputs": [],
   "source": [
    "#Ordenamos los data frames por tamaño de la matriz y exatremos las variables a usar\n",
    "rev_x.sort_values(by=['dimension_A'],inplace=True)\n",
    "bloques.sort_values(by=['dimension_A'],inplace=True)\n",
    "dimension_simple = rev_x['dimension_A']\n",
    "tiempo_simple = rev_x['tiempo_x']\n",
    "dimension_bloques = bloques['dimension_A']\n",
    "tiempo_bloques = bloques['tiempo_bloques']"
   ]
  },
  {
   "cell_type": "code",
   "execution_count": 21,
   "metadata": {},
   "outputs": [
    {
     "data": {
      "image/png": "[encoded data removed]",
      "text/plain": [
       "<Figure size 432x288 with 1 Axes>"
      ]
     },
     "metadata": {
      "needs_background": "light"
     },
     "output_type": "display_data"
    }
   ],
   "source": [
    "#Realizando la gráfica\n",
    "import matplotlib.pyplot as plt\n",
    "simple = plt.plot(dimension_simple,tiempo_simple,'o-', color='blue', label='Factorización simple')\n",
    "bloques = plt.plot(dimension_bloques,tiempo_bloques,'x-', color='red', label='Factorización por bloques')\n",
    "plt.title('Gráfica de dimension de matriz vs tiempo de ejecución')\n",
    "plt.xlabel('Dimensión de la matriz')\n",
    "plt.ylabel('Tiempo de ejecución')\n",
    "plt.grid()\n",
    "plt.legend()\n",
    "plt.show()"
   ]
  },
  {
   "cell_type": "markdown",
   "metadata": {},
   "source": [
    "**Actualización: en una de las corridas se obtuvo la siguiente gráfica:**"
   ]
  },
  {
   "cell_type": "markdown",
   "metadata": {},
   "source": [
    "<img src=\"https://dl.dropboxusercontent.com/s/cs3oxc8qzgi4hl5/nuevagrafica.JPG?dl=0\" heigth=\"500\" width=\"500\">\n",
    "\n"
   ]
  },
  {
   "cell_type": "markdown",
   "metadata": {},
   "source": [
    "En la gráfica se puede observar que, como ya se había mencionado anteriormente, el tiempo de ejecución prácticamente se duplica al usar el algorimto simple vs. el algoritmo por bloque para matrices grandes."
   ]
  },
  {
   "cell_type": "markdown",
   "metadata": {},
   "source": [
    "# 7. Pruebas Unitarias\n",
    "\n",
    "Finalmente, se corrieron 6 test unitarios con el fin de evaluar de distintas formas los dos algoritmos generados. El proceso de unit testing, para poder ejecutar los test de forma interactiva y en un entorno **aislado** se pueden ejectuar en `binder` dando click al siguiente botón:\n",
    "\n",
    "[![Binder](https://mybinder.org/badge_logo.svg)](https://mybinder.org/v2/gh/C1587S/MNO-interactivePLU/master)\n",
    "\n",
    "El README asociado a los test se enceunta en la carpeta [`test`](https://github.com/mno-2020-gh-classroom/ex-modulo-3-comp-matricial-plu-paola-md/tree/master/tests).\n",
    "\n",
    "- Los test unitarios incluidos son:\n",
    "  - `test_MatrizSimple`: Evalúa la factorización PLU simple para la matriz simple A.\n",
    "  - `test_10Matrices`: Evalúa la factorización PLU simple para 10 matrices cuadradas aleatorias con dimensión entre (2x2) y (10^3)x(10^3).\n",
    "  - `test_comparaSciPyPLU_10Matrices`: Evalúa la factorización PLU para 10 matrices cuadradas aleatorias con\n",
    "    dimensión entre 2x2 y (10^3)x(10^3) y compara los elementos P, L, y U de la factorización asociada obtenidos con\n",
    "    la librería SciPy\n",
    "  - `test_SisSimpleBloqs`: Evalúa el algoritmo PLU por bloques para un sistema simple creado de forma determnista.\n",
    "  - `test_Bloqs1000matricesDim2`: Evalúa 1000 veces el algoritmo de factorización PLU y por bloques para\n",
    "    matrices aleatorias de hasta de dimensión (10^2 x 10^2)\n",
    "  - `test_Bloqs20matricesDim3`: Evalúa 20 veces el algoritmo de factorización PLU y por bloques para matrices aleatorias de hasta de dimensión (10^3 x 10^3)\n",
    "  \n",
    "  \n",
    "Los resultados para los 6 test ejecutados fueron aprobatorios y se ejecutaron por medio de la librería `pytests`. \n",
    "A continuación se presenta una captura de pantalla de la finalización del proceso con éxito:\n",
    "\n",
    "![Unit_Testing_Results](../img/UT-6tests.png)"
   ]
  },
  {
   "cell_type": "markdown",
   "metadata": {},
   "source": [
    "# 8. Conclusiones"
   ]
  },
  {
   "cell_type": "markdown",
   "metadata": {},
   "source": [
    "En conclusión, la factorización PLU es un método que permite resolver sistemas de ecuaciones lineales al descomponer a la matriz original A en una matriz triangular superior U, una matriz triangular inferior L y una matriz pivote P.\n",
    "\n",
    "El equipo de programación se encargó de programar la factorización PLU simple y por bloques para poder ser usada para matrices grandes.\n",
    "\n",
    "El equipo de revisión hizo varias pruebas para verificar que las soluciones de ambos algoritmos fueran correctas y midió algunos parámetros como el tiempo de ejecución, la dimensión y condición de las matrices originales aleatorias, los errores absolutos y relativos, el residual relativo y el status correcto o incorrecto de la solución.    \n",
    "\n",
    "En los resultados previos a este ejercicio, se observó que el tiempo promedio que tarda el algoritmo simple para resolver una matriz de $10^3$ es de 360 segundos o 6 minutos. Mientras que, el tiempo promedio que tarda el algoritmo por bloques es de 200 segundos o 3 minutos. Es decir, el tiempo se reduce aproximadamente a la mitad para matrices grandes.\n",
    "\n",
    "No obstante, es importante considerar que los tiempos de ejecución dependen de la computadora y las características de la misma.\n",
    "\n",
    "Finalmente, se debe mencionar que todas nuestras matrices resultaron estar mal condicionadas al usar entradas aleatorias para generar la matriz original. "
   ]
  }
 ],
 "metadata": {
  "kernelspec": {
   "display_name": "Python 3",
   "language": "python",
   "name": "python3"
  },
  "language_info": {
   "codemirror_mode": {
    "name": "ipython",
    "version": 3
   },
   "file_extension": ".py",
   "mimetype": "text/x-python",
   "name": "python",
   "nbconvert_exporter": "python",
   "pygments_lexer": "ipython3",
   "version": "3.7.6"
  }
 },
 "nbformat": 4,
 "nbformat_minor": 2
}
