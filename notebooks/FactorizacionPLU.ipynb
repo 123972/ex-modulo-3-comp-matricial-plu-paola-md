{
 "cells": [
  {
   "cell_type": "markdown",
   "metadata": {},
   "source": [
    "## Algoritmo \n",
    "(se considera que los índices de los arrays inician en el valor $1$ y no en el $0$)\n",
    "\n",
    "Entrada: $A \\in \\mathbb{R}^{n \\times n}$.\n",
    "\n",
    "Salida: factores $L, U \\in \\mathbb{R}^{n \\times n}$, vector $piv \\in \\mathbb{R}^{n}$. El vector $piv$ se utiliza para construir a la matriz $P$.\n",
    "\n",
    "Inicializar L con matriz identidad. Inicializar U como una matriz de ceros.\n",
    "\n",
    "Para $j$ de $1$ a $n$ hacer:\n",
    "\n",
    "Si $j$ es 1 definir $v = A(:,1)$ # v es la primer columna de $A$.\n",
    "\n",
    "En otro caso:\n",
    "\n",
    "Calcular $\\hat{a} = P_{j-1} \\cdots P_1 A(:,j)$ #aquí se utiliza al vector $piv$ para evitar hacer multiplicaciones de matriz vector, sólo se realizan intercambio de renglones\n",
    "\n",
    "Resolver $L(1:j-1,1:j-1)z = \\hat{a}(1:j-1)$ para $z \\in \\mathbb{R}^{j-1}$ por sustitución hacia delante\n",
    "\n",
    "Definir $U(1:j-1,j) = z$\n",
    "\n",
    "Definir $v(j:n) = \\hat{a}(j:n) - L(j:n, 1:j-1)*z$\n",
    "\n",
    "Determinar $\\mu$ con $ j \\leq \\mu \\leq n$ tal que $|v(\\mu)| = ||v(j:n)||_\\infty$\n",
    "\n",
    "Definir $piv(j)=\\mu$ # piv es un vector de tamaño $n-1$\n",
    "\n",
    "$v(j) \\leftrightarrow v(\\mu)$ # $\\leftrightarrow$ significa intercambiar $j$-ésima entrada de $v$ por $\\mu$-ésima entrada de $v$.\n",
    "\n",
    "$L(j,1:j-1) \\leftrightarrow L(\\mu,1:j-1)$ #$\\leftrightarrow$ significa intercambio\n",
    "\n",
    "Definir $U(j,j) = v(j)$.\n",
    "\n",
    "Si $v(j) \\neq 0 $ definir $L(j+1:n,j) = v(j+1:n)/v(j)$\n"
   ]
  },
  {
   "cell_type": "code",
   "execution_count": 1,
   "metadata": {},
   "outputs": [],
   "source": [
    "import numpy as np"
   ]
  },
  {
   "cell_type": "code",
   "execution_count": 10,
   "metadata": {},
   "outputs": [
    {
     "data": {
      "text/plain": [
       "3"
      ]
     },
     "execution_count": 10,
     "metadata": {},
     "output_type": "execute_result"
    }
   ],
   "source": [
    "n = 3\n",
    "A = np.array([[ 3.0, -1.0,4.0], \\\n",
    "        [-2.0, 0.0, 5.0],\n",
    "        [ 7.0, 2.0, -2.0]])\n",
    "\n",
    "#Inicializar L con matriz identidad. Inicializar U como una matriz de ceros.\n",
    "L = np.identity(n)\n",
    "U = np.zeros((n,n))\n",
    "\n",
    "\n",
    "A[:,0]\n",
    "np.eye(3)\n",
    "len(A)"
   ]
  },
  {
   "cell_type": "code",
   "execution_count": null,
   "metadata": {},
   "outputs": [],
   "source": [
    "#Entrada:  𝐴∈ℝ𝑛×𝑛 .\n",
    "#Salida: factores  𝐿,𝑈∈ℝ𝑛×𝑛 , vector  𝑝𝑖𝑣∈ℝ𝑛 . El vector  𝑝𝑖𝑣  se utiliza para construir a la matriz  𝑃 .\n",
    "\n",
    "\n",
    "\"\"\"\n",
    " Parameters\n",
    "    ----------\n",
    "   n : int\n",
    "       matrix dimension\n",
    "\"\"\"\n",
    "\n",
    "\n",
    "A = np.array([[ 3.0, -1.0,4.0], \\\n",
    "        [-2.0, 0.0, 5.0],\n",
    "        [ 7.0, 2.0, -2.0]])\n",
    "\n",
    "n = len(A)\n",
    "\n",
    "#Inicializar L con matriz identidad. Inicializar U como una matriz de ceros.\n",
    "L = np.identity(n)\n",
    "U = np.zeros((n,n))\n",
    "\n",
    "P =  np.identity(n)\n",
    "#Para  𝑗  de  1  a  𝑛  hacer:\n",
    "for j in 1:n:\n",
    "    #Si  𝑗  es 1 definir  𝑣=𝐴(:,1)  # v es la primer columna de  𝐴 .\n",
    "    if j ==1 :\n",
    "        v = A[:,0] #Python empieza en 0\n",
    "    #En otro caso:\n",
    "    else:\n",
    "        #Calcular  𝑎̂ =𝑃𝑗−1⋯𝑃1𝐴(:,𝑗)  #aquí se utiliza al vector  𝑝𝑖𝑣  para evitar hacer multiplicaciones de matriz vector, sólo se realizan intercambio de renglones\n",
    "        a_hat = #NO ENTIENDO\n",
    "    \n",
    "    #Resolver  𝐿(1:𝑗−1,1:𝑗−1)𝑧=𝑎̂ (1:𝑗−1)  para  𝑧∈ℝ𝑗−1  por sustitución hacia delante\n",
    "\n",
    "    \n",
    "Definir  𝑈(1:𝑗−1,𝑗)=𝑧 \n",
    "Definir  𝑣(𝑗:𝑛)=𝑎̂ (𝑗:𝑛)−𝐿(𝑗:𝑛,1:𝑗−1)∗𝑧 \n",
    "Determinar  𝜇  con  𝑗≤𝜇≤𝑛  tal que  |𝑣(𝜇)|=||𝑣(𝑗:𝑛)||∞ \n",
    "Definir  𝑝𝑖𝑣(𝑗)=𝜇  # piv es un vector de tamaño  𝑛−1 \n",
    "𝑣(𝑗)↔𝑣(𝜇)  #  ↔  significa intercambiar  𝑗 -ésima entrada de  𝑣  por  𝜇 -ésima entrada de  𝑣 .\n",
    "\n",
    "𝐿(𝑗,1:𝑗−1)↔𝐿(𝜇,1:𝑗−1)  # ↔  significa intercambio\n",
    "\n",
    "Definir  𝑈(𝑗,𝑗)=𝑣(𝑗) .\n",
    "\n",
    "Si  𝑣(𝑗)≠0  definir  𝐿(𝑗+1:𝑛,𝑗)=𝑣(𝑗+1:𝑛)/𝑣(𝑗)"
   ]
  },
  {
   "cell_type": "markdown",
   "metadata": {},
   "source": [
    "### ¿Dado el sistema $Ax=b$, $A \\in \\mathbb{R}^{n \\times n}$ cómo se resuelve con la factorización $PLU$?\n",
    "Paso 1: encontrar factores $P,L,U$ tales que $PA=LU$.\n",
    "\n",
    "Paso 2: resolver con el método de sustitución hacia delante el sistema triangular inferior $Ld=Pb$.\n",
    "\n",
    "Paso 3: resolver con el método de sustitución hacia atrás el sistema triangular superior $Ux=d$."
   ]
  },
  {
   "cell_type": "code",
   "execution_count": null,
   "metadata": {},
   "outputs": [],
   "source": []
  }
 ],
 "metadata": {
  "kernelspec": {
   "display_name": "Python 3",
   "language": "python",
   "name": "python3"
  },
  "language_info": {
   "codemirror_mode": {
    "name": "ipython",
    "version": 3
   },
   "file_extension": ".py",
   "mimetype": "text/x-python",
   "name": "python",
   "nbconvert_exporter": "python",
   "pygments_lexer": "ipython3",
   "version": "3.7.6"
  }
 },
 "nbformat": 4,
 "nbformat_minor": 4
}
