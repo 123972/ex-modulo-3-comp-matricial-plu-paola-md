{
 "cells": [
  {
   "cell_type": "markdown",
   "metadata": {},
   "source": [
    "# Revisión primer algoritmo"
   ]
  },
  {
   "cell_type": "markdown",
   "metadata": {},
   "source": [
    "Nombre del scrip : FactorizacionPLU"
   ]
  },
  {
   "cell_type": "markdown",
   "metadata": {},
   "source": [
    "### 1.1 General "
   ]
  },
  {
   "cell_type": "markdown",
   "metadata": {},
   "source": [
    "#### 1) ¿Se entiende que objetivo del algoritmo?"
   ]
  },
  {
   "cell_type": "markdown",
   "metadata": {},
   "source": [
    "Si fuera una persona usuaria, me tomaría trabajo saber cual es objetivo del algoritmo. Me parece que es necesario dar una pequeña introducción al principio para tener una idea de lo que se desarrollara despúes.\n",
    "\n",
    "Propuesta: \n",
    "En este notebook se busca realizar la factorización PLU, la cual es un método para resolver sistemas de ecuaciones de distintas dimesiones ( pj matrices). Y el algoritmo se encarga de econtrar 3 matrices que nos ayudaran a resolver un sistema de ecuaciones. Las matrices que debería devolver el algoritmo son las siguientes:"
   ]
  },
  {
   "cell_type": "markdown",
   "metadata": {},
   "source": [
    "L es una matriz triangular inferior, ejemplo:"
   ]
  },
  {
   "cell_type": "markdown",
   "metadata": {},
   "source": [
    "$$L = \\begin{bmatrix} 2& 0&0 \\\\ 1& 6& 0 \\\\ 1& 4& 1\\end{bmatrix}$$"
   ]
  },
  {
   "cell_type": "markdown",
   "metadata": {},
   "source": [
    "U es una matriz triangular superior, ejemplo:"
   ]
  },
  {
   "cell_type": "markdown",
   "metadata": {},
   "source": [
    "$$U = \\begin{bmatrix} 2& -1&7 \\\\ 0& 6& 2 \\\\ 0& 0& 5\\end{bmatrix}$$"
   ]
  },
  {
   "cell_type": "markdown",
   "metadata": {},
   "source": [
    "P es una matriz de pivote y en ella se queda registrado el intercambio de columnas, ejemplo"
   ]
  },
  {
   "cell_type": "markdown",
   "metadata": {},
   "source": [
    "$$P = \\begin{bmatrix} 1& 0&0 \\\\ 0& 1& 0 \\\\ 0& 0& 1\\end{bmatrix}$$"
   ]
  },
  {
   "cell_type": "markdown",
   "metadata": {},
   "source": [
    "#### 2) ¿El código tiene documentación entendible de lo que hacen las funciones?"
   ]
  },
  {
   "cell_type": "markdown",
   "metadata": {},
   "source": [
    "Hasta el momento 2 funciones, falta documentación en la función: intercambio_filas. Se entiende lo que hace pero no estaría de más una pequeña documentación. De igual forma considero que esta función debe hacerse un modulo para posteriormente solo importarla."
   ]
  },
  {
   "cell_type": "markdown",
   "metadata": {},
   "source": [
    "#### 3) ¿Se utilizan todas las funciones?"
   ]
  },
  {
   "cell_type": "markdown",
   "metadata": {},
   "source": [
    "No, hay una función que llama : imprime_status y no se utiliza en la implementación. Creo sería bueno borrarla para el algoritmo definitivo."
   ]
  },
  {
   "cell_type": "markdown",
   "metadata": {},
   "source": [
    "#### 4) ¿El nombre de las funciones es adecuado o entendible?"
   ]
  },
  {
   "cell_type": "markdown",
   "metadata": {},
   "source": [
    "Solo recomendaría cambiar el nombre de la función más importante, que actualmente se llama nuestro_lup, podría ser algo como \"PLU_factorization\" para que sea más formal."
   ]
  },
  {
   "cell_type": "markdown",
   "metadata": {},
   "source": [
    "#### 5) ¿El código es entendible? "
   ]
  },
  {
   "cell_type": "markdown",
   "metadata": {},
   "source": [
    "Considero que si es ententible, realmente es un algoritmo pequeño y otra cosa que es amigable a la vista es que se esta utilizando la notación \"snake_case\"."
   ]
  },
  {
   "cell_type": "markdown",
   "metadata": {},
   "source": [
    "### 1.2 Funcionalidad"
   ]
  },
  {
   "cell_type": "markdown",
   "metadata": {},
   "source": [
    "Definire una función para ver si el algoritmo es correcto, de forma que tenga pruebas variadas y suficientes."
   ]
  },
  {
   "cell_type": "code",
   "execution_count": 54,
   "metadata": {},
   "outputs": [],
   "source": [
    "import numpy as np\n",
    "import scipy\n",
    "import pprint\n",
    "from scipy.linalg import lu\n",
    "from plu import nuestro_lup,intercambio_filas   #Hice un modulo de la funcion plu"
   ]
  },
  {
   "cell_type": "code",
   "execution_count": 47,
   "metadata": {},
   "outputs": [],
   "source": [
    "def funcionalidad_invertible(A):\n",
    "    \"\"\"\n",
    "     Parameters\n",
    "    ----------   \n",
    "    A : ndarray\n",
    "        np.random la dimension de la matriz es un random entre 2 y 7.\n",
    "       \n",
    "    Returns\n",
    "    -------\n",
    "    Con esta función se comprueba que las matrices que \n",
    "     arroja el algoritmo PLU cumplen con el teorema, es decir que todas sean invertibles o no singulares\n",
    "    \"\"\"\n",
    "        \n",
    "    L,U,P=nuestro_lup(A)\n",
    "    \n",
    "    L_inv = np.linalg.inv(L)\n",
    "    if (L_inv.all()==np.linalg.inv(L).all()):\n",
    "        print(\"La matriz L obtenida es invertible y cumple con el teorema\")\n",
    "        pprint.pprint(L)\n",
    "    else:\n",
    "        print(\"La matriz L obtenida es incorrecta\")\n",
    "        pprint.pprint(L)\n",
    "        \n",
    "    U_inv = np.linalg.inv(U)\n",
    "    if (U_inv.all()==np.linalg.inv(U).all()):\n",
    "        print(\"La matriz U obtenida es invertible y cumple con el teorema\")\n",
    "        pprint.pprint(U)\n",
    "    else:\n",
    "        print(\"La matriz U obtenida es incorrecta\")\n",
    "        pprint.pprint(U)\n",
    "    \n",
    "    P_inv = np.linalg.inv(P)    \n",
    "    if (P_inv.all()==np.linalg.inv(P).all()):\n",
    "        print(\"La matriz P obtenida es invertible y cumple con el teorema\")\n",
    "        pprint.pprint(P)\n",
    "    else:\n",
    "        print(\"La matriz P obtenida es incorrecta\")\n",
    "        pprint.pprint(P)"
   ]
  },
  {
   "cell_type": "code",
   "execution_count": 97,
   "metadata": {},
   "outputs": [
    {
     "name": "stdout",
     "output_type": "stream",
     "text": [
      "La matriz L obtenida es invertible y cumple con el teorema\n",
      "array([[ 1.        ,  0.        ,  0.        ,  0.        ,  0.        ,\n",
      "         0.        ,  0.        ],\n",
      "       [ 0.6122449 ,  1.        ,  0.        ,  0.        ,  0.        ,\n",
      "         0.        ,  0.        ],\n",
      "       [-0.19387755, -0.74603175,  1.        ,  0.        ,  0.        ,\n",
      "         0.        ,  0.        ],\n",
      "       [-0.37755102,  0.53968254, -0.86567164,  1.        ,  0.        ,\n",
      "         0.        ,  0.        ],\n",
      "       [ 0.59183673, -0.26984127, -0.25373134, -0.85964912,  1.        ,\n",
      "         0.        ,  0.        ],\n",
      "       [ 0.2244898 , -0.3968254 , -0.11940299,  0.53508772, -0.11881188,\n",
      "         1.        ,  0.        ],\n",
      "       [ 0.70408163,  0.14285714, -0.57462687,  0.47368421,  0.52475248,\n",
      "        -0.58415842,  1.        ]])\n",
      "La matriz U obtenida es invertible y cumple con el teorema\n",
      "matrix([[  98,    2,   24,  -33,   91,  -52,  -38],\n",
      "        [   0,   63,   81,   41,  -53,   83,    4],\n",
      "        [   0,    0,  134,  -23,  -49,   88,  -75],\n",
      "        [   0,    0,    0, -114,  -54,   41, -107],\n",
      "        [   0,    0,    0,    0, -202,  175, -147],\n",
      "        [   0,    0,    0,    0,    0,  101,   34],\n",
      "        [   0,    0,    0,    0,    0,    0,   73]])\n",
      "La matriz P obtenida es invertible y cumple con el teorema\n",
      "array([[0., 1., 0., 0., 0., 0., 0.],\n",
      "       [0., 0., 0., 0., 0., 0., 1.],\n",
      "       [0., 0., 0., 1., 0., 0., 0.],\n",
      "       [0., 0., 0., 0., 0., 1., 0.],\n",
      "       [1., 0., 0., 0., 0., 0., 0.],\n",
      "       [0., 0., 0., 0., 1., 0., 0.],\n",
      "       [0., 0., 1., 0., 0., 0., 0.]])\n"
     ]
    }
   ],
   "source": [
    "n=np.random.randint(2, 10)\n",
    "A=np.matrix(np.random.randint(-90,99, size=(n, n)))\n",
    "funcionalidad_invertible(A)"
   ]
  },
  {
   "cell_type": "code",
   "execution_count": 228,
   "metadata": {},
   "outputs": [],
   "source": [
    "from scipy.linalg import lu\n",
    "def funcionalidad_exactitud(A):\n",
    "    \"\"\"\n",
    "     Parameters\n",
    "    ----------   \n",
    "    A : ndarray\n",
    "        np.random la dimension de la matriz es un random entre 2 y 7.\n",
    "       \n",
    "    Returns\n",
    "    -------\n",
    "    Con esta función se comprueba que las matrices sean exactas, se hace una compración con el paquete\n",
    "    de python \"scipy\" que ya resuleve el algoritmo PLU.\n",
    "    \"\"\"\n",
    "        \n",
    "    L,U,P=nuestro_lup(A)\n",
    "    P_c,L_c,U_c=scipy.linalg.lu(A)\n",
    "\n",
    "    if ((L== L_c).all()):\n",
    "        print(\"La matriz L es exacta\")\n",
    "\n",
    "    else:\n",
    "        print(\"La matriz L es inexacta\")\n",
    "        pprint.pprint(L)\n",
    "        pprint.pprint(L_c)\n",
    "\n",
    "    if ((U== U_c).all()):\n",
    "        print(\"La matriz U es exacta\")\n",
    "\n",
    "    else:\n",
    "        print(\"La matriz U inexacta\")\n",
    "        pprint.pprint(U)\n",
    "        pprint.pprint(U_c)\n",
    "        \n",
    "    if ((P== P_c).all()):\n",
    "        print(\"La matriz P es exacta\")\n",
    "\n",
    "    else:\n",
    "        print(\"La matriz P es inexacta\")\n",
    "        pprint.pprint(P)\n",
    "        pprint.pprint(P_c)"
   ]
  },
  {
   "cell_type": "code",
   "execution_count": 243,
   "metadata": {},
   "outputs": [
    {
     "name": "stdout",
     "output_type": "stream",
     "text": [
      "La matriz L es exacta\n",
      "La matriz U inexacta\n",
      "matrix([[ 32, -68],\n",
      "        [  0, -33]])\n",
      "array([[ 32. , -68. ],\n",
      "       [  0. , -33.5]])\n",
      "La matriz P es exacta\n"
     ]
    }
   ],
   "source": [
    "n=np.random.randint(2, 10)\n",
    "A=np.matrix(np.random.randint(-99,99, size=(n, n)))\n",
    "funcionalidad_exactitud(A)"
   ]
  },
  {
   "cell_type": "code",
   "execution_count": 253,
   "metadata": {},
   "outputs": [
    {
     "name": "stdout",
     "output_type": "stream",
     "text": [
      "La matriz L es inexacta\n",
      "array([[ 1.        ,  0.        ,  0.        ],\n",
      "       [-0.05128205,  1.        ,  0.        ],\n",
      "       [-0.30769231, -0.10126582,  1.        ]])\n",
      "array([[ 1.        ,  0.        ,  0.        ],\n",
      "       [-0.05128205,  1.        ,  0.        ],\n",
      "       [-0.30769231, -0.1031491 ,  1.        ]])\n",
      "La matriz U inexacta\n",
      "matrix([[-78,  -4, -75],\n",
      "        [  0,  79, -55],\n",
      "        [  0,   0,  35]])\n",
      "array([[-78.        ,  -4.        , -75.        ],\n",
      "       [  0.        ,  79.79487179, -55.84615385],\n",
      "       [  0.        ,   0.        ,  36.1625964 ]])\n",
      "La matriz P es exacta\n"
     ]
    }
   ],
   "source": [
    "n=np.random.randint(2, 10)\n",
    "A=np.matrix(np.random.randint(-99,99, size=(n, n)))\n",
    "funcionalidad_exactitud(A)"
   ]
  },
  {
   "cell_type": "markdown",
   "metadata": {},
   "source": [
    "En cuanto a la funcionalidad del algoritmo la segunda funcion nos indica que hay errores porque nustro algoritmo no es exacto como el paquete que ya esta implementado en pyhton, por lo que se debe revisar para su mejora."
   ]
  },
  {
   "cell_type": "markdown",
   "metadata": {},
   "source": [
    "#Notas\n",
    "syntax – Is the code well formatted, meeting indentation and whitespace standards and free from parse errors?\n",
    "style – Is the code idiomatic for the language, are common error-prone patterns for that language avoided, is the code easily understood?\n",
    "functional – Does the code do what it’s supposed to do?\n",
    "architecture – Is the code required, are there any improvements to be made through abstractions, reuse of other code. Does the code tie in with the rest of the codebase?"
   ]
  }
 ],
 "metadata": {
  "kernelspec": {
   "display_name": "Python 3",
   "language": "python",
   "name": "python3"
  },
  "language_info": {
   "codemirror_mode": {
    "name": "ipython",
    "version": 3
   },
   "file_extension": ".py",
   "mimetype": "text/x-python",
   "name": "python",
   "nbconvert_exporter": "python",
   "pygments_lexer": "ipython3",
   "version": "3.7.3"
  }
 },
 "nbformat": 4,
 "nbformat_minor": 2
}
