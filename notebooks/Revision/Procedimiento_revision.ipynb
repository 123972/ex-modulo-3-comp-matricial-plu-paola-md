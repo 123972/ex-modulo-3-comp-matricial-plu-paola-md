{
 "cells": [
  {
   "cell_type": "markdown",
   "metadata": {},
   "source": [
    "# **PROCEDIMIENTO DE REVISIÓN DEL CÓDIGO** #"
   ]
  },
  {
   "cell_type": "markdown",
   "metadata": {},
   "source": [
    "El primer paso para llevar a cabo este proceso fue revisar la factorización PLU primeramente para matrices chicas (de hasta 10^3 x 10^3). Para ello el primer programa que realizamos para detectar errores, fue el de **\"revision_factorizacion_PLU.py\"**, en el cual se encuentra la función \"revision_PLU\" que genera matrices aleatorias de diferentes dimensiones y entradas, trata de calcular su inversa para que el producto con ésta regrese la matriz identidad y así garantizar que sea no singular, realiza la factorización PLU con el algoritmo realizado por el equipo de programación y estas matrices las compara con las que se obtienen del paquete \"scipy\" con una tolerancia absoluta de 10^-05 y, sí se cumple esto se arroja un status \"Correcto\", si esta condición no se cumple devuelve un archivo con la matriz A y las matrices PLU de ambos algoritmos. El archivo mencionado se ocupó para levantar algunos issues.\n",
    "\n",
    "De igual forma, este programa devuelve un dataframe con las siguientes variables: dimensión, estado_plu, tiempo_plu (lo que tardó en correr la función para obtener las matrices PLU) y matrices_incorrectas.\n",
    "\n",
    "Al ejecutar repetidas veces este programa, detectamos que la matriz que siempre salía con status incorrecto era la matriz de permutación (P) que, al revisar la documentación de \"scipy\", observamos que A=PLU, mientras que en nuestro algoritmo se cumple que PA=LU, por lo que P en ambos algoritmos no iban a ser iguales.\n"
   ]
  },
  {
   "cell_type": "code",
   "execution_count": 1,
   "metadata": {},
   "outputs": [],
   "source": [
    "import revision_factorizacion_PLU"
   ]
  },
  {
   "cell_type": "code",
   "execution_count": 5,
   "metadata": {},
   "outputs": [
    {
     "data": {
      "text/html": [
       "<div>\n",
       "<style scoped>\n",
       "    .dataframe tbody tr th:only-of-type {\n",
       "        vertical-align: middle;\n",
       "    }\n",
       "\n",
       "    .dataframe tbody tr th {\n",
       "        vertical-align: top;\n",
       "    }\n",
       "\n",
       "    .dataframe thead th {\n",
       "        text-align: right;\n",
       "    }\n",
       "</style>\n",
       "<table border=\"1\" class=\"dataframe\">\n",
       "  <thead>\n",
       "    <tr style=\"text-align: right;\">\n",
       "      <th></th>\n",
       "      <th>dimension</th>\n",
       "      <th>status_plu</th>\n",
       "      <th>tiempo_plu</th>\n",
       "      <th>matrices_incorrectas</th>\n",
       "    </tr>\n",
       "  </thead>\n",
       "  <tbody>\n",
       "    <tr>\n",
       "      <td>0</td>\n",
       "      <td>100</td>\n",
       "      <td>Incorrecto</td>\n",
       "      <td>0.349174</td>\n",
       "      <td>P</td>\n",
       "    </tr>\n",
       "    <tr>\n",
       "      <td>1</td>\n",
       "      <td>100</td>\n",
       "      <td>Incorrecto</td>\n",
       "      <td>0.301740</td>\n",
       "      <td>P</td>\n",
       "    </tr>\n",
       "    <tr>\n",
       "      <td>2</td>\n",
       "      <td>100</td>\n",
       "      <td>Incorrecto</td>\n",
       "      <td>0.300194</td>\n",
       "      <td>P</td>\n",
       "    </tr>\n",
       "    <tr>\n",
       "      <td>3</td>\n",
       "      <td>100</td>\n",
       "      <td>Incorrecto</td>\n",
       "      <td>0.304114</td>\n",
       "      <td>P</td>\n",
       "    </tr>\n",
       "    <tr>\n",
       "      <td>4</td>\n",
       "      <td>100</td>\n",
       "      <td>Incorrecto</td>\n",
       "      <td>0.298461</td>\n",
       "      <td>P</td>\n",
       "    </tr>\n",
       "    <tr>\n",
       "      <td>5</td>\n",
       "      <td>100</td>\n",
       "      <td>Incorrecto</td>\n",
       "      <td>0.301688</td>\n",
       "      <td>P</td>\n",
       "    </tr>\n",
       "    <tr>\n",
       "      <td>6</td>\n",
       "      <td>100</td>\n",
       "      <td>Incorrecto</td>\n",
       "      <td>0.304084</td>\n",
       "      <td>P</td>\n",
       "    </tr>\n",
       "    <tr>\n",
       "      <td>7</td>\n",
       "      <td>100</td>\n",
       "      <td>Incorrecto</td>\n",
       "      <td>0.305896</td>\n",
       "      <td>P</td>\n",
       "    </tr>\n",
       "    <tr>\n",
       "      <td>8</td>\n",
       "      <td>100</td>\n",
       "      <td>Incorrecto</td>\n",
       "      <td>0.302621</td>\n",
       "      <td>P</td>\n",
       "    </tr>\n",
       "    <tr>\n",
       "      <td>9</td>\n",
       "      <td>100</td>\n",
       "      <td>Incorrecto</td>\n",
       "      <td>0.301582</td>\n",
       "      <td>P</td>\n",
       "    </tr>\n",
       "    <tr>\n",
       "      <td>10</td>\n",
       "      <td>100</td>\n",
       "      <td>Incorrecto</td>\n",
       "      <td>0.298964</td>\n",
       "      <td>P</td>\n",
       "    </tr>\n",
       "    <tr>\n",
       "      <td>11</td>\n",
       "      <td>100</td>\n",
       "      <td>Incorrecto</td>\n",
       "      <td>0.300046</td>\n",
       "      <td>P</td>\n",
       "    </tr>\n",
       "    <tr>\n",
       "      <td>12</td>\n",
       "      <td>100</td>\n",
       "      <td>Incorrecto</td>\n",
       "      <td>0.301193</td>\n",
       "      <td>P</td>\n",
       "    </tr>\n",
       "    <tr>\n",
       "      <td>13</td>\n",
       "      <td>100</td>\n",
       "      <td>Incorrecto</td>\n",
       "      <td>0.303121</td>\n",
       "      <td>P</td>\n",
       "    </tr>\n",
       "    <tr>\n",
       "      <td>14</td>\n",
       "      <td>100</td>\n",
       "      <td>Incorrecto</td>\n",
       "      <td>0.298367</td>\n",
       "      <td>P</td>\n",
       "    </tr>\n",
       "  </tbody>\n",
       "</table>\n",
       "</div>"
      ],
      "text/plain": [
       "    dimension  status_plu  tiempo_plu matrices_incorrectas\n",
       "0         100  Incorrecto    0.349174                    P\n",
       "1         100  Incorrecto    0.301740                    P\n",
       "2         100  Incorrecto    0.300194                    P\n",
       "3         100  Incorrecto    0.304114                    P\n",
       "4         100  Incorrecto    0.298461                    P\n",
       "5         100  Incorrecto    0.301688                    P\n",
       "6         100  Incorrecto    0.304084                    P\n",
       "7         100  Incorrecto    0.305896                    P\n",
       "8         100  Incorrecto    0.302621                    P\n",
       "9         100  Incorrecto    0.301582                    P\n",
       "10        100  Incorrecto    0.298964                    P\n",
       "11        100  Incorrecto    0.300046                    P\n",
       "12        100  Incorrecto    0.301193                    P\n",
       "13        100  Incorrecto    0.303121                    P\n",
       "14        100  Incorrecto    0.298367                    P"
      ]
     },
     "execution_count": 5,
     "metadata": {},
     "output_type": "execute_result"
    }
   ],
   "source": [
    "revision_factorizacion_PLU.revision_PLU('resultados.txt',15,10**2,10**2+1,-99,99)\n",
    "#Los argumentos son el nombre del archivo en donde se van a imprimir las matrices erróneas, número de corridas,\n",
    "#límite inferior y superior para la dimensión de las matrices, en este ejemplo de 10^2 x 10^2, límite inferior y superior\n",
    "#para el valor de las entradas de la matriz.\n"
   ]
  },
  {
   "cell_type": "markdown",
   "metadata": {},
   "source": [
    "Una vez detectado lo anterior, se decidió ya no usar el paquete \"scipy\" y sólo validar haciendo que PA=LU. \n",
    "\n",
    "Por lo que se realizó otro script llamado **\"revision_modular.py\"** en el cual, se encuentran principalmente las funciones de **revision_PLU**, **revision_x** y **revision_bloques**.\n",
    "\n",
    "En la de revision_PLU se hace básicamente lo descrito en el programa anterior, con la diferencia que ya no se ocupa el paquete \"scipy\", que no se están calculando inversas dado que este proceso de validación se integró en el algoritmo y que ya no se genera el archivo que imprime las matrices incorrectas.\n",
    "\n",
    "**Nota**: Al dataframe se le agregó la variable de la condición de la matriz de A.\n"
   ]
  },
  {
   "cell_type": "code",
   "execution_count": 6,
   "metadata": {},
   "outputs": [],
   "source": [
    "import revision_modular"
   ]
  },
  {
   "cell_type": "code",
   "execution_count": null,
   "metadata": {},
   "outputs": [],
   "source": [
    "revision_modular.revision_PLU(10,10**3,10**3+1,-99,99)\n",
    "#Los argumentos son el número de corridas, límite inferior y superior para la dimensión de las matrices, \n",
    "#en este ejemplo de 10^3 x 10^3, límite inferior y superior\n",
    "#para el valor de las entradas de la matriz."
   ]
  },
  {
   "cell_type": "markdown",
   "metadata": {},
   "source": [
    "Al hacer varias corridas y detecar que el programa estaba arrojando cálculos correctos, lo siguiente fue validar el valor de x con la función revision_x, en la que se genera aleatoriamente un vector x (\"real\"), que se multiplica por la matriz A para obtener el lado derecho del sistema de ecuaciones lineales (b) y así teniendo A y b, ejecutar el algoritmo y obtener la x estimada, se comparan las x's con una tolerancia absoluta de 10^-05 y sí se cumple esto se arroja un status \"Correcto\" y se obtiene el promedio del error absoluto de ambos vectores.\n",
    "\n",
    "Imprimiendo así, un dataframe con las siguientes variables: dimension_A, condicion_A, tiempo_x (lo que tardó en correr la función para obtener el valor de x), estado_x y error_absoluto."
   ]
  },
  {
   "cell_type": "code",
   "execution_count": null,
   "metadata": {},
   "outputs": [],
   "source": [
    "revision_modular.revision_x(10,10**3,10**3+1,-99,99)\n",
    "#Los argumentos son el número de corridas, límite inferior y superior para la dimensión de las matrices, \n",
    "#en este ejemplo de 10^3 x 10^3, límite inferior y superior\n",
    "#para el valor de las entradas de la matriz."
   ]
  }
 ],
 "metadata": {
  "kernelspec": {
   "display_name": "Python 3",
   "language": "python",
   "name": "python3"
  },
  "language_info": {
   "codemirror_mode": {
    "name": "ipython",
    "version": 3
   },
   "file_extension": ".py",
   "mimetype": "text/x-python",
   "name": "python",
   "nbconvert_exporter": "python",
   "pygments_lexer": "ipython3",
   "version": "3.7.4"
  }
 },
 "nbformat": 4,
 "nbformat_minor": 4
}
