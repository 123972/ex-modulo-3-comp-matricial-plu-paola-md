{
 "cells": [
  {
   "cell_type": "markdown",
   "metadata": {},
   "source": [
    "# **PROCEDIMIENTO DE REVISIÓN DEL CÓDIGO** #"
   ]
  },
  {
   "cell_type": "markdown",
   "metadata": {},
   "source": [
    "### Primera parte"
   ]
  },
  {
   "cell_type": "markdown",
   "metadata": {},
   "source": [
    "El primer paso para llevar a cabo este proceso fue revisar la factorización PLU, primeramente para matrices chicas (de hasta 10^3 x 10^3). Para ello el primer programa que realizamos para detectar errores, fue el de **\"revision_factorizacion_PLU.py\"** (se encuentra en la carpeta de /notebooks/Revision/Historicos) en el cual se encuentra la función \"revision_PLU\" y cuyo algoritmo es el siguiente:\n",
    "\n",
    "1) Genera matrices aleatorias de diferentes dimensiones y entradas.<br>\n",
    "2) Intenta calcular la inversa de la matriz A generada aleatoriamente, para que el producto con ésta regrese la matriz identidad y así garantizar que sea no singular.<br>\n",
    "3) Realiza la factorización PLU con el algoritmo realizado por el equipo de programación.<br>\n",
    "4) Compara los resultados del algoritmo desarrollado, cuyo output es **P,L,U** con las que se obtienen del paquete \"scipy\" con una tolerancia absoluta de 10^-05.<br>\n",
    "5) Si la condición de la comparación del paso anterior es \"verdadera\" se arroja un status \"Correcto\", si esta condición no se cumple devuelve un archivo con la matriz A y las matrices PLU de ambos algoritmos. El archivo mencionado se ocupó para levantar algunos issues.<br>\n",
    "6) Por último, devuelve un dataframe con las siguientes variables: dimensión, status_plu, tiempo_plu (lo que tardó en correr la función para obtener las matrices PLU) y matrices_incorrectas.<br>"
   ]
  },
  {
   "cell_type": "code",
   "execution_count": 1,
   "metadata": {},
   "outputs": [],
   "source": [
    "import revision_factorizacion_PLU"
   ]
  },
  {
   "cell_type": "markdown",
   "metadata": {},
   "source": [
    "Los argumentos que recibe la primera función **revision_PLU** :<br>\n",
    "* Nombre del archivo, en este caso \"resultados.txt\"<br>\n",
    "* Número de corridas que se refiere a cuantas veces corrimos el algoritmo para hacer la revisión, en este caso 15<br>\n",
    "* Límite inferior de la dimensión de la matriz, en este caso 10^2<br>\n",
    "* Límite superior de la dimensiónd de la matriz, en este caso 10^2+1<br>\n",
    "* Límite inferior de las entradas de A, es decir el valor de cada uno de los aij que puede tener la matriz, en este caso -99.<br>\n",
    "* Límite superior de las entradas de A, es decir el valor de cada uno de los aij que puede tener la matriz, en este caso 99.<br>"
   ]
  },
  {
   "cell_type": "code",
   "execution_count": 2,
   "metadata": {},
   "outputs": [
    {
     "data": {
      "text/html": [
       "<div>\n",
       "<style scoped>\n",
       "    .dataframe tbody tr th:only-of-type {\n",
       "        vertical-align: middle;\n",
       "    }\n",
       "\n",
       "    .dataframe tbody tr th {\n",
       "        vertical-align: top;\n",
       "    }\n",
       "\n",
       "    .dataframe thead th {\n",
       "        text-align: right;\n",
       "    }\n",
       "</style>\n",
       "<table border=\"1\" class=\"dataframe\">\n",
       "  <thead>\n",
       "    <tr style=\"text-align: right;\">\n",
       "      <th></th>\n",
       "      <th>dimension</th>\n",
       "      <th>status_plu</th>\n",
       "      <th>tiempo_plu</th>\n",
       "      <th>matrices_incorrectas</th>\n",
       "    </tr>\n",
       "  </thead>\n",
       "  <tbody>\n",
       "    <tr>\n",
       "      <th>0</th>\n",
       "      <td>100</td>\n",
       "      <td>Incorrecto</td>\n",
       "      <td>0.409556</td>\n",
       "      <td>P</td>\n",
       "    </tr>\n",
       "    <tr>\n",
       "      <th>1</th>\n",
       "      <td>100</td>\n",
       "      <td>Incorrecto</td>\n",
       "      <td>0.438533</td>\n",
       "      <td>P</td>\n",
       "    </tr>\n",
       "    <tr>\n",
       "      <th>2</th>\n",
       "      <td>100</td>\n",
       "      <td>Incorrecto</td>\n",
       "      <td>0.383858</td>\n",
       "      <td>P</td>\n",
       "    </tr>\n",
       "    <tr>\n",
       "      <th>3</th>\n",
       "      <td>100</td>\n",
       "      <td>Incorrecto</td>\n",
       "      <td>0.384655</td>\n",
       "      <td>P</td>\n",
       "    </tr>\n",
       "    <tr>\n",
       "      <th>4</th>\n",
       "      <td>100</td>\n",
       "      <td>Incorrecto</td>\n",
       "      <td>0.386704</td>\n",
       "      <td>P</td>\n",
       "    </tr>\n",
       "    <tr>\n",
       "      <th>5</th>\n",
       "      <td>100</td>\n",
       "      <td>Incorrecto</td>\n",
       "      <td>0.388967</td>\n",
       "      <td>P</td>\n",
       "    </tr>\n",
       "    <tr>\n",
       "      <th>6</th>\n",
       "      <td>100</td>\n",
       "      <td>Incorrecto</td>\n",
       "      <td>0.389509</td>\n",
       "      <td>P</td>\n",
       "    </tr>\n",
       "    <tr>\n",
       "      <th>7</th>\n",
       "      <td>100</td>\n",
       "      <td>Incorrecto</td>\n",
       "      <td>0.402660</td>\n",
       "      <td>P</td>\n",
       "    </tr>\n",
       "    <tr>\n",
       "      <th>8</th>\n",
       "      <td>100</td>\n",
       "      <td>Incorrecto</td>\n",
       "      <td>0.394185</td>\n",
       "      <td>P</td>\n",
       "    </tr>\n",
       "    <tr>\n",
       "      <th>9</th>\n",
       "      <td>100</td>\n",
       "      <td>Incorrecto</td>\n",
       "      <td>0.394642</td>\n",
       "      <td>P</td>\n",
       "    </tr>\n",
       "    <tr>\n",
       "      <th>10</th>\n",
       "      <td>100</td>\n",
       "      <td>Incorrecto</td>\n",
       "      <td>0.396100</td>\n",
       "      <td>P</td>\n",
       "    </tr>\n",
       "    <tr>\n",
       "      <th>11</th>\n",
       "      <td>100</td>\n",
       "      <td>Incorrecto</td>\n",
       "      <td>0.400965</td>\n",
       "      <td>P</td>\n",
       "    </tr>\n",
       "    <tr>\n",
       "      <th>12</th>\n",
       "      <td>100</td>\n",
       "      <td>Incorrecto</td>\n",
       "      <td>0.393036</td>\n",
       "      <td>P</td>\n",
       "    </tr>\n",
       "    <tr>\n",
       "      <th>13</th>\n",
       "      <td>100</td>\n",
       "      <td>Incorrecto</td>\n",
       "      <td>0.381879</td>\n",
       "      <td>P</td>\n",
       "    </tr>\n",
       "    <tr>\n",
       "      <th>14</th>\n",
       "      <td>100</td>\n",
       "      <td>Incorrecto</td>\n",
       "      <td>0.390597</td>\n",
       "      <td>P</td>\n",
       "    </tr>\n",
       "  </tbody>\n",
       "</table>\n",
       "</div>"
      ],
      "text/plain": [
       "    dimension  status_plu  tiempo_plu matrices_incorrectas\n",
       "0         100  Incorrecto    0.409556                    P\n",
       "1         100  Incorrecto    0.438533                    P\n",
       "2         100  Incorrecto    0.383858                    P\n",
       "3         100  Incorrecto    0.384655                    P\n",
       "4         100  Incorrecto    0.386704                    P\n",
       "5         100  Incorrecto    0.388967                    P\n",
       "6         100  Incorrecto    0.389509                    P\n",
       "7         100  Incorrecto    0.402660                    P\n",
       "8         100  Incorrecto    0.394185                    P\n",
       "9         100  Incorrecto    0.394642                    P\n",
       "10        100  Incorrecto    0.396100                    P\n",
       "11        100  Incorrecto    0.400965                    P\n",
       "12        100  Incorrecto    0.393036                    P\n",
       "13        100  Incorrecto    0.381879                    P\n",
       "14        100  Incorrecto    0.390597                    P"
      ]
     },
     "execution_count": 2,
     "metadata": {},
     "output_type": "execute_result"
    }
   ],
   "source": [
    "revision_factorizacion_PLU.revision_PLU('resultados.txt',15,10**2,10**2+1,-99,99)"
   ]
  },
  {
   "cell_type": "markdown",
   "metadata": {},
   "source": [
    "#### Comentarios\n",
    "<i>Al ejecutar repetidas veces este programa, detectamos que la matriz que siempre salía con status incorrecto era la matriz de permutación (P) que, al revisar la documentación de \"scipy\", observamos que A=PLU, mientras que en nuestro algoritmo se cumple que PA=LU, por lo que P en ambos algoritmos no iban a ser iguales.</i>"
   ]
  },
  {
   "cell_type": "markdown",
   "metadata": {},
   "source": [
    "### Segunda parte"
   ]
  },
  {
   "cell_type": "markdown",
   "metadata": {},
   "source": [
    "Una vez detectado lo anterior, se decidió ya no usar el paquete \"scipy\" y sólo validar haciendo que PA=LU. \n",
    "\n",
    "Por lo que se realizó otro script llamado **\"revision_modular.py\"** en el cual, se encuentran principalmente las funciones de **revision_PLU**, **revision_x** y **revision_bloques**.\n",
    "\n",
    "En la de revision_PLU se hace básicamente lo descrito en la primera parte de la revisión, pero se eliminó lo siguiente:<br>\n",
    "\n",
    "1) Genera matrices aleatorias de diferentes dimensiones y entradas.<br>\n",
    "<del>2) Intenta calcular la inversa de calcular su inversa de la matriz A generada aleatoriamente, para que el producto con ésta regrese la matriz identidad y así garantizar que sea no singular.</del>->Este paso se eliminó porque se implementó en el código que realiza la factorización PLU.<br>\n",
    "3) Realiza la factorización PLU con el algoritmo realizado por el equipo de programación.<br>\n",
    "<del>4) Compara los resultados del algoritmo desarrollado, cuyo output es **P,L,U** con las que se obtienen del paquete \"scipy\" con una tolerancia absoluta de 10^-05.</del>->Este paso se modificó a comprobar que PA=LU por la conclusión de la primera revisión.<br>\n",
    "5) Si la condición de la comparación del paso anterior es \"verdadera\" se arroja un status \"Correcto\",<del> si esta condición no se cumple devuelve un archivo con la matriz A y las matrices PLU de ambos algoritmos.</del>.<br>\n",
    "6) Por último, devuelve un dataframe con las siguientes variables: dimensión, **el número de condición de la matriz A**, tiempo_plu (lo que tardó en correr la función para obtener las matrices PLU) y el estatus del algoritmo.<br>\n"
   ]
  },
  {
   "cell_type": "code",
   "execution_count": 2,
   "metadata": {},
   "outputs": [],
   "source": [
    "import revision_modular"
   ]
  },
  {
   "cell_type": "markdown",
   "metadata": {},
   "source": [
    "Los argurmentos que recibe la función **revision_PLU**:<br>\n",
    "* Número de corridas que se refiere a cuantas veces corrimos el algoritmo para hacer la revisión, en este caso 3.<br>\n",
    "* Límite inferior de la dimensión de la matriz, en este caso 10^3<br>\n",
    "* Límite superior de la dimensiónd de la matriz, en este caso 10^3+1<br>\n",
    "* Límite inferior de las entradas de A, es decir el valor de cada uno de los aij que puede tener la matriz, en este caso -99.<br>\n",
    "* Límite superior de las entradas de A, es decir el valor de cada uno de los aij que puede tener la matriz, en este caso 99.<br>"
   ]
  },
  {
   "cell_type": "code",
   "execution_count": 3,
   "metadata": {},
   "outputs": [
    {
     "data": {
      "text/html": [
       "<div>\n",
       "<style scoped>\n",
       "    .dataframe tbody tr th:only-of-type {\n",
       "        vertical-align: middle;\n",
       "    }\n",
       "\n",
       "    .dataframe tbody tr th {\n",
       "        vertical-align: top;\n",
       "    }\n",
       "\n",
       "    .dataframe thead th {\n",
       "        text-align: right;\n",
       "    }\n",
       "</style>\n",
       "<table border=\"1\" class=\"dataframe\">\n",
       "  <thead>\n",
       "    <tr style=\"text-align: right;\">\n",
       "      <th></th>\n",
       "      <th>dimension_A</th>\n",
       "      <th>condicion_A</th>\n",
       "      <th>tiempo_plu</th>\n",
       "      <th>status_plu</th>\n",
       "    </tr>\n",
       "  </thead>\n",
       "  <tbody>\n",
       "    <tr>\n",
       "      <td>0</td>\n",
       "      <td>1000</td>\n",
       "      <td>4593.265682</td>\n",
       "      <td>256.302176</td>\n",
       "      <td>Correcto</td>\n",
       "    </tr>\n",
       "    <tr>\n",
       "      <td>1</td>\n",
       "      <td>1000</td>\n",
       "      <td>5056.666116</td>\n",
       "      <td>255.229766</td>\n",
       "      <td>Correcto</td>\n",
       "    </tr>\n",
       "    <tr>\n",
       "      <td>2</td>\n",
       "      <td>1000</td>\n",
       "      <td>1895.270194</td>\n",
       "      <td>260.893433</td>\n",
       "      <td>Correcto</td>\n",
       "    </tr>\n",
       "  </tbody>\n",
       "</table>\n",
       "</div>"
      ],
      "text/plain": [
       "   dimension_A  condicion_A  tiempo_plu status_plu\n",
       "0         1000  4593.265682  256.302176   Correcto\n",
       "1         1000  5056.666116  255.229766   Correcto\n",
       "2         1000  1895.270194  260.893433   Correcto"
      ]
     },
     "execution_count": 3,
     "metadata": {},
     "output_type": "execute_result"
    }
   ],
   "source": [
    "revision_modular.revision_PLU(3,10**3,10**3+1,-99,99)"
   ]
  },
  {
   "cell_type": "markdown",
   "metadata": {},
   "source": [
    "#### Comentarios\n",
    "<i>Al hacer varias corridas detectamos que el programa estaba arrojando cálculos correctos.</i>"
   ]
  },
  {
   "cell_type": "markdown",
   "metadata": {},
   "source": [
    "### Tercera parte"
   ]
  },
  {
   "cell_type": "markdown",
   "metadata": {},
   "source": [
    "Lo siguiente fue validar el valor de x con la función \"revision_x\" y cuyo algoritmo es el siguiente:<br>\n",
    "1) Genera matrices aleatorias de diferentes dimensiones y entradas.<br>\n",
    "2) Se calcula el número de condición de la matriz A generada en el punto anterior.<br>\n",
    "3) Se genera aleatoriamente un vector x (\"real\")<br>\n",
    "4) Se multiplica el vector x (\"real\") por la matriz A para obtener el lado derecho del sistema de ecuaciones lineales (b)<br>\n",
    "5) Se ejecuta el algoritmo de programación para resolver el sistema de ecuaciones $AX=b$ y obtener la x estimada.<br>\n",
    "6) Se comparan las x's con una tolerancia absoluta de 10^-05 y sí se cumple esto se arroja un status \"Correcto\" y se obtiene el promedio del error absoluto de ambos vectores.<br>\n",
    "7) Se imprime un dataframe con las siguientes variables: dimension_A, condicion_A, tiempo_x (lo que tardó en correr la función para obtener el valor de x), estado_x, error_absoluto y tipo de matriz."
   ]
  },
  {
   "cell_type": "markdown",
   "metadata": {},
   "source": [
    "Los argurmentos que recibe la función **revision_x** :<br>\n",
    "* Número de corridas que se refiere a cuantas veces corrimos el algoritmo para hacer la revisión, en este caso 3<br>\n",
    "* Límite inferior de la dimensión de la matriz, en este caso 10^3<br>\n",
    "* Límite superior de la dimensión de la matriz, en este caso 10^3+1<br>\n",
    "* Límite inferior de las entradas de A, es decir el valor de cada uno de los aij que puede tener la matriz, en este caso -99.<br>\n",
    "* Límite superior de las entradas de A, es decir el valor de cada uno de los aij que puede tener la matriz, en este caso 99.<br>"
   ]
  },
  {
   "cell_type": "code",
   "execution_count": 4,
   "metadata": {},
   "outputs": [
    {
     "data": {
      "text/html": [
       "<div>\n",
       "<style scoped>\n",
       "    .dataframe tbody tr th:only-of-type {\n",
       "        vertical-align: middle;\n",
       "    }\n",
       "\n",
       "    .dataframe tbody tr th {\n",
       "        vertical-align: top;\n",
       "    }\n",
       "\n",
       "    .dataframe thead th {\n",
       "        text-align: right;\n",
       "    }\n",
       "</style>\n",
       "<table border=\"1\" class=\"dataframe\">\n",
       "  <thead>\n",
       "    <tr style=\"text-align: right;\">\n",
       "      <th></th>\n",
       "      <th>dimension_A</th>\n",
       "      <th>condicion_A</th>\n",
       "      <th>tiempo_x</th>\n",
       "      <th>estado_x</th>\n",
       "      <th>error_absoluto</th>\n",
       "      <th>tipo_matriz</th>\n",
       "    </tr>\n",
       "  </thead>\n",
       "  <tbody>\n",
       "    <tr>\n",
       "      <td>0</td>\n",
       "      <td>1000</td>\n",
       "      <td>3608.890296</td>\n",
       "      <td>264.277840</td>\n",
       "      <td>Correcto</td>\n",
       "      <td>2.534007e-10</td>\n",
       "      <td>no singular</td>\n",
       "    </tr>\n",
       "    <tr>\n",
       "      <td>1</td>\n",
       "      <td>1000</td>\n",
       "      <td>1656.132927</td>\n",
       "      <td>262.550691</td>\n",
       "      <td>Correcto</td>\n",
       "      <td>4.761402e-10</td>\n",
       "      <td>no singular</td>\n",
       "    </tr>\n",
       "    <tr>\n",
       "      <td>2</td>\n",
       "      <td>1000</td>\n",
       "      <td>2504.861166</td>\n",
       "      <td>264.460646</td>\n",
       "      <td>Correcto</td>\n",
       "      <td>4.827736e-10</td>\n",
       "      <td>no singular</td>\n",
       "    </tr>\n",
       "  </tbody>\n",
       "</table>\n",
       "</div>"
      ],
      "text/plain": [
       "   dimension_A  condicion_A    tiempo_x  estado_x  error_absoluto  tipo_matriz\n",
       "0         1000  3608.890296  264.277840  Correcto    2.534007e-10  no singular\n",
       "1         1000  1656.132927  262.550691  Correcto    4.761402e-10  no singular\n",
       "2         1000  2504.861166  264.460646  Correcto    4.827736e-10  no singular"
      ]
     },
     "execution_count": 4,
     "metadata": {},
     "output_type": "execute_result"
    }
   ],
   "source": [
    "revision_modular.revision_x(3,10**3,10**3+1,-99,99)"
   ]
  },
  {
   "cell_type": "markdown",
   "metadata": {},
   "source": [
    "#### Comentarios\n",
    "<i>Al hacer varias corridas detectamos que el programa estaba arrojando cálculos correctos para la X estimada en comparación con la X \"real\"</i>"
   ]
  },
  {
   "cell_type": "markdown",
   "metadata": {},
   "source": [
    "### Cuarta parte"
   ]
  },
  {
   "cell_type": "markdown",
   "metadata": {},
   "source": [
    "Finalmente pasamos a la revisión del algoritmo por bloques \"solve_blocks\", el cual integra el algoritmo de la factorización PLU (previamente revisado), la solución de X por bloques fue revisada con la funcion **\"revision_bloques\"** y el algoritmo que sigue esta función es el siguiente:<br>\n",
    "1) Genera matrices aleatorias de diferentes dimensiones y entradas.<br>\n",
    "2) Genera el vector de X's aleatorio de dimensión n.<br>\n",
    "3) Se calcula B con la operación $AX=B$.<br>\n",
    "4) Se calcula el número de condición de la matriz A generada.<br>\n",
    "5) Se ejecuta el algoritmo de programación para resolver X por bloques.<br>\n",
    "6) Se calcula el error absoluto entre la <i>Xestimada</i> y <i>Xreal</i>, para posteriormente calcular el promedio de esos errores absolutos.<br>\n",
    "7) Se comparan las X's con una tolerancia absoluta de 10^-05 y sí se cumple esto se arroja un status \"Correcto\".<br>\n",
    "8) Se imprime un dataframe con las siguientes variables: dimension_A, condicion_A, tiempo_bloques (lo que tardó en correr la función por bloques para resolver X), el error_absoluto y tipo de matriz."
   ]
  },
  {
   "cell_type": "code",
   "execution_count": 11,
   "metadata": {},
   "outputs": [],
   "source": [
    "bloques=revision_modular.revision_bloques(5,10**2,10**3+1,-99,99)"
   ]
  },
  {
   "cell_type": "markdown",
   "metadata": {},
   "source": [
    "Los argurmentos que recibe la función **revision_bloques** :<br>\n",
    "* Número de corridas que se refiere a cuantas veces corrimos el algoritmo para hacer la revisión, en este caso 5<br>\n",
    "* Límite inferior de la dimensión de la matriz, en este caso 10^2<br>\n",
    "* Límite superior de la dimensión de la matriz, en este caso 10^3+1<br>\n",
    "* Límite inferior de las entradas de A, es decir el valor de cada uno de los aij que puede tener la matriz, en este caso -99.<br>\n",
    "* Límite superior de las entradas de A, es decir el valor de cada uno de los aij que puede tener la matriz, en este caso 99.<br>"
   ]
  },
  {
   "cell_type": "code",
   "execution_count": 12,
   "metadata": {},
   "outputs": [
    {
     "data": {
      "text/html": [
       "<div>\n",
       "<style scoped>\n",
       "    .dataframe tbody tr th:only-of-type {\n",
       "        vertical-align: middle;\n",
       "    }\n",
       "\n",
       "    .dataframe tbody tr th {\n",
       "        vertical-align: top;\n",
       "    }\n",
       "\n",
       "    .dataframe thead th {\n",
       "        text-align: right;\n",
       "    }\n",
       "</style>\n",
       "<table border=\"1\" class=\"dataframe\">\n",
       "  <thead>\n",
       "    <tr style=\"text-align: right;\">\n",
       "      <th></th>\n",
       "      <th>dimension_A</th>\n",
       "      <th>condicion_A</th>\n",
       "      <th>tiempo_bloques</th>\n",
       "      <th>solucion_bloques</th>\n",
       "      <th>error_absoluto</th>\n",
       "      <th>tipo_matriz</th>\n",
       "    </tr>\n",
       "  </thead>\n",
       "  <tbody>\n",
       "    <tr>\n",
       "      <td>0</td>\n",
       "      <td>437</td>\n",
       "      <td>2161.932514</td>\n",
       "      <td>11.729401</td>\n",
       "      <td>Correcto</td>\n",
       "      <td>2.061515e-10</td>\n",
       "      <td>no singular</td>\n",
       "    </tr>\n",
       "    <tr>\n",
       "      <td>1</td>\n",
       "      <td>650</td>\n",
       "      <td>2493.569801</td>\n",
       "      <td>36.944762</td>\n",
       "      <td>Correcto</td>\n",
       "      <td>1.063653e-10</td>\n",
       "      <td>no singular</td>\n",
       "    </tr>\n",
       "    <tr>\n",
       "      <td>2</td>\n",
       "      <td>393</td>\n",
       "      <td>740.065106</td>\n",
       "      <td>8.647922</td>\n",
       "      <td>Correcto</td>\n",
       "      <td>1.000175e-10</td>\n",
       "      <td>no singular</td>\n",
       "    </tr>\n",
       "    <tr>\n",
       "      <td>3</td>\n",
       "      <td>442</td>\n",
       "      <td>2988.282747</td>\n",
       "      <td>11.954613</td>\n",
       "      <td>Correcto</td>\n",
       "      <td>2.413086e-10</td>\n",
       "      <td>no singular</td>\n",
       "    </tr>\n",
       "    <tr>\n",
       "      <td>4</td>\n",
       "      <td>874</td>\n",
       "      <td>1701.885342</td>\n",
       "      <td>89.170446</td>\n",
       "      <td>Correcto</td>\n",
       "      <td>3.391490e-10</td>\n",
       "      <td>no singular</td>\n",
       "    </tr>\n",
       "  </tbody>\n",
       "</table>\n",
       "</div>"
      ],
      "text/plain": [
       "   dimension_A  condicion_A  tiempo_bloques solucion_bloques  error_absoluto  \\\n",
       "0          437  2161.932514       11.729401         Correcto    2.061515e-10   \n",
       "1          650  2493.569801       36.944762         Correcto    1.063653e-10   \n",
       "2          393   740.065106        8.647922         Correcto    1.000175e-10   \n",
       "3          442  2988.282747       11.954613         Correcto    2.413086e-10   \n",
       "4          874  1701.885342       89.170446         Correcto    3.391490e-10   \n",
       "\n",
       "   tipo_matriz  \n",
       "0  no singular  \n",
       "1  no singular  \n",
       "2  no singular  \n",
       "3  no singular  \n",
       "4  no singular  "
      ]
     },
     "execution_count": 12,
     "metadata": {},
     "output_type": "execute_result"
    }
   ],
   "source": [
    "bloques"
   ]
  },
  {
   "cell_type": "code",
   "execution_count": 13,
   "metadata": {},
   "outputs": [],
   "source": [
    "bloques2=revision_modular.revision_bloques(3,10**3,10**3+1,-99,99)"
   ]
  },
  {
   "cell_type": "code",
   "execution_count": 14,
   "metadata": {},
   "outputs": [
    {
     "data": {
      "text/html": [
       "<div>\n",
       "<style scoped>\n",
       "    .dataframe tbody tr th:only-of-type {\n",
       "        vertical-align: middle;\n",
       "    }\n",
       "\n",
       "    .dataframe tbody tr th {\n",
       "        vertical-align: top;\n",
       "    }\n",
       "\n",
       "    .dataframe thead th {\n",
       "        text-align: right;\n",
       "    }\n",
       "</style>\n",
       "<table border=\"1\" class=\"dataframe\">\n",
       "  <thead>\n",
       "    <tr style=\"text-align: right;\">\n",
       "      <th></th>\n",
       "      <th>dimension_A</th>\n",
       "      <th>condicion_A</th>\n",
       "      <th>tiempo_bloques</th>\n",
       "      <th>solucion_bloques</th>\n",
       "      <th>error_absoluto</th>\n",
       "      <th>tipo_matriz</th>\n",
       "    </tr>\n",
       "  </thead>\n",
       "  <tbody>\n",
       "    <tr>\n",
       "      <td>0</td>\n",
       "      <td>1000</td>\n",
       "      <td>959.853098</td>\n",
       "      <td>129.418662</td>\n",
       "      <td>Correcto</td>\n",
       "      <td>1.789750e-10</td>\n",
       "      <td>no singular</td>\n",
       "    </tr>\n",
       "    <tr>\n",
       "      <td>1</td>\n",
       "      <td>1000</td>\n",
       "      <td>3458.178987</td>\n",
       "      <td>130.270725</td>\n",
       "      <td>Correcto</td>\n",
       "      <td>4.106150e-10</td>\n",
       "      <td>no singular</td>\n",
       "    </tr>\n",
       "    <tr>\n",
       "      <td>2</td>\n",
       "      <td>1000</td>\n",
       "      <td>3834.875115</td>\n",
       "      <td>129.122278</td>\n",
       "      <td>Correcto</td>\n",
       "      <td>2.524819e-10</td>\n",
       "      <td>no singular</td>\n",
       "    </tr>\n",
       "  </tbody>\n",
       "</table>\n",
       "</div>"
      ],
      "text/plain": [
       "   dimension_A  condicion_A  tiempo_bloques solucion_bloques  error_absoluto  \\\n",
       "0         1000   959.853098      129.418662         Correcto    1.789750e-10   \n",
       "1         1000  3458.178987      130.270725         Correcto    4.106150e-10   \n",
       "2         1000  3834.875115      129.122278         Correcto    2.524819e-10   \n",
       "\n",
       "   tipo_matriz  \n",
       "0  no singular  \n",
       "1  no singular  \n",
       "2  no singular  "
      ]
     },
     "execution_count": 14,
     "metadata": {},
     "output_type": "execute_result"
    }
   ],
   "source": [
    "bloques2"
   ]
  },
  {
   "cell_type": "code",
   "execution_count": 15,
   "metadata": {},
   "outputs": [],
   "source": [
    "bloques.sort_values(by=['dimension_A'],inplace=True)\n",
    "dimension = bloques['dimension_A']\n",
    "tiempo=bloques['tiempo_bloques']"
   ]
  },
  {
   "cell_type": "code",
   "execution_count": 16,
   "metadata": {},
   "outputs": [
    {
     "data": {
      "image/png": "[encoded data removed]",
      "text/plain": [
       "<Figure size 432x288 with 1 Axes>"
      ]
     },
     "metadata": {
      "needs_background": "light"
     },
     "output_type": "display_data"
    }
   ],
   "source": [
    "import matplotlib.pyplot as plt\n",
    "plt.plot(tiempo,dimension,'o-')\n",
    "plt.title('Gráfica dimension de matriz contra el tiempo de ejecución')\n",
    "plt.xlabel('dimension')\n",
    "plt.ylabel('tiempo_bloques')\n",
    "plt.grid()\n",
    "plt.show()"
   ]
  },
  {
   "cell_type": "markdown",
   "metadata": {},
   "source": [
    "#### Comentarios\n",
    "<i>Al hacer varias corridas detectamos que el programa estaba arrojando cálculos correctos para la X estimada con el algoritmo de bloques, y de igual forma obtuvimos que el error absoluto es en casi todos los casos de orden 10^-10 lo cual indica que nuestro algoritmo tiene una buena aproximación. \n",
    "    \n",
    "Además, hicimos una gráfica de la dimensión de la matriz contra el tiempo de ejecución del algoritmo y se obtiene que a mayor dimensión de la matriz generada mayor tiempo de ejecución, lo cual era lo esperado.</i>\n",
    "\n",
    "**Sin embargo, es importante señalar que el tiempo de ejecución baja considerablemente para matrices de 10^3 x 10^3 usando el algoritmo por bloques.**"
   ]
  },
  {
   "cell_type": "markdown",
   "metadata": {},
   "source": [
    "Para el caso de matrices singulares, el algoritmo por bloques arroja el siguiente mensaje:"
   ]
  },
  {
   "cell_type": "code",
   "execution_count": 18,
   "metadata": {},
   "outputs": [],
   "source": [
    "import numpy as np"
   ]
  },
  {
   "cell_type": "code",
   "execution_count": 19,
   "metadata": {},
   "outputs": [],
   "source": [
    "#definimos matriz singular y su lado derecho\n",
    "A=np.array([[1,2],\n",
    "          [1,2]])\n",
    "b=np.array([3,3])"
   ]
  },
  {
   "cell_type": "code",
   "execution_count": 20,
   "metadata": {},
   "outputs": [
    {
     "ename": "ValueError",
     "evalue": "Please enter a non-singular matrix.",
     "output_type": "error",
     "traceback": [
      "\u001b[0;31m---------------------------------------------------------------------------\u001b[0m",
      "\u001b[0;31mLinAlgError\u001b[0m                               Traceback (most recent call last)",
      "\u001b[0;32m~/Documents/MNO/TodoJunto.py\u001b[0m in \u001b[0;36msolve\u001b[0;34m(A, b)\u001b[0m\n\u001b[1;32m    241\u001b[0m         \u001b[0;31m#Paso 3\u001b[0m\u001b[0;34m\u001b[0m\u001b[0;34m\u001b[0m\u001b[0;34m\u001b[0m\u001b[0m\n\u001b[0;32m--> 242\u001b[0;31m         \u001b[0mx\u001b[0m \u001b[0;34m=\u001b[0m \u001b[0msolve_triangular\u001b[0m\u001b[0;34m(\u001b[0m\u001b[0mU\u001b[0m\u001b[0;34m,\u001b[0m \u001b[0md\u001b[0m\u001b[0;34m,\u001b[0m \u001b[0mlower\u001b[0m \u001b[0;34m=\u001b[0m \u001b[0;32mFalse\u001b[0m\u001b[0;34m)\u001b[0m\u001b[0;34m\u001b[0m\u001b[0;34m\u001b[0m\u001b[0m\n\u001b[0m\u001b[1;32m    243\u001b[0m     \u001b[0;32mexcept\u001b[0m \u001b[0;34m(\u001b[0m\u001b[0mException\u001b[0m\u001b[0;34m)\u001b[0m \u001b[0;32mas\u001b[0m \u001b[0merror\u001b[0m \u001b[0;34m:\u001b[0m\u001b[0;34m\u001b[0m\u001b[0;34m\u001b[0m\u001b[0m\n",
      "\u001b[0;32m/opt/anaconda3/lib/python3.7/site-packages/scipy/linalg/basic.py\u001b[0m in \u001b[0;36msolve_triangular\u001b[0;34m(a, b, trans, lower, unit_diagonal, overwrite_b, debug, check_finite)\u001b[0m\n\u001b[1;32m    352\u001b[0m         raise LinAlgError(\"singular matrix: resolution failed at diagonal %d\" %\n\u001b[0;32m--> 353\u001b[0;31m                           (info-1))\n\u001b[0m\u001b[1;32m    354\u001b[0m     raise ValueError('illegal value in %d-th argument of internal trtrs' %\n",
      "\u001b[0;31mLinAlgError\u001b[0m: singular matrix: resolution failed at diagonal 0",
      "\nDuring handling of the above exception, another exception occurred:\n",
      "\u001b[0;31mValueError\u001b[0m                                Traceback (most recent call last)",
      "\u001b[0;32m~/Documents/MNO/TodoJunto.py\u001b[0m in \u001b[0;36msolve_blocks\u001b[0;34m(A, b)\u001b[0m\n\u001b[1;32m    290\u001b[0m \u001b[0;34m\u001b[0m\u001b[0m\n\u001b[0;32m--> 291\u001b[0;31m             \u001b[0mx2\u001b[0m \u001b[0;34m=\u001b[0m \u001b[0mnuestro_algoritmo\u001b[0m\u001b[0;34m(\u001b[0m\u001b[0mSchur\u001b[0m\u001b[0;34m,\u001b[0m \u001b[0mb_hat\u001b[0m\u001b[0;34m)\u001b[0m\u001b[0;34m\u001b[0m\u001b[0;34m\u001b[0m\u001b[0m\n\u001b[0m\u001b[1;32m    292\u001b[0m             \u001b[0mx1\u001b[0m \u001b[0;34m=\u001b[0m \u001b[0mnuestro_algoritmo\u001b[0m\u001b[0;34m(\u001b[0m\u001b[0mA11\u001b[0m\u001b[0;34m,\u001b[0m \u001b[0;34m(\u001b[0m\u001b[0mb1\u001b[0m\u001b[0;34m-\u001b[0m\u001b[0mA12\u001b[0m\u001b[0;34m@\u001b[0m\u001b[0mx2\u001b[0m\u001b[0;34m)\u001b[0m\u001b[0;34m)\u001b[0m\u001b[0;34m\u001b[0m\u001b[0;34m\u001b[0m\u001b[0m\n",
      "\u001b[0;32m~/Documents/MNO/TodoJunto.py\u001b[0m in \u001b[0;36mnuestro_algoritmo\u001b[0;34m(A, b)\u001b[0m\n\u001b[1;32m    249\u001b[0m \u001b[0;32mdef\u001b[0m \u001b[0mnuestro_algoritmo\u001b[0m\u001b[0;34m(\u001b[0m\u001b[0mA\u001b[0m\u001b[0;34m,\u001b[0m \u001b[0mb\u001b[0m\u001b[0;34m)\u001b[0m\u001b[0;34m:\u001b[0m\u001b[0;34m\u001b[0m\u001b[0;34m\u001b[0m\u001b[0m\n\u001b[0;32m--> 250\u001b[0;31m     \u001b[0;32mreturn\u001b[0m \u001b[0msolve\u001b[0m\u001b[0;34m(\u001b[0m\u001b[0mA\u001b[0m\u001b[0;34m,\u001b[0m\u001b[0mb\u001b[0m\u001b[0;34m)\u001b[0m\u001b[0;34m\u001b[0m\u001b[0;34m\u001b[0m\u001b[0m\n\u001b[0m\u001b[1;32m    251\u001b[0m \u001b[0;34m\u001b[0m\u001b[0m\n",
      "\u001b[0;32m~/Documents/MNO/TodoJunto.py\u001b[0m in \u001b[0;36msolve\u001b[0;34m(A, b)\u001b[0m\n\u001b[1;32m    243\u001b[0m     \u001b[0;32mexcept\u001b[0m \u001b[0;34m(\u001b[0m\u001b[0mException\u001b[0m\u001b[0;34m)\u001b[0m \u001b[0;32mas\u001b[0m \u001b[0merror\u001b[0m \u001b[0;34m:\u001b[0m\u001b[0;34m\u001b[0m\u001b[0;34m\u001b[0m\u001b[0m\n\u001b[0;32m--> 244\u001b[0;31m         \u001b[0;32mraise\u001b[0m \u001b[0mValueError\u001b[0m\u001b[0;34m(\u001b[0m\u001b[0;34m'Please enter a non-singular matrix.'\u001b[0m\u001b[0;34m)\u001b[0m\u001b[0;34m\u001b[0m\u001b[0;34m\u001b[0m\u001b[0m\n\u001b[0m\u001b[1;32m    245\u001b[0m \u001b[0;34m\u001b[0m\u001b[0m\n",
      "\u001b[0;31mValueError\u001b[0m: Please enter a non-singular matrix.",
      "\nDuring handling of the above exception, another exception occurred:\n",
      "\u001b[0;31mValueError\u001b[0m                                Traceback (most recent call last)",
      "\u001b[0;32m<ipython-input-20-8285439de824>\u001b[0m in \u001b[0;36m<module>\u001b[0;34m\u001b[0m\n\u001b[0;32m----> 1\u001b[0;31m \u001b[0mrevision_modular\u001b[0m\u001b[0;34m.\u001b[0m\u001b[0mresuelve_bloques\u001b[0m\u001b[0;34m(\u001b[0m\u001b[0mA\u001b[0m\u001b[0;34m,\u001b[0m\u001b[0mb\u001b[0m\u001b[0;34m)\u001b[0m\u001b[0;34m\u001b[0m\u001b[0;34m\u001b[0m\u001b[0m\n\u001b[0m",
      "\u001b[0;32m~/Documents/MNO/revision_modular.py\u001b[0m in \u001b[0;36mresuelve_bloques\u001b[0;34m(A, B)\u001b[0m\n\u001b[1;32m    104\u001b[0m     '''\n\u001b[1;32m    105\u001b[0m     \u001b[0mstart_time\u001b[0m\u001b[0;34m=\u001b[0m\u001b[0mtime\u001b[0m\u001b[0;34m.\u001b[0m\u001b[0mtime\u001b[0m\u001b[0;34m(\u001b[0m\u001b[0;34m)\u001b[0m\u001b[0;34m\u001b[0m\u001b[0;34m\u001b[0m\u001b[0m\n\u001b[0;32m--> 106\u001b[0;31m     \u001b[0mX_algoritmo\u001b[0m\u001b[0;34m=\u001b[0m\u001b[0mTodoJunto\u001b[0m\u001b[0;34m.\u001b[0m\u001b[0msolve_blocks\u001b[0m\u001b[0;34m(\u001b[0m\u001b[0mA\u001b[0m\u001b[0;34m,\u001b[0m\u001b[0mB\u001b[0m\u001b[0;34m)\u001b[0m\u001b[0;34m\u001b[0m\u001b[0;34m\u001b[0m\u001b[0m\n\u001b[0m\u001b[1;32m    107\u001b[0m     \u001b[0mend_time\u001b[0m\u001b[0;34m=\u001b[0m\u001b[0mtime\u001b[0m\u001b[0;34m.\u001b[0m\u001b[0mtime\u001b[0m\u001b[0;34m(\u001b[0m\u001b[0;34m)\u001b[0m\u001b[0;34m\u001b[0m\u001b[0;34m\u001b[0m\u001b[0m\n\u001b[1;32m    108\u001b[0m     \u001b[0mtiempo_total\u001b[0m \u001b[0;34m=\u001b[0m \u001b[0mend_time\u001b[0m\u001b[0;34m-\u001b[0m\u001b[0mstart_time\u001b[0m\u001b[0;34m\u001b[0m\u001b[0;34m\u001b[0m\u001b[0m\n",
      "\u001b[0;32m~/Documents/MNO/TodoJunto.py\u001b[0m in \u001b[0;36msolve_blocks\u001b[0;34m(A, b)\u001b[0m\n\u001b[1;32m    295\u001b[0m \u001b[0;34m\u001b[0m\u001b[0m\n\u001b[1;32m    296\u001b[0m         \u001b[0;32mexcept\u001b[0m \u001b[0;34m(\u001b[0m\u001b[0mException\u001b[0m\u001b[0;34m)\u001b[0m \u001b[0;32mas\u001b[0m \u001b[0merror\u001b[0m \u001b[0;34m:\u001b[0m\u001b[0;34m\u001b[0m\u001b[0;34m\u001b[0m\u001b[0m\n\u001b[0;32m--> 297\u001b[0;31m             \u001b[0;32mraise\u001b[0m \u001b[0mValueError\u001b[0m\u001b[0;34m(\u001b[0m\u001b[0;34m'Please enter a non-singular matrix.'\u001b[0m\u001b[0;34m)\u001b[0m\u001b[0;34m\u001b[0m\u001b[0;34m\u001b[0m\u001b[0m\n\u001b[0m\u001b[1;32m    298\u001b[0m             \u001b[0mprint\u001b[0m \u001b[0;34m(\u001b[0m\u001b[0;34m\"Please enter a non-singular matrix\"\u001b[0m\u001b[0;34m)\u001b[0m\u001b[0;34m\u001b[0m\u001b[0;34m\u001b[0m\u001b[0m\n\u001b[1;32m    299\u001b[0m             \u001b[0mX\u001b[0m \u001b[0;34m=\u001b[0m \u001b[0;34m-\u001b[0m\u001b[0;36m1\u001b[0m\u001b[0;34m\u001b[0m\u001b[0;34m\u001b[0m\u001b[0m\n",
      "\u001b[0;31mValueError\u001b[0m: Please enter a non-singular matrix."
     ]
    }
   ],
   "source": [
    "revision_modular.resuelve_bloques(A,b)"
   ]
  }
 ],
 "metadata": {
  "kernelspec": {
   "display_name": "Python 3",
   "language": "python",
   "name": "python3"
  },
  "language_info": {
   "codemirror_mode": {
    "name": "ipython",
    "version": 3
   },
   "file_extension": ".py",
   "mimetype": "text/x-python",
   "name": "python",
   "nbconvert_exporter": "python",
   "pygments_lexer": "ipython3",
   "version": "3.7.4"
  }
 },
 "nbformat": 4,
 "nbformat_minor": 4
}
