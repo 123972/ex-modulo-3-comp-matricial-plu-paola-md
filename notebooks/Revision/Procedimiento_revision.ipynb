{
 "cells": [
  {
   "cell_type": "markdown",
   "metadata": {},
   "source": [
    "# **PROCEDIMIENTO DE REVISIÓN DEL CÓDIGO** #"
   ]
  },
  {
   "cell_type": "markdown",
   "metadata": {},
   "source": [
    "### Primera parte"
   ]
  },
  {
   "cell_type": "markdown",
   "metadata": {},
   "source": [
    "El primer paso para llevar a cabo este proceso fue revisar la factorización PLU, primeramente para matrices chicas (de hasta 10^3 x 10^3). Para ello el primer programa que realizamos para detectar errores, fue el de **\"revision_factorizacion_PLU.py\"** (se encuentra en la carpeta de /notebooks/Revision/Historicos) en el cual se encuentra la función \"revision_PLU\" y cuyo algoritmo es el siguiente:\n",
    "\n",
    "1) Genera matrices aleatorias de diferentes dimensiones y entradas.<br>\n",
    "2) Intenta calcular la inversa de la matriz A generada aleatoriamente, para que el producto con ésta regrese la matriz identidad y así garantizar que sea no singular.<br>\n",
    "3) Realiza la factorización PLU con el algoritmo realizado por el equipo de programación.<br>\n",
    "4) Compara los resultados del algoritmo desarrollado, cuyo output es **P,L,U** con las que se obtienen del paquete \"scipy\" con una tolerancia absoluta de 10^-05.<br>\n",
    "5) Si la condición de la comparación del paso anterior es \"verdadera\" se arroja un status \"Correcto\", si esta condición no se cumple devuelve un archivo con la matriz A y las matrices PLU de ambos algoritmos. El archivo mencionado se ocupó para levantar algunos issues.<br>\n",
    "6) Por último, devuelve un dataframe con las siguientes variables: dimensión, status_plu, tiempo_plu (lo que tardó en correr la función para obtener las matrices PLU) y matrices_incorrectas.<br>"
   ]
  },
  {
   "cell_type": "code",
   "execution_count": null,
   "metadata": {},
   "outputs": [],
   "source": [
    "import sys\n",
    "sys.path.append('./../../')\n",
    "\n",
    "# OPTIONAL: Load the \"autoreload\" extension so that code can change\n",
    "%load_ext autoreload\n",
    "\n",
    "#Own Library modules\n",
    "import src\n",
    "# OPTIONAL: always reload modules so that as you change code in src, it gets loaded\n",
    "%autoreload 2\n",
    "\n",
    "#Funciones de revisión\n",
    "from src.test_algorithms import revision_factorizacion_PLU"
   ]
  },
  {
   "cell_type": "markdown",
   "metadata": {},
   "source": [
    "Los argumentos que recibe la primera función **revision_PLU** :<br>\n",
    "* Nombre del archivo, en este caso \"resultados.txt\"<br>\n",
    "* Número de corridas que se refiere a cuantas veces corrimos el algoritmo para hacer la revisión, en este caso 15<br>\n",
    "* Límite inferior de la dimensión de la matriz, en este caso 10^2<br>\n",
    "* Límite superior de la dimensiónd de la matriz, en este caso 10^2+1<br>\n",
    "* Límite inferior de las entradas de A, es decir el valor de cada uno de los aij que puede tener la matriz, en este caso -99.<br>\n",
    "* Límite superior de las entradas de A, es decir el valor de cada uno de los aij que puede tener la matriz, en este caso 99.<br>"
   ]
  },
  {
   "cell_type": "code",
   "execution_count": 11,
   "metadata": {},
   "outputs": [
    {
     "data": {
      "text/html": [
       "<div>\n",
       "<style scoped>\n",
       "    .dataframe tbody tr th:only-of-type {\n",
       "        vertical-align: middle;\n",
       "    }\n",
       "\n",
       "    .dataframe tbody tr th {\n",
       "        vertical-align: top;\n",
       "    }\n",
       "\n",
       "    .dataframe thead th {\n",
       "        text-align: right;\n",
       "    }\n",
       "</style>\n",
       "<table border=\"1\" class=\"dataframe\">\n",
       "  <thead>\n",
       "    <tr style=\"text-align: right;\">\n",
       "      <th></th>\n",
       "      <th>dimension</th>\n",
       "      <th>status_plu</th>\n",
       "      <th>tiempo_plu</th>\n",
       "      <th>matrices_incorrectas</th>\n",
       "    </tr>\n",
       "  </thead>\n",
       "  <tbody>\n",
       "    <tr>\n",
       "      <th>0</th>\n",
       "      <td>100</td>\n",
       "      <td>Incorrecto</td>\n",
       "      <td>2.166639</td>\n",
       "      <td>P</td>\n",
       "    </tr>\n",
       "    <tr>\n",
       "      <th>1</th>\n",
       "      <td>100</td>\n",
       "      <td>Incorrecto</td>\n",
       "      <td>1.791332</td>\n",
       "      <td>P</td>\n",
       "    </tr>\n",
       "    <tr>\n",
       "      <th>2</th>\n",
       "      <td>100</td>\n",
       "      <td>Incorrecto</td>\n",
       "      <td>2.083854</td>\n",
       "      <td>P</td>\n",
       "    </tr>\n",
       "    <tr>\n",
       "      <th>3</th>\n",
       "      <td>100</td>\n",
       "      <td>Incorrecto</td>\n",
       "      <td>1.797055</td>\n",
       "      <td>P</td>\n",
       "    </tr>\n",
       "    <tr>\n",
       "      <th>4</th>\n",
       "      <td>100</td>\n",
       "      <td>Incorrecto</td>\n",
       "      <td>1.114240</td>\n",
       "      <td>P</td>\n",
       "    </tr>\n",
       "    <tr>\n",
       "      <th>5</th>\n",
       "      <td>100</td>\n",
       "      <td>Incorrecto</td>\n",
       "      <td>1.779011</td>\n",
       "      <td>P</td>\n",
       "    </tr>\n",
       "    <tr>\n",
       "      <th>6</th>\n",
       "      <td>100</td>\n",
       "      <td>Incorrecto</td>\n",
       "      <td>1.264601</td>\n",
       "      <td>P</td>\n",
       "    </tr>\n",
       "    <tr>\n",
       "      <th>7</th>\n",
       "      <td>100</td>\n",
       "      <td>Incorrecto</td>\n",
       "      <td>1.596583</td>\n",
       "      <td>P</td>\n",
       "    </tr>\n",
       "    <tr>\n",
       "      <th>8</th>\n",
       "      <td>100</td>\n",
       "      <td>Incorrecto</td>\n",
       "      <td>1.181513</td>\n",
       "      <td>P</td>\n",
       "    </tr>\n",
       "    <tr>\n",
       "      <th>9</th>\n",
       "      <td>100</td>\n",
       "      <td>Incorrecto</td>\n",
       "      <td>1.489248</td>\n",
       "      <td>P</td>\n",
       "    </tr>\n",
       "    <tr>\n",
       "      <th>10</th>\n",
       "      <td>100</td>\n",
       "      <td>Incorrecto</td>\n",
       "      <td>1.201811</td>\n",
       "      <td>P</td>\n",
       "    </tr>\n",
       "    <tr>\n",
       "      <th>11</th>\n",
       "      <td>100</td>\n",
       "      <td>Incorrecto</td>\n",
       "      <td>1.237168</td>\n",
       "      <td>P</td>\n",
       "    </tr>\n",
       "    <tr>\n",
       "      <th>12</th>\n",
       "      <td>100</td>\n",
       "      <td>Incorrecto</td>\n",
       "      <td>1.267048</td>\n",
       "      <td>P</td>\n",
       "    </tr>\n",
       "    <tr>\n",
       "      <th>13</th>\n",
       "      <td>100</td>\n",
       "      <td>Incorrecto</td>\n",
       "      <td>0.962341</td>\n",
       "      <td>P</td>\n",
       "    </tr>\n",
       "    <tr>\n",
       "      <th>14</th>\n",
       "      <td>100</td>\n",
       "      <td>Incorrecto</td>\n",
       "      <td>1.459023</td>\n",
       "      <td>P</td>\n",
       "    </tr>\n",
       "  </tbody>\n",
       "</table>\n",
       "</div>"
      ],
      "text/plain": [
       "    dimension  status_plu  tiempo_plu matrices_incorrectas\n",
       "0         100  Incorrecto    2.166639                    P\n",
       "1         100  Incorrecto    1.791332                    P\n",
       "2         100  Incorrecto    2.083854                    P\n",
       "3         100  Incorrecto    1.797055                    P\n",
       "4         100  Incorrecto    1.114240                    P\n",
       "5         100  Incorrecto    1.779011                    P\n",
       "6         100  Incorrecto    1.264601                    P\n",
       "7         100  Incorrecto    1.596583                    P\n",
       "8         100  Incorrecto    1.181513                    P\n",
       "9         100  Incorrecto    1.489248                    P\n",
       "10        100  Incorrecto    1.201811                    P\n",
       "11        100  Incorrecto    1.237168                    P\n",
       "12        100  Incorrecto    1.267048                    P\n",
       "13        100  Incorrecto    0.962341                    P\n",
       "14        100  Incorrecto    1.459023                    P"
      ]
     },
     "execution_count": 11,
     "metadata": {},
     "output_type": "execute_result"
    }
   ],
   "source": [
    "revision_factorizacion_PLU.revision_PLU('resultados.txt',15,10**2,10**2+1,-99,99)"
   ]
  },
  {
   "cell_type": "markdown",
   "metadata": {},
   "source": [
    "#### Comentarios\n",
    "<i>Al ejecutar repetidas veces este programa, detectamos que la matriz que siempre salía con status incorrecto era la matriz de permutación (P) que, al revisar la documentación de \"scipy\", observamos que A=PLU, mientras que en nuestro algoritmo se cumple que PA=LU, por lo que P en ambos algoritmos no iban a ser iguales.</i>"
   ]
  },
  {
   "cell_type": "markdown",
   "metadata": {},
   "source": [
    "### Segunda parte"
   ]
  },
  {
   "cell_type": "markdown",
   "metadata": {},
   "source": [
    "Una vez detectado lo anterior, se decidió ya no usar el paquete \"scipy\" y sólo validar haciendo que PA=LU. \n",
    "\n",
    "Por lo que se realizó otro script llamado **\"revision_modular.py\"** en el cual, se encuentran principalmente las funciones de **revision_PLU**, **revision_x** y **revision_bloques**.\n",
    "\n",
    "En la de revision_PLU se hace básicamente lo descrito en la primera parte de la revisión, pero se eliminó lo siguiente:<br>\n",
    "\n",
    "1) Genera matrices aleatorias de diferentes dimensiones y entradas.<br>\n",
    "<del>2) Intenta calcular la inversa de calcular su inversa de la matriz A generada aleatoriamente, para que el producto con ésta regrese la matriz identidad y así garantizar que sea no singular.</del>->Este paso se eliminó porque se implementó en el código que realiza la factorización PLU.<br>\n",
    "3) Realiza la factorización PLU con el algoritmo realizado por el equipo de programación.<br>\n",
    "<del>4) Compara los resultados del algoritmo desarrollado, cuyo output es **P,L,U** con las que se obtienen del paquete \"scipy\" con una tolerancia absoluta de 10^-05.</del>->Este paso se modificó a comprobar que PA=LU por la conclusión de la primera revisión.<br>\n",
    "5) Si la condición de la comparación del paso anterior es \"verdadera\" se arroja un status \"Correcto\",<del> si esta condición no se cumple devuelve un archivo con la matriz A y las matrices PLU de ambos algoritmos.</del>.<br>\n",
    "6) Por último, devuelve un dataframe con las siguientes variables: dimensión, **el número de condición de la matriz A**, tiempo_plu (lo que tardó en correr la función para obtener las matrices PLU) y el estatus del algoritmo.<br>\n"
   ]
  },
  {
   "cell_type": "code",
   "execution_count": 13,
   "metadata": {},
   "outputs": [],
   "source": [
    "from src.test_algorithms import revision_modular"
   ]
  },
  {
   "cell_type": "markdown",
   "metadata": {},
   "source": [
    "Los argurmentos que recibe la función **revision_PLU**:<br>\n",
    "* Número de corridas que se refiere a cuantas veces corrimos el algoritmo para hacer la revisión, en este caso 3.<br>\n",
    "* Límite inferior de la dimensión de la matriz, en este caso 10^3<br>\n",
    "* Límite superior de la dimensiónd de la matriz, en este caso 10^3+1<br>\n",
    "* Límite inferior de las entradas de A, es decir el valor de cada uno de los aij que puede tener la matriz, en este caso -99.<br>\n",
    "* Límite superior de las entradas de A, es decir el valor de cada uno de los aij que puede tener la matriz, en este caso 99.<br>"
   ]
  },
  {
   "cell_type": "code",
   "execution_count": null,
   "metadata": {},
   "outputs": [],
   "source": [
    "revision_modular.revision_PLU(3,10**3,10**3+1,-99,99)"
   ]
  },
  {
   "cell_type": "markdown",
   "metadata": {},
   "source": [
    "#### Comentarios\n",
    "<i>Al hacer varias corridas detectamos que el programa estaba arrojando cálculos correctos.</i>"
   ]
  },
  {
   "cell_type": "markdown",
   "metadata": {},
   "source": [
    "### Tercera parte"
   ]
  },
  {
   "cell_type": "markdown",
   "metadata": {},
   "source": [
    "Lo siguiente fue validar el valor de x con la función \"revision_x\" y cuyo algoritmo es el siguiente:<br>\n",
    "1) Genera matrices aleatorias de diferentes dimensiones y entradas.<br>\n",
    "2) Se calcula el número de condición de la matriz A generada en el punto anterior.<br>\n",
    "3) Se genera aleatoriamente un vector x (\"real\")<br>\n",
    "4) Se multiplica el vector x (\"real\") por la matriz A para obtener el lado derecho del sistema de ecuaciones lineales (b)<br>\n",
    "5) Se ejecuta el algoritmo de programación para resolver el sistema de ecuaciones $AX=b$ y obtener la x estimada.<br>\n",
    "6) Se comparan las x's con una tolerancia absoluta de 10^-05 y sí se cumple esto se arroja un status \"Correcto\" y se obtiene el promedio del error absoluto de ambos vectores.<br>\n",
    "7) Se imprime un dataframe con las siguientes variables: dimension_A, condicion_A, tiempo_x (lo que tardó en correr la función para obtener el valor de x), estado_x, error_absoluto y tipo de matriz."
   ]
  },
  {
   "cell_type": "markdown",
   "metadata": {},
   "source": [
    "Los argurmentos que recibe la función **revision_x** :<br>\n",
    "* Número de corridas que se refiere a cuantas veces corrimos el algoritmo para hacer la revisión, en este caso 3<br>\n",
    "* Límite inferior de la dimensión de la matriz, en este caso 10^3<br>\n",
    "* Límite superior de la dimensión de la matriz, en este caso 10^3+1<br>\n",
    "* Límite inferior de las entradas de A, es decir el valor de cada uno de los aij que puede tener la matriz, en este caso -99.<br>\n",
    "* Límite superior de las entradas de A, es decir el valor de cada uno de los aij que puede tener la matriz, en este caso 99.<br>"
   ]
  },
  {
   "cell_type": "code",
   "execution_count": null,
   "metadata": {},
   "outputs": [],
   "source": [
    "revision_modular.revision_x(3,10**3,10**3+1,-99,99)"
   ]
  },
  {
   "cell_type": "markdown",
   "metadata": {},
   "source": [
    "#### Comentarios\n",
    "<i>Al hacer varias corridas detectamos que el programa estaba arrojando cálculos correctos para la X estimada en comparación con la X \"real\"</i>"
   ]
  },
  {
   "cell_type": "markdown",
   "metadata": {},
   "source": [
    "### Cuarta parte"
   ]
  },
  {
   "cell_type": "markdown",
   "metadata": {},
   "source": [
    "Finalmente pasamos a la revisión del algoritmo por bloques \"solve_blocks\", el cual integra el algoritmo de la factorización PLU (previamente revisado), la solución de X por bloques fue revisada con la funcion **\"revision_bloques\"** y el algoritmo que sigue esta función es el siguiente:<br>\n",
    "1) Genera matrices aleatorias de diferentes dimensiones y entradas.<br>\n",
    "2) Genera el vector de X's aleatorio de dimensión n.<br>\n",
    "3) Se calcula B con la operación $AX=B$.<br>\n",
    "4) Se calcula el número de condición de la matriz A generada.<br>\n",
    "5) Se ejecuta el algoritmo de programación para resolver X por bloques.<br>\n",
    "6) Se calcula el error absoluto entre la <i>Xestimada</i> y <i>Xreal</i>, para posteriormente calcular el promedio de esos errores absolutos.<br>\n",
    "7) Se comparan las X's con una tolerancia absoluta de 10^-05 y sí se cumple esto se arroja un status \"Correcto\".<br>\n",
    "8) Se imprime un dataframe con las siguientes variables: dimension_A, condicion_A, tiempo_bloques (lo que tardó en correr la función por bloques para resolver X), el error_absoluto y tipo de matriz."
   ]
  },
  {
   "cell_type": "code",
   "execution_count": null,
   "metadata": {},
   "outputs": [],
   "source": [
    "bloques=revision_modular.revision_bloques(5,10**2,10**3+1,-99,99)"
   ]
  },
  {
   "cell_type": "markdown",
   "metadata": {},
   "source": [
    "Los argurmentos que recibe la función **revision_bloques** :<br>\n",
    "* Número de corridas que se refiere a cuantas veces corrimos el algoritmo para hacer la revisión, en este caso 5<br>\n",
    "* Límite inferior de la dimensión de la matriz, en este caso 10^2<br>\n",
    "* Límite superior de la dimensión de la matriz, en este caso 10^3+1<br>\n",
    "* Límite inferior de las entradas de A, es decir el valor de cada uno de los aij que puede tener la matriz, en este caso -99.<br>\n",
    "* Límite superior de las entradas de A, es decir el valor de cada uno de los aij que puede tener la matriz, en este caso 99.<br>"
   ]
  },
  {
   "cell_type": "code",
   "execution_count": null,
   "metadata": {},
   "outputs": [],
   "source": [
    "bloques"
   ]
  },
  {
   "cell_type": "code",
   "execution_count": null,
   "metadata": {},
   "outputs": [],
   "source": [
    "bloques2=revision_modular.revision_bloques(3,10**3,10**3+1,-99,99)"
   ]
  },
  {
   "cell_type": "code",
   "execution_count": null,
   "metadata": {},
   "outputs": [],
   "source": [
    "bloques2"
   ]
  },
  {
   "cell_type": "code",
   "execution_count": null,
   "metadata": {},
   "outputs": [],
   "source": [
    "bloques.sort_values(by=['dimension_A'],inplace=True)\n",
    "dimension = bloques['dimension_A']\n",
    "tiempo=bloques['tiempo_bloques']"
   ]
  },
  {
   "cell_type": "code",
   "execution_count": null,
   "metadata": {},
   "outputs": [],
   "source": [
    "import matplotlib.pyplot as plt\n",
    "plt.plot(tiempo,dimension,'o-')\n",
    "plt.title('Gráfica dimension de matriz contra el tiempo de ejecución')\n",
    "plt.xlabel('dimension')\n",
    "plt.ylabel('tiempo_bloques')\n",
    "plt.grid()\n",
    "plt.show()"
   ]
  },
  {
   "cell_type": "markdown",
   "metadata": {},
   "source": [
    "#### Comentarios\n",
    "<i>Al hacer varias corridas detectamos que el programa estaba arrojando cálculos correctos para la X estimada con el algoritmo de bloques, y de igual forma obtuvimos que el error absoluto es en casi todos los casos de orden 10^-10 lo cual indica que nuestro algoritmo tiene una buena aproximación. \n",
    "    \n",
    "Además, hicimos una gráfica de la dimensión de la matriz contra el tiempo de ejecución del algoritmo y se obtiene que a mayor dimensión de la matriz generada mayor tiempo de ejecución, lo cual era lo esperado.</i>\n",
    "\n",
    "**Sin embargo, es importante señalar que el tiempo de ejecución baja considerablemente para matrices de 10^3 x 10^3 usando el algoritmo por bloques.**"
   ]
  },
  {
   "cell_type": "markdown",
   "metadata": {},
   "source": [
    "Para el caso de matrices singulares, el algoritmo por bloques arroja el siguiente mensaje:"
   ]
  },
  {
   "cell_type": "code",
   "execution_count": null,
   "metadata": {},
   "outputs": [],
   "source": [
    "import numpy as np"
   ]
  },
  {
   "cell_type": "code",
   "execution_count": null,
   "metadata": {},
   "outputs": [],
   "source": [
    "#definimos matriz singular y su lado derecho\n",
    "A=np.array([[1,2],\n",
    "          [1,2]])\n",
    "b=np.array([3,3])"
   ]
  },
  {
   "cell_type": "code",
   "execution_count": null,
   "metadata": {},
   "outputs": [],
   "source": [
    "revision_modular.resuelve_bloques(A,b)"
   ]
  },
  {
   "cell_type": "code",
   "execution_count": null,
   "metadata": {},
   "outputs": [],
   "source": []
  }
 ],
 "metadata": {
  "kernelspec": {
   "display_name": "Python 3",
   "language": "python",
   "name": "python3"
  },
  "language_info": {
   "codemirror_mode": {
    "name": "ipython",
    "version": 3
   },
   "file_extension": ".py",
   "mimetype": "text/x-python",
   "name": "python",
   "nbconvert_exporter": "python",
   "pygments_lexer": "ipython3",
   "version": "3.7.3"
  }
 },
 "nbformat": 4,
 "nbformat_minor": 4
}
