{
 "cells": [
  {
   "cell_type": "markdown",
   "metadata": {},
   "source": [
    "## Revisión \"Eliminación por Bloques\""
   ]
  },
  {
   "cell_type": "markdown",
   "metadata": {},
   "source": [
    "Con el algoritmo de eliminación por bloques lo que se busca es eliminar subconjuntos de variables para tener un sistema de ecuaciones lineales más pequeño y la solución sea más eficiente. La primera forma en que se propone revisar el algoritmo es generar tanto X's como matrices aleatorias de nxn (cuadradas) para posteriormete obtener la matriz B, que se obtiene de la siguiente manera: $Ax = B$.\n",
    "Posteriormente resolvemos el sistema con el algoritmo por bloques y obtenemos X_estimada, la cual es comparada con la X (original) del sistema anteriormente generado."
   ]
  },
  {
   "cell_type": "code",
   "execution_count": 1,
   "metadata": {},
   "outputs": [],
   "source": [
    "import numpy as np\n",
    "import scipy\n",
    "import scipy.linalg\n",
    "import pprint\n",
    "import pandas as pd\n",
    "import crea_matrices\n",
    "import time\n",
    "import EliminacionPorBloques"
   ]
  },
  {
   "cell_type": "code",
   "execution_count": 2,
   "metadata": {},
   "outputs": [],
   "source": [
    "def revision_bloques(num_corridas,dim_limite_inf,dim_limite_sup,entradas_lim_inf,entradas_lim_sup):\n",
    "    \"\"\"\n",
    "     Parametros\n",
    "    ----------   \n",
    "    num_corridas : numero de veces que queremos probar el algoritmo de \"Eliminacion por bloques\"\n",
    "    dim_limite_inf : es el límite inferior de las entradas para la matriz random a generar.\n",
    "    dim_limite_sup : es el límite superior de las entradas para la matriz random a generar.\n",
    "    entradas_lim_inf : es el límite inferior del tamaño de la matriz, buscamos matrices de nxn.\n",
    "    entradas_lim_sup : es el límite superior del tamaño de la matriz, buscamos matrices de nxn.\n",
    "        \n",
    "    Salidas\n",
    "    -------\n",
    "    resultados : Un dataframe con el nombre de resultados, una vez evaluado el algoritmo con le número de corridas ingresadas.\n",
    "    \"\"\"\n",
    "    dimension=[]\n",
    "    solucion_bloques=[]\n",
    "    tiempo_bloques=[]\n",
    "    error_absoluto=[]\n",
    "    \n",
    "    for i in range(0,num_corridas):\n",
    "        \n",
    "        #modulo que crea la matriz random\n",
    "        A,n=crea_matrices.crea_matrices(dim_limite_inf,dim_limite_sup,entradas_lim_inf,entradas_lim_sup)\n",
    "        X=np.random.randint(entradas_lim_inf,entradas_lim_sup,size=(n))\n",
    "        B=A@X   \n",
    "        dimension.append(n)\n",
    "        \n",
    "        start_time=time.time()\n",
    "        X_algoritmo=EliminacionPorBloques.solve_blocks(A,B)\n",
    "        end_time=time.time()\n",
    "        tiempo_total = end_time-start_time      \n",
    "        tiempo_bloques.append(tiempo_total)\n",
    "        \n",
    "        error_abs=np.mean(np.fabs(X_algoritmo-X))\n",
    "        error_absoluto.append(error_abs)\n",
    "        \n",
    "        if(np.allclose(X,X_algoritmo)==True):\n",
    "            status='Correcto'\n",
    "            solucion_bloques.append(status)\n",
    "        else:\n",
    "            pprint.pprint('Incorrecto para A igual a:')\n",
    "            pprint.pprint(A)\n",
    "            status='Incorrecto'\n",
    "            solucion_bloques.append(status)\n",
    "\n",
    "        \n",
    "    data={'dimension':dimension, 'tiempo_bloques':tiempo_bloques,'solucion_bloques':solucion_bloques,'error_abs':error_absoluto}       \n",
    "    resultados=pd.DataFrame(data)\n",
    "    return resultados"
   ]
  },
  {
   "cell_type": "code",
   "execution_count": 3,
   "metadata": {},
   "outputs": [],
   "source": [
    "bloques=revision_bloques(5,10**2,10**3,-99,99)"
   ]
  },
  {
   "cell_type": "code",
   "execution_count": 4,
   "metadata": {},
   "outputs": [],
   "source": [
    "bloques.sort_values(by=['dimension'],inplace=True)"
   ]
  },
  {
   "cell_type": "code",
   "execution_count": 5,
   "metadata": {},
   "outputs": [
    {
     "data": {
      "text/html": [
       "<div>\n",
       "<style scoped>\n",
       "    .dataframe tbody tr th:only-of-type {\n",
       "        vertical-align: middle;\n",
       "    }\n",
       "\n",
       "    .dataframe tbody tr th {\n",
       "        vertical-align: top;\n",
       "    }\n",
       "\n",
       "    .dataframe thead th {\n",
       "        text-align: right;\n",
       "    }\n",
       "</style>\n",
       "<table border=\"1\" class=\"dataframe\">\n",
       "  <thead>\n",
       "    <tr style=\"text-align: right;\">\n",
       "      <th></th>\n",
       "      <th>dimension</th>\n",
       "      <th>tiempo_bloques</th>\n",
       "      <th>solucion_bloques</th>\n",
       "      <th>error_abs</th>\n",
       "    </tr>\n",
       "  </thead>\n",
       "  <tbody>\n",
       "    <tr>\n",
       "      <th>4</th>\n",
       "      <td>101</td>\n",
       "      <td>0.246941</td>\n",
       "      <td>Correcto</td>\n",
       "      <td>1.614772e-11</td>\n",
       "    </tr>\n",
       "    <tr>\n",
       "      <th>1</th>\n",
       "      <td>275</td>\n",
       "      <td>3.544258</td>\n",
       "      <td>Correcto</td>\n",
       "      <td>8.604931e-12</td>\n",
       "    </tr>\n",
       "    <tr>\n",
       "      <th>2</th>\n",
       "      <td>301</td>\n",
       "      <td>4.535686</td>\n",
       "      <td>Correcto</td>\n",
       "      <td>3.597899e-12</td>\n",
       "    </tr>\n",
       "    <tr>\n",
       "      <th>0</th>\n",
       "      <td>379</td>\n",
       "      <td>9.374272</td>\n",
       "      <td>Correcto</td>\n",
       "      <td>2.394174e-10</td>\n",
       "    </tr>\n",
       "    <tr>\n",
       "      <th>3</th>\n",
       "      <td>498</td>\n",
       "      <td>19.695263</td>\n",
       "      <td>Correcto</td>\n",
       "      <td>1.151005e-10</td>\n",
       "    </tr>\n",
       "  </tbody>\n",
       "</table>\n",
       "</div>"
      ],
      "text/plain": [
       "   dimension  tiempo_bloques solucion_bloques     error_abs\n",
       "4        101        0.246941         Correcto  1.614772e-11\n",
       "1        275        3.544258         Correcto  8.604931e-12\n",
       "2        301        4.535686         Correcto  3.597899e-12\n",
       "0        379        9.374272         Correcto  2.394174e-10\n",
       "3        498       19.695263         Correcto  1.151005e-10"
      ]
     },
     "execution_count": 5,
     "metadata": {},
     "output_type": "execute_result"
    }
   ],
   "source": [
    "bloques"
   ]
  },
  {
   "cell_type": "code",
   "execution_count": 6,
   "metadata": {},
   "outputs": [],
   "source": [
    "dimension = bloques['dimension']\n",
    "tiempo=bloques['tiempo_bloques']"
   ]
  },
  {
   "cell_type": "code",
   "execution_count": 8,
   "metadata": {},
   "outputs": [
    {
     "data": {
      "image/png": "[encoded data removed]",
      "text/plain": [
       "<Figure size 432x288 with 1 Axes>"
      ]
     },
     "metadata": {
      "needs_background": "light"
     },
     "output_type": "display_data"
    }
   ],
   "source": [
    "import matplotlib.pyplot as plt\n",
    "plt.plot(tiempo,dimension,'o-')\n",
    "plt.title('Gráfica dimension de matriz contra el tiempo de ejecución')\n",
    "plt.xlabel('dimension')\n",
    "plt.ylabel('tiempo_bloques')\n",
    "plt.grid()\n",
    "plt.show()"
   ]
  },
  {
   "cell_type": "markdown",
   "metadata": {},
   "source": [
    "En la segunda opción de revision, lo que hacemos es que a partir de generar tanto X's como matrices aleatorias de nxn (cuadradas) para posteriormete obtener la matriz B. Se comprueba que el producto de $AX(estimada)= B$"
   ]
  },
  {
   "cell_type": "code",
   "execution_count": 9,
   "metadata": {},
   "outputs": [],
   "source": [
    "def revision_bloques_v2(num_corridas,dim_limite_inf,dim_limite_sup,entradas_lim_inf,entradas_lim_sup):\n",
    "    \"\"\"\n",
    "     Parametros\n",
    "    ----------   \n",
    "    num_corridas : numero de veces que queremos probar el algoritmo de \"Eliminacion por bloques\"\n",
    "    dim_limite_inf : es el límite inferior de las entradas para la matriz random a generar.\n",
    "    dim_limite_sup : es el límite superior de las entradas para la matriz random a generar.\n",
    "    entradas_lim_inf : es el límite inferior del tamaño de la matriz, buscamos matrices de nxn.\n",
    "    entradas_lim_sup : es el límite superior del tamaño de la matriz, buscamos matrices de nxn.\n",
    "        \n",
    "    Salidas\n",
    "    -------\n",
    "    resultados : Un dataframe con el nombre de resultados, una vez evaluado el algoritmo con le número de corridas ingresadas.\n",
    "    \"\"\"\n",
    "    dimension=[]\n",
    "    solucion_bloques=[]\n",
    "    tiempo_bloques=[]\n",
    "    error_absoluto=[]\n",
    "    \n",
    "    for i in range(0,num_corridas):\n",
    "        \n",
    "        #modulo que crea la matriz random\n",
    "        A,n=crea_matrices.crea_matrices(dim_limite_inf,dim_limite_sup,entradas_lim_inf,entradas_lim_sup)\n",
    "        X=np.random.randint(entradas_lim_inf,entradas_lim_sup,size=(n))\n",
    "        B=A@X   \n",
    "        dimension.append(n)\n",
    "        \n",
    "        start_time=time.time()\n",
    "        X_algoritmo=EliminacionPorBloques.solve_blocks(A,B)\n",
    "        end_time=time.time()\n",
    "        tiempo_total = end_time-start_time      \n",
    "        tiempo_bloques.append(tiempo_total)\n",
    "        \n",
    "        error_abs=np.mean(np.fabs(X_algoritmo-X))\n",
    "        error_absoluto.append(error_abs)\n",
    "        \n",
    "        if(np.allclose(A@X_algoritmo,B)==True):\n",
    "            status='Correcto'\n",
    "            solucion_bloques.append(status)\n",
    "        else:\n",
    "            pprint.pprint('Incorrecto para A igual a:')\n",
    "            pprint.pprint(A)\n",
    "            status='Incorrecto'\n",
    "            solucion_bloques.append(status)\n",
    "\n",
    "        \n",
    "    data={'dimension':dimension, 'tiempo_bloques':tiempo_bloques,'solucion_bloques':solucion_bloques,'error_abs':error_absoluto}       \n",
    "    resultados=pd.DataFrame(data)\n",
    "    return resultados"
   ]
  },
  {
   "cell_type": "code",
   "execution_count": 10,
   "metadata": {},
   "outputs": [],
   "source": [
    "bloques=revision_bloques_v2(5,10**2,10**3,-99,99)"
   ]
  },
  {
   "cell_type": "code",
   "execution_count": 11,
   "metadata": {},
   "outputs": [],
   "source": [
    "bloques.sort_values(by=['dimension'],inplace=True)"
   ]
  },
  {
   "cell_type": "code",
   "execution_count": 12,
   "metadata": {},
   "outputs": [
    {
     "data": {
      "text/html": [
       "<div>\n",
       "<style scoped>\n",
       "    .dataframe tbody tr th:only-of-type {\n",
       "        vertical-align: middle;\n",
       "    }\n",
       "\n",
       "    .dataframe tbody tr th {\n",
       "        vertical-align: top;\n",
       "    }\n",
       "\n",
       "    .dataframe thead th {\n",
       "        text-align: right;\n",
       "    }\n",
       "</style>\n",
       "<table border=\"1\" class=\"dataframe\">\n",
       "  <thead>\n",
       "    <tr style=\"text-align: right;\">\n",
       "      <th></th>\n",
       "      <th>dimension</th>\n",
       "      <th>tiempo_bloques</th>\n",
       "      <th>solucion_bloques</th>\n",
       "      <th>error_abs</th>\n",
       "    </tr>\n",
       "  </thead>\n",
       "  <tbody>\n",
       "    <tr>\n",
       "      <th>1</th>\n",
       "      <td>147</td>\n",
       "      <td>0.793098</td>\n",
       "      <td>Correcto</td>\n",
       "      <td>2.904979e-12</td>\n",
       "    </tr>\n",
       "    <tr>\n",
       "      <th>2</th>\n",
       "      <td>237</td>\n",
       "      <td>3.002082</td>\n",
       "      <td>Correcto</td>\n",
       "      <td>6.470770e-11</td>\n",
       "    </tr>\n",
       "    <tr>\n",
       "      <th>0</th>\n",
       "      <td>355</td>\n",
       "      <td>9.355293</td>\n",
       "      <td>Correcto</td>\n",
       "      <td>4.047418e-11</td>\n",
       "    </tr>\n",
       "    <tr>\n",
       "      <th>3</th>\n",
       "      <td>488</td>\n",
       "      <td>24.136392</td>\n",
       "      <td>Correcto</td>\n",
       "      <td>3.586582e-11</td>\n",
       "    </tr>\n",
       "    <tr>\n",
       "      <th>4</th>\n",
       "      <td>523</td>\n",
       "      <td>28.784449</td>\n",
       "      <td>Correcto</td>\n",
       "      <td>3.178924e-11</td>\n",
       "    </tr>\n",
       "  </tbody>\n",
       "</table>\n",
       "</div>"
      ],
      "text/plain": [
       "   dimension  tiempo_bloques solucion_bloques     error_abs\n",
       "1        147        0.793098         Correcto  2.904979e-12\n",
       "2        237        3.002082         Correcto  6.470770e-11\n",
       "0        355        9.355293         Correcto  4.047418e-11\n",
       "3        488       24.136392         Correcto  3.586582e-11\n",
       "4        523       28.784449         Correcto  3.178924e-11"
      ]
     },
     "execution_count": 12,
     "metadata": {},
     "output_type": "execute_result"
    }
   ],
   "source": [
    "bloques"
   ]
  },
  {
   "cell_type": "code",
   "execution_count": 14,
   "metadata": {},
   "outputs": [],
   "source": [
    "dimension = bloques['dimension']\n",
    "tiempo=bloques['tiempo_bloques']"
   ]
  },
  {
   "cell_type": "code",
   "execution_count": 15,
   "metadata": {},
   "outputs": [
    {
     "data": {
      "image/png": "[encoded data removed]",
      "text/plain": [
       "<Figure size 432x288 with 1 Axes>"
      ]
     },
     "metadata": {
      "needs_background": "light"
     },
     "output_type": "display_data"
    }
   ],
   "source": [
    "import matplotlib.pyplot as plt\n",
    "plt.plot(tiempo,dimension,'o-')\n",
    "plt.title('Gráfica dimension de matriz contra el tiempo de ejecución')\n",
    "plt.xlabel('dimension')\n",
    "plt.ylabel('tiempo_bloques')\n",
    "plt.grid()\n",
    "plt.show()"
   ]
  }
 ],
 "metadata": {
  "kernelspec": {
   "display_name": "Python 3",
   "language": "python",
   "name": "python3"
  },
  "language_info": {
   "codemirror_mode": {
    "name": "ipython",
    "version": 3
   },
   "file_extension": ".py",
   "mimetype": "text/x-python",
   "name": "python",
   "nbconvert_exporter": "python",
   "pygments_lexer": "ipython3",
   "version": "3.7.3"
  }
 },
 "nbformat": 4,
 "nbformat_minor": 2
}
