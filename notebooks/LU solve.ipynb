{
 "cells": [
  {
   "cell_type": "code",
   "execution_count": 9,
   "metadata": {},
   "outputs": [],
   "source": [
    "## module LUdecomp\n",
    "'''\n",
    "a = LUdecomp(a)\n",
    "LUdecomposition: [L][U] = [a]\n",
    "x = LUsolve(a,b)\n",
    "Solution phase: solves [L][U]{x} = {b}\n",
    "'''\n",
    "\n",
    "import numpy as np\n",
    "def LUdecomp(a):\n",
    "    n = len(a)\n",
    "    for k in range(0,n-1):\n",
    "        for i in range(k+1,n):\n",
    "            if a[i,k] != 0.0:\n",
    "                lam = a [i,k]/a[k,k]\n",
    "                a[i,k+1:n] = a[i,k+1:n] - lam*a[k,k+1:n]\n",
    "                a[i,k] = lam\n",
    "    return a\n",
    "\n",
    "def LUsolve(a,b):\n",
    "    n = len(a)\n",
    "    for k in range(1,n):\n",
    "        b[k] = b[k] - np.dot(a[k,0:k],b[0:k])\n",
    "    b[n-1] = b[n-1]/a[n-1,n-1]\n",
    "    for k in range(n-2,-1,-1):\n",
    "        b[k] = (b[k] - np.dot(a[k,k+1:n],b[k+1:n]))/a[k,k]\n",
    "    return b"
   ]
  },
  {
   "cell_type": "code",
   "execution_count": 10,
   "metadata": {},
   "outputs": [
    {
     "name": "stdout",
     "output_type": "stream",
     "text": [
      "\n",
      "Determinant = -77.0\n",
      "x 1 = [1. 1. 1.]\n",
      "\n",
      "Press return to exit5\n",
      "x 2 = [-1.00000000e+00  1.00000000e+00  2.30695693e-17]\n",
      "\n",
      "Press return to exit7\n"
     ]
    }
   ],
   "source": [
    "import numpy as np\n",
    "#from LUdecomp import *\n",
    "\n",
    "a = np.array([[ 3.0, -1.0,4.0], \\\n",
    "        [-2.0, 0.0, 5.0],\n",
    "        [ 7.0, 2.0, -2.0]])\n",
    "b = np.array([[ 6.0, 3.0, 7.0],\n",
    "        [-4.0, 2.0, -5.0]])\n",
    "a = LUdecomp(a)\n",
    "# Decompose [a]\n",
    "det = np.prod(np.diagonal(a))\n",
    "print(\"\\nDeterminant =\",det)\n",
    "for i in range(len(b)):\n",
    "    x = LUsolve(a,b[i])\n",
    "    print(\"x\",i+1,\"=\",x)\n",
    "    input(\"\\nPress return to exit\")"
   ]
  },
  {
   "cell_type": "code",
   "execution_count": null,
   "metadata": {},
   "outputs": [],
   "source": []
  }
 ],
 "metadata": {
  "kernelspec": {
   "display_name": "Python 3",
   "language": "python",
   "name": "python3"
  },
  "language_info": {
   "codemirror_mode": {
    "name": "ipython",
    "version": 3
   },
   "file_extension": ".py",
   "mimetype": "text/x-python",
   "name": "python",
   "nbconvert_exporter": "python",
   "pygments_lexer": "ipython3",
   "version": "3.7.6"
  }
 },
 "nbformat": 4,
 "nbformat_minor": 4
}
