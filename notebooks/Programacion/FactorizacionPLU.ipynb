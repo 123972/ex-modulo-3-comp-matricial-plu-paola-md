{
  "nbformat": 4,
  "nbformat_minor": 0,
  "metadata": {
    "kernelspec": {
      "display_name": "Python 3",
      "language": "python",
      "name": "python3"
    },
    "language_info": {
      "codemirror_mode": {
        "name": "ipython",
        "version": 3
      },
      "file_extension": ".py",
      "mimetype": "text/x-python",
      "name": "python",
      "nbconvert_exporter": "python",
      "pygments_lexer": "ipython3",
      "version": "3.7.6"
    },
    "colab": {
      "name": "PLU-algoritmos-python.ipynb",
      "provenance": [],
      "collapsed_sections": []
    }
  },
  "cells": [
    {
      "cell_type": "markdown",
      "metadata": {
        "id": "Vz28hfFOwVsh",
        "colab_type": "text"
      },
      "source": [
        "#Algoritmos Intermedios y finales para la computación de PLU\n",
        "\n",
        "**Nota:**\n",
        "Las implementaciones de estos algoritmos fueron basados en adaptaciones del código en syntazis de MATLAB reportado por  Golub y Van Loan (2013) en [Matrix computations 4th edition](http://math.ecnu.edu.cn/~jypan/Teaching/books/2013%20Matrix%20Computations%204th.pdf)."
      ]
    },
    {
      "cell_type": "code",
      "metadata": {
        "id": "JGUb2dPMTxml",
        "colab_type": "code",
        "colab": {}
      },
      "source": [
        "import numpy as np\n",
        "from scipy.linalg import solve_triangular\n",
        "\n",
        "\n",
        "def forward_substitution(L, b):\n",
        "    to_n = lambda n: np.arange(1, n+1)\n",
        "    indexr = lambda i: i-1\n",
        "    '''\n",
        "    Algoritmo de Forward substitution orientado a FILAS\n",
        "    \n",
        "    Esta función devuelve b para un sistema:\n",
        "    Lx = b (1)\n",
        "    ==========\n",
        "    * Entradas:\n",
        "        - L (array): matriz no singular, triangular inferior de nxn. \n",
        "        - b (array): vector de nx1\n",
        "    * Salidas:\n",
        "        - y (array): vector de nx1, solución del sistema (1): Lx = b \n",
        "    ==========\n",
        "    Ejemplo:\n",
        "        >>L = np.matrix([[1,0],[2,3]])\n",
        "        >>b = np.array([2, 22])\n",
        "        >>forward_substitution(L,b)\n",
        "        > [2.0, 6.0]\n",
        "        \n",
        "    ==========\n",
        "    Ref.:\n",
        "    GCV - matrix computations (2013) \n",
        "    Row-Oriented Forward Substitution (algorithm 3.1.1), p.106 \n",
        "    *********************\n",
        "    Notas: \n",
        "    Falta poner warnings por si el usuario mete inputs malos:\n",
        "        ej: matriz no ciuadrada, matriz singular, las dimensiones de b \n",
        "        y Y no coinciden\n",
        "    '''\n",
        "    n = len(b)\n",
        "    y = np.zeros(n)\n",
        "    y[indexr(1)] = b[indexr(1)]/L[indexr(1), indexr(1)]\n",
        "    for i in np.arange(2, n+1):\n",
        "        suma = 0\n",
        "        for j in to_n(i-1):\n",
        "            suma = suma + L[indexr(i), indexr(j)]*y[indexr(j)]\n",
        "        y[indexr(i)] = (b[indexr(i)] - suma)/L[indexr(i), indexr(i)]\n",
        "    \n",
        "    return(y)"
      ],
      "execution_count": 0,
      "outputs": []
    },
    {
      "cell_type": "code",
      "metadata": {
        "id": "MHsUq6EG-odz",
        "colab_type": "code",
        "outputId": "bdf8fd34-2621-44cd-9cf8-622acb371442",
        "colab": {
          "base_uri": "https://localhost:8080/",
          "height": 35
        }
      },
      "source": [
        "# ejemplo\n",
        "import numpy as np\n",
        "L = np.matrix([[1,0],[2,3]])\n",
        "b = np.array([2, 22])\n",
        "\n",
        "forward_substitution(L, b)"
      ],
      "execution_count": 32,
      "outputs": [
        {
          "output_type": "execute_result",
          "data": {
            "text/plain": [
              "array([2., 6.])"
            ]
          },
          "metadata": {
            "tags": []
          },
          "execution_count": 32
        }
      ]
    },
    {
      "cell_type": "code",
      "metadata": {
        "id": "d1o-TU0MVIa_",
        "colab_type": "code",
        "colab": {}
      },
      "source": [
        "def backward_substitution(U, b):\n",
        "    to_n = lambda n: np.arange(1, n+1)\n",
        "    indexr = lambda i: i-1\n",
        "    '''\n",
        "    Algoritmo de Backward substitution orientado a filas\n",
        "    \n",
        "    Esta función devuelve b para un sistema:\n",
        "    Lx = b (1)\n",
        "    ==========\n",
        "    * Entradas:\n",
        "        - U (array): matriz no singular, triangular superior de nxn. \n",
        "        - b (array): vector de nx1\n",
        "    * Salidas:\n",
        "        - y: vector de nx1, solución del sistema (1): Ux = b \n",
        "    ==========\n",
        "    Ejemplo:\n",
        "        >>U = np.matrix([[1, 2],[0,3]])\n",
        "        >>b = np.array([49, 21])\n",
        "        >>BackwardSubsRow(U,b)\n",
        "        > array([35.,  7.])\n",
        "        \n",
        "    ==========\n",
        "    Ref.:\n",
        "    GCV - matrix computations (2013) \n",
        "    Row-Oriented Backward Substitution (algorithm 3.1.2), p.107 \n",
        "    '''\n",
        "    n = len(b)\n",
        "    x = np.zeros(n)\n",
        "    x[indexr(n)] = b[indexr(n)]/U[indexr(n), indexr(n)]\n",
        "    for i in np.arange(1, n-1+1)[::-1]:\n",
        "        suma = 0\n",
        "        for j in np.arange(i+1, n+1):\n",
        "            suma = suma + U[indexr(i), indexr(j)]*x[indexr(j)]\n",
        "        x[indexr(i)] = (b[indexr(i)] - suma)/U[indexr(i), indexr(i)]\n",
        "    \n",
        "    return(x)"
      ],
      "execution_count": 0,
      "outputs": []
    },
    {
      "cell_type": "code",
      "metadata": {
        "id": "hZOKVXVgZ6Ty",
        "colab_type": "code",
        "colab": {
          "base_uri": "https://localhost:8080/",
          "height": 35
        },
        "outputId": "687c74ee-7390-4ca3-bac7-9b132de7baa2"
      },
      "source": [
        "import numpy as np\n",
        "U = np.matrix([[1, 2],[0,3]])\n",
        "b = np.array([49, 21])\n",
        "U\n",
        "backward_substitution(U,b)"
      ],
      "execution_count": 39,
      "outputs": [
        {
          "output_type": "execute_result",
          "data": {
            "text/plain": [
              "array([35.,  7.])"
            ]
          },
          "metadata": {
            "tags": []
          },
          "execution_count": 39
        }
      ]
    },
    {
      "cell_type": "code",
      "metadata": {
        "id": "tRWuSVc3W0Fp",
        "colab_type": "code",
        "colab": {}
      },
      "source": [
        "def get_P(piv):\n",
        "    to_n = lambda n: np.arange(1, n+1)\n",
        "    indexr = lambda i: i-1\n",
        "    '''\n",
        "    Esta función obtiene la matriz pivote derivada del intercambio de elementos \n",
        "    en la matriz identidad original\n",
        "    ==========\n",
        "    * Entradas:\n",
        "        - p: índices \n",
        "    * Salidas:\n",
        "        - P (matriz): matriz de permutación de nxn\n",
        "\n",
        "    '''\n",
        "    n = len(piv) + 1\n",
        "    P = np.eye(n)\n",
        "    for j in to_n(n-1):\n",
        "        aux = P[indexr(j), :].copy()\n",
        "        P[indexr(j), :] = P[indexr(piv[indexr(j)]), :].copy()\n",
        "        P[indexr(piv[indexr(j)]), :] = aux.copy()\n",
        "        \n",
        "    return(P)"
      ],
      "execution_count": 0,
      "outputs": []
    },
    {
      "cell_type": "code",
      "metadata": {
        "id": "U7GWGZLmgQWk",
        "colab_type": "code",
        "colab": {}
      },
      "source": [
        "def PLU_test(A):\n",
        "    '''\n",
        "    Esta función desarrolla la factorizacióón PA = LU, donde P es la matriz de \n",
        "    permutación codificada por piv(l:n - 1), guarda los ííndices fila de los \n",
        "    pivotes, de tal modo que la columnas intercambiadas se guardan en el vector\n",
        "    P. \n",
        "    Esta función devuelve P en el sistema:\n",
        "    Lx = b (1)\n",
        "    ==========\n",
        "    * Entradas:\n",
        "        - A: array de nxn. \n",
        "    * Salidas:\n",
        "        - P (vector): nx1, con los ííndices de las columnas intercambiadas en \n",
        "        el pivoteo. \n",
        "        - L (matriz): matriz triangular inferior de nxn\n",
        "        - U (matriz): matriz triangular superior nxn\n",
        "    ==========\n",
        "    Ejemplo:\n",
        "        >>A = np.array([[2, 2, 3], [-4, -4, -3], [4, 8, 3]])\n",
        "        >>P, L, U = PLU(A)\n",
        "        >>P\n",
        "        >array([[0., 1., 0.],\n",
        "       [0., 0., 1.],\n",
        "       [1., 0., 0.]])\n",
        "        >>L\n",
        "        >array([[ 1. ,  0. ,  0. ],\n",
        "       [-1. ,  1. ,  0. ],\n",
        "       [-0.5,  0. ,  1. ]])\n",
        "        >>U\n",
        "        >array([[-4. , -4. , -3. ],\n",
        "       [ 0. ,  4. ,  0. ],\n",
        "       [ 0. ,  0. ,  1.5]])\n",
        "       >>np.matmul(P, A)==np.matmul(L, U)\n",
        "       >array([[ True,  True,  True],\n",
        "       [ True,  True,  True],\n",
        "       [ True,  True,  True]])\n",
        "    '''\n",
        "    to_n = lambda n: np.arange(1, n+1)\n",
        "    indexr = lambda i: i-1\n",
        "    # inicialización de elementos\n",
        "    A = A.astype('float64')\n",
        "    n = A.shape[0]\n",
        "    L = np.eye(n)\n",
        "    U = np.zeros((n, n))\n",
        "    piv = np.arange(1, n-1+1)\n",
        "    v = np.zeros(n)\n",
        "    \n",
        "    for j in to_n(n):\n",
        "        if j == 1:\n",
        "            v = A[indexr(j):n, indexr(j)].copy()\n",
        "        else:\n",
        "            a = A[:, indexr(j)].copy()\n",
        "            for k in to_n(j-1):\n",
        "                aux = a[indexr(k)].copy()\n",
        "                a[indexr(k)] = a[indexr(piv[indexr(k)])].copy()\n",
        "                a[indexr(piv[indexr(k)])] = aux.copy()\n",
        "            z = forward_substitution(L[indexr(1):(j-1), indexr(1):(j-1)], a[indexr(1):(j-1)])\n",
        "            U[indexr(1):(j-1), indexr(j)] = z.copy()\n",
        "            v[indexr(j):n] = (a[indexr(j):n]-np.matmul(L[indexr(j):n, indexr(1):(j-1)], z)).copy()\n",
        "\n",
        "        if j < n:\n",
        "            mu = (np.argmax(np.abs(v[indexr(j):n]))+j).copy()\n",
        "            piv[indexr(j)] = mu.copy()\n",
        "            aux = v[indexr(j)].copy()\n",
        "            v[indexr(j)] = v[indexr(mu)].copy()\n",
        "            v[indexr(mu)] = aux.copy()\n",
        "            if v[indexr(j)] != 0:\n",
        "                L[indexr(j+1):n, indexr(j)] = (v[indexr(j+1):n]/v[indexr(j)]).copy()\n",
        "            if j > 1:\n",
        "                aux = L[indexr(j), indexr(1):(j-1)].copy()\n",
        "                L[indexr(j), indexr(1):(j-1)] = L[indexr(mu), indexr(1):(j-1)].copy()\n",
        "                L[indexr(mu), indexr(1):(j-1)] = aux.copy()\n",
        "        U[indexr(j), indexr(j)] = v[indexr(j)].copy()\n",
        "\n",
        "    P = get_P(piv)\n",
        "\n",
        "    return P, L, U"
      ],
      "execution_count": 0,
      "outputs": []
    },
    {
      "cell_type": "code",
      "metadata": {
        "id": "vyAxt1en0Nno",
        "colab_type": "code",
        "colab": {}
      },
      "source": [
        "A = np.array([[0, 0, 4], \n",
        "              [1, 3, 2], \n",
        "              [2, 8, 4]])\n",
        "P, L, U = PLU_test(A)"
      ],
      "execution_count": 0,
      "outputs": []
    },
    {
      "cell_type": "markdown",
      "metadata": {
        "id": "8An_-6xNysuU",
        "colab_type": "text"
      },
      "source": [
        "**Algunos ejemplos de implementaciones**"
      ]
    },
    {
      "cell_type": "code",
      "metadata": {
        "id": "HGSGITaCyvvS",
        "colab_type": "code",
        "colab": {
          "base_uri": "https://localhost:8080/",
          "height": 35
        },
        "outputId": "22904239-e6d5-4b6e-9394-9210f9873390"
      },
      "source": [
        "A = np.array([[0, 0, 4], \n",
        "              [1, 3, 2], \n",
        "              [2, 8, 4]])\n",
        "\n",
        "P, L, U = PLU(A)\n",
        "\n",
        "np.matmul(P, A)\n",
        "np.matmul(L, U)\n",
        "\n",
        "#Resolver sistema de ecuaciones Ax = b\n",
        "\n",
        "def solve(A, b):\n",
        "    A = A.astype('float64')\n",
        "    b = b.astype('float64')\n",
        "#Paso 1\n",
        "\n",
        "    P, L, U = PLU(A)\n",
        "\n",
        "#Paso 2\n",
        "    \n",
        "    #d = solve_triangular(L, np.matmul(P, b), lower = False)\n",
        "    d = forward_substitution(L, np.matmul(P, b))\n",
        "    \n",
        "#Paso 3\n",
        "    \n",
        "    #x = solve_triangular(U, d, lower = True)\n",
        "    x = backward_substitution(U, d)\n",
        "    \n",
        "    return(x)\n",
        "\n",
        "A = np.array([[2, 1, -1], \n",
        "              [1, -2, 2], \n",
        "              [3, -2, 1]])\n",
        "b = np.array([1, 3, 2])\n",
        "\n",
        "P, L, U = PLU(A)\n",
        "\n",
        "np.matmul(P, A)\n",
        "np.matmul(L, U)\n",
        "\n",
        "np.linalg.solve(A, b)\n",
        "solve(A, b)\n",
        "\n",
        "A = np.array([[2, 2, 3], \n",
        "              [-4, -4, -3], \n",
        "              [4, 8, 3]])\n",
        "b = np.array([-7, -1, 5])\n",
        "\n",
        "P, L, U = PLU(A)\n",
        "\n",
        "np.matmul(P, A)\n",
        "np.matmul(L, U)\n",
        "\n",
        "np.linalg.solve(A, b)\n",
        "solve(A, b)"
      ],
      "execution_count": 53,
      "outputs": [
        {
          "output_type": "execute_result",
          "data": {
            "text/plain": [
              "array([ 3.,  1., -5.])"
            ]
          },
          "metadata": {
            "tags": []
          },
          "execution_count": 53
        }
      ]
    },
    {
      "cell_type": "code",
      "metadata": {
        "id": "41tVs2FHz4uM",
        "colab_type": "code",
        "colab": {}
      },
      "source": [
        "\n",
        "def simulate(n, times):\n",
        "    error_abs = np.zeros(times)\n",
        "    for i in to_n(times):\n",
        "        np.random.seed(i)\n",
        "        A = np.random.normal(0, 1, (n, n))\n",
        "        x_real = np.random.normal(0, 1, n)\n",
        "        b = np.matmul(A, x_real)\n",
        "        x_est = solve(A, b)\n",
        "        error_abs[indexr(i)] = np.sum(np.abs(x_real-x_est))\n",
        "    return(np.mean(error_abs))\n",
        "\n",
        "n = 10^4\n",
        "times = 100\n",
        "simulate(n, times)"
      ],
      "execution_count": 0,
      "outputs": []
    },
    {
      "cell_type": "markdown",
      "metadata": {
        "id": "Xg5PdUqrKXwl",
        "colab_type": "text"
      },
      "source": [
        "# Referencias\n",
        "\n",
        "* G. H. Golub, C. F. Van Loan, Matrix Computations, John Hopkins University Press, 2013."
      ]
    }
  ]
}