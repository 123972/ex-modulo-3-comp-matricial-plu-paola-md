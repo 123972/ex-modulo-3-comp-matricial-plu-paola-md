{
 "cells": [
  {
   "cell_type": "markdown",
   "metadata": {},
   "source": [
    "## Algoritmo\n",
    "\n",
    "Sean $A$ y $A_{11}$ no singulares.\n",
    "\n",
    "1) Calcular $A_{11}^{-1}A_{12}$ y $A_{11}^{-1}b_1$ teniendo cuidado en no calcular la inversa sino un sistema de ecuaciones lineales:\n",
    "\n",
    "Para realizar la multiplicación $A_{11}^{-1}b_1$ definimos $y=A_{11}^{-1}b_1$ y por tanto $A_{11}y = b_1$ ($A_{11}$ es no singular). Así, resolvemos para $y$ el sistema anterior y habremos calculado $A_{11}^{-1}b_1$. Similarmente definimos $Y=A_{11}^{-1}A_{12}$ con lo que se tiene $A_{11}Y=A_{12}$. Resolvemos para $Y \\in \\mathbb{R} ^{n_1 \\times n_1}$ y habremos calculado $A_{11}^{-1}A_{12}$.\n",
    "2) Calcular el complemento de Schur del bloque $A_{11}$ en $A$: $S = A_{22}-A_{21}A_{11}^{-1}A_{12}$. Calcular $ \\hat{b} = b_2-A_{21}A_{11}^{-1}b_1$.\n",
    "\n",
    "3) Resolver $Sx_2 = \\hat{b}$.\n",
    "\n",
    "4) Resolver $A_{11}x_1 = b_1-A_{12}x_2$."
   ]
  },
  {
   "cell_type": "code",
   "execution_count": 2,
   "metadata": {},
   "outputs": [],
   "source": [
    "import numpy as np"
   ]
  },
  {
   "cell_type": "code",
   "execution_count": 32,
   "metadata": {},
   "outputs": [],
   "source": [
    "#Cambiar en el futuro\n",
    "def nuestro_algoritmo(A, b):\n",
    "    return np.linalg.solve(A,b)\n",
    "\n",
    "def eliminacion_por_bloques(A,b):    \n",
    "    # Check that it is a squared matrix\n",
    "    A_column = A.shape[1]\n",
    "    if A_column == A.shape[0]:\n",
    "        if A_column % 2 == 0:\n",
    "            x  = int(A_column/2)\n",
    "        else:\n",
    "            x = int(ceil(A_column/2))\n",
    "\n",
    "        A11 = A[:x,:x]\n",
    "        A12 = A[:x,x:]\n",
    "        A21 = A[x:,:x]\n",
    "        A22 = A[x:,x:]\n",
    "\n",
    "        b1 = b[:x]\n",
    "        b2 = b[x:]\n",
    "\n",
    "        A11_b1 = nuestro_algoritmo(A11, b1)\n",
    "        A11_A12 = nuestro_algoritmo(A11, A12)\n",
    "\n",
    "        Schur = A22 - A21@A11_A12\n",
    "        b_hat = b2 - A21@A11_b1\n",
    "\n",
    "        x2 = nuestro_algoritmo(Schur, b_hat)\n",
    "        x1 = nuestro_algoritmo(A11, (b1-A12@x2))\n",
    "\n",
    "        X = np.block([x1,x2])\n",
    "    else:\n",
    "        X = 0\n",
    "        print(\"Please enter a squared matrix\")\n",
    "    return X"
   ]
  },
  {
   "cell_type": "code",
   "execution_count": 33,
   "metadata": {},
   "outputs": [
    {
     "name": "stdout",
     "output_type": "stream",
     "text": [
      "[ 0.99047619  0.52539683 -0.36269841  0.16349206]\n",
      "[ 0.99047619  0.52539683 -0.36269841  0.16349206]\n",
      "[ 2.24761905  0.67301587  0.26349206  0.08253968 -1.        ]\n",
      "[ 2.24761905  0.67301587  0.26349206  0.08253968 -1.        ]\n"
     ]
    }
   ],
   "source": [
    "from math import ceil\n",
    "#def por_bloques(A, b):\n",
    "B =  np.array([[ 1.,  4., -2., -5.,1],\n",
    "               [-3.,  9.,  8.,  7.,2],\n",
    "               [ 5.,  1., -6., -4.,3],\n",
    "               [ 5.,  1., -6., -4.,4],\n",
    "               [ 6., -1.,  2.,  8.,5]])\n",
    "\n",
    "A =  np.array([[ 1.,  4., -2., -5.],\n",
    "               [-3.,  9.,  8.,  7.],\n",
    "               [ 5.,  1., -6., -4.],\n",
    "               [ 6., -1.,  2.,  8.]])\n",
    "\n",
    "b = np.array([3,0,7,6,9], dtype=np.float)\n",
    "a = np.array([3,0,7,6], dtype=np.float)\n",
    "\n",
    "x_prueba=np.linalg.solve(A,a)\n",
    "print(x_prueba)\n",
    "\n",
    "x_nuestra = eliminacion_por_bloques(A,a)\n",
    "print(x_nuestra)\n",
    "\n",
    "x_prueba=np.linalg.solve(B,b)\n",
    "print(x_prueba)\n",
    "\n",
    "x_nuestra = eliminacion_por_bloques(B,b)\n",
    "print(x_nuestra)\n"
   ]
  },
  {
   "cell_type": "markdown",
   "metadata": {},
   "source": [
    "### Extras"
   ]
  },
  {
   "cell_type": "code",
   "execution_count": null,
   "metadata": {},
   "outputs": [],
   "source": [
    "# Falta checar que sean no singulares \n",
    "# Ideas\n",
    "det = numpy.linalg.det(A)\n",
    "if det != 0:\n",
    "if linalg.cond(x) < 1/sys.float_info.epsilon:"
   ]
  }
 ],
 "metadata": {
  "kernelspec": {
   "display_name": "Python 3",
   "language": "python",
   "name": "python3"
  },
  "language_info": {
   "codemirror_mode": {
    "name": "ipython",
    "version": 3
   },
   "file_extension": ".py",
   "mimetype": "text/x-python",
   "name": "python",
   "nbconvert_exporter": "python",
   "pygments_lexer": "ipython3",
   "version": "3.7.6"
  }
 },
 "nbformat": 4,
 "nbformat_minor": 4
}
