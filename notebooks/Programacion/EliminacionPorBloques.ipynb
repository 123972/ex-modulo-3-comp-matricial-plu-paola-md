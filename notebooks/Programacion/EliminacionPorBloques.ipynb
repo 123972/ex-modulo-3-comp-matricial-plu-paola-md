{
 "cells": [
  {
   "cell_type": "markdown",
   "metadata": {},
   "source": [
    "## Algoritmo\n",
    "\n",
    "Sean $A$ y $A_{11}$ no singulares.\n",
    "\n",
    "1) Calcular $A_{11}^{-1}A_{12}$ y $A_{11}^{-1}b_1$ teniendo cuidado en no calcular la inversa sino un sistema de ecuaciones lineales:\n",
    "\n",
    "Para realizar la multiplicación $A_{11}^{-1}b_1$ definimos $y=A_{11}^{-1}b_1$ y por tanto $A_{11}y = b_1$ ($A_{11}$ es no singular). Así, resolvemos para $y$ el sistema anterior y habremos calculado $A_{11}^{-1}b_1$. Similarmente definimos $Y=A_{11}^{-1}A_{12}$ con lo que se tiene $A_{11}Y=A_{12}$. Resolvemos para $Y \\in \\mathbb{R} ^{n_1 \\times n_1}$ y habremos calculado $A_{11}^{-1}A_{12}$.\n",
    "2) Calcular el complemento de Schur del bloque $A_{11}$ en $A$: $S = A_{22}-A_{21}A_{11}^{-1}A_{12}$. Calcular $ \\hat{b} = b_2-A_{21}A_{11}^{-1}b_1$.\n",
    "\n",
    "3) Resolver $Sx_2 = \\hat{b}$.\n",
    "\n",
    "4) Resolver $A_{11}x_1 = b_1-A_{12}x_2$."
   ]
  },
  {
   "cell_type": "code",
   "execution_count": 2,
   "metadata": {},
   "outputs": [],
   "source": [
    "import numpy as np"
   ]
  },
  {
   "cell_type": "code",
   "execution_count": 3,
   "metadata": {},
   "outputs": [],
   "source": [
    "#Cambiar en el futuro\n",
    "def nuestro_algoritmo(A, b):\n",
    "    return np.linalg.solve(A,b)"
   ]
  },
  {
   "cell_type": "code",
   "execution_count": 9,
   "metadata": {},
   "outputs": [
    {
     "data": {
      "text/plain": [
       "3"
      ]
     },
     "execution_count": 9,
     "metadata": {},
     "output_type": "execute_result"
    }
   ],
   "source": [
    "B =  np.array([[ 1.,  4., -2., -5.],\n",
    "               [-3.,  9.,  8.,  7.],\n",
    "               [ 6., -1.,  2.,  8.]])\n",
    "B.shape[0]"
   ]
  },
  {
   "cell_type": "code",
   "execution_count": 15,
   "metadata": {},
   "outputs": [
    {
     "data": {
      "text/plain": [
       "array([[ 5.,  1.],\n",
       "       [ 6., -1.]])"
      ]
     },
     "execution_count": 15,
     "metadata": {},
     "output_type": "execute_result"
    }
   ],
   "source": [
    "B =  np.array([[ 1.,  4., -2., -5.],\n",
    "               [-3.,  9.,  8.,  7.],\n",
    "               [ 5.,  1., -6., -4.],\n",
    "               [ 6., -1.,  2.,  8.]])\n",
    "\n",
    "B11 = B[:2,:2]\n",
    "B12 = B[:2,2:]\n",
    "B21 = B[2:,:2]\n",
    "B22 = B[2:,2:]\n",
    "\n",
    "B21"
   ]
  },
  {
   "cell_type": "code",
   "execution_count": 38,
   "metadata": {},
   "outputs": [
    {
     "name": "stdout",
     "output_type": "stream",
     "text": [
      "2 2 3 2\n"
     ]
    },
    {
     "data": {
      "text/plain": [
       "array([[-6., -4.],\n",
       "       [-6., -4.],\n",
       "       [ 2.,  8.]])"
      ]
     },
     "execution_count": 38,
     "metadata": {},
     "output_type": "execute_result"
    }
   ],
   "source": [
    "from math import ceil, floor\n",
    "#def por_bloques(A, b):\n",
    "B =  np.array([[ 1.,  4., -2., -5.],\n",
    "               [-3.,  9.,  8.,  7.],\n",
    "               [ 5.,  1., -6., -4.],\n",
    "               [ 5.,  1., -6., -4.],\n",
    "               [ 6., -1.,  2.,  8.]])\n",
    "A = B\n",
    "A_column = A.shape[1]  \n",
    "A_row = A.shape[0] \n",
    "if A_column % 2 == 0:\n",
    "    x_low  = int(A_column/2)\n",
    "    x_high = x_low\n",
    "else:\n",
    "    x_low = int(ceil(A_column/2))\n",
    "    x_high = int(floor(A_column/2))\n",
    "\n",
    "if A_row % 2 == 0:\n",
    "    y_low  = int(A_row/2)\n",
    "    y_high = x_low\n",
    "else:\n",
    "    y_low = int(ceil(A_row/2))\n",
    "    y_high = int(floor(A_row/2))\n",
    "\n",
    "print(x_low, x_high, y_low, y_high)\n",
    "\n",
    "\n",
    "A11 = A[:y_low,:x_low]\n",
    "A12 = A[:y_low,x_high:]\n",
    "A21 = A[y_low:,:x_high]\n",
    "A22 = A[y_high:,x_high:]\n",
    "\n",
    "A22\n",
    "#por_bloques(A, b)   "
   ]
  },
  {
   "cell_type": "code",
   "execution_count": 5,
   "metadata": {},
   "outputs": [
    {
     "data": {
      "text/plain": [
       "array([ 0.99047619,  0.52539683, -0.36269841,  0.16349206])"
      ]
     },
     "execution_count": 5,
     "metadata": {},
     "output_type": "execute_result"
    }
   ],
   "source": [
    "# Manipulacion de arreglos por bloques\n",
    "A11 = np.array([[ 1, 4], \\\n",
    "                [-3, 9]], dtype=np.float)\n",
    "A12 = np.array([[-2,-5], \\\n",
    "                [ 8, 7]], dtype=np.float)\n",
    "A21 = np.array([[ 5, 1], \\\n",
    "                [ 6,-1]], dtype=np.float)\n",
    "A22 = np.array([[-6, -4], \n",
    "                [ 2, 8]], dtype=np.float)\n",
    "\n",
    "A = np.block([[A11,A12],\n",
    "              [A21,A22]])\n",
    "\n",
    "B =  np.array([[ 1.,  4., -2., -5.],\n",
    "               [-3.,  9.,  8.,  7.],\n",
    "               [ 5.,  1., -6., -4.],\n",
    "               [ 6., -1.,  2.,  8.]])\n",
    "\n",
    "B11 = B[:2,:2]\n",
    "B12 = B[:2,2:]\n",
    "B21 = B[2:,2:]\n",
    "B22 = B[:2,:2]\n",
    "\n",
    "b = np.array([3,0,7,6], dtype=np.float)\n",
    "b1 = b[:2]\n",
    "b2 = b[2:]\n",
    "\n",
    "#nuestro_algoritmo(A, b)\n",
    "#  $A_{11}y = b_1$\n",
    "A11_b1 = nuestro_algoritmo(A11, b1)\n",
    "A11_A12 = nuestro_algoritmo(A11, A12)\n",
    "\n",
    "Schur = A22 - A21@A11_A12\n",
    "b_hat = b2 - A21@A11_b1\n",
    "\n",
    "x2 = nuestro_algoritmo(Schur, b_hat)\n",
    "x1 = nuestro_algoritmo(A11, (b1-A12@x2))\n",
    "\n",
    "X = np.block([x1,x2])\n",
    "X\n"
   ]
  },
  {
   "cell_type": "code",
   "execution_count": 36,
   "metadata": {},
   "outputs": [
    {
     "data": {
      "text/plain": [
       "array([ 0.99047619,  0.52539683, -0.36269841,  0.16349206])"
      ]
     },
     "execution_count": 36,
     "metadata": {},
     "output_type": "execute_result"
    }
   ],
   "source": [
    "# Sí tiene solución\n",
    "b = np.array([3,0,7,6], dtype=np.float)\n",
    "x=np.linalg.solve(A,b)\n",
    "x\n"
   ]
  },
  {
   "cell_type": "code",
   "execution_count": null,
   "metadata": {},
   "outputs": [],
   "source": []
  },
  {
   "cell_type": "code",
   "execution_count": null,
   "metadata": {},
   "outputs": [],
   "source": [
    "# Falta checar que sean no singulares \n",
    "# Ideas\n",
    "det = numpy.linalg.det(A)\n",
    "if det != 0:\n",
    "if linalg.cond(x) < 1/sys.float_info.epsilon:"
   ]
  }
 ],
 "metadata": {
  "kernelspec": {
   "display_name": "Python 3",
   "language": "python",
   "name": "python3"
  },
  "language_info": {
   "codemirror_mode": {
    "name": "ipython",
    "version": 3
   },
   "file_extension": ".py",
   "mimetype": "text/x-python",
   "name": "python",
   "nbconvert_exporter": "python",
   "pygments_lexer": "ipython3",
   "version": "3.7.6"
  }
 },
 "nbformat": 4,
 "nbformat_minor": 4
}
