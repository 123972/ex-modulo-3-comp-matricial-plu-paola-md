{
 "cells": [
  {
   "cell_type": "markdown",
   "metadata": {},
   "source": [
    "## Perfilamiento del primer algoritmo : Factorizacion PLU"
   ]
  },
  {
   "cell_type": "markdown",
   "metadata": {},
   "source": [
    "Emplearemos el uso de magic para poder instalar herramientas en el perfilamiento"
   ]
  },
  {
   "cell_type": "code",
   "execution_count": 1,
   "metadata": {},
   "outputs": [
    {
     "name": "stdout",
     "output_type": "stream",
     "text": [
      "Note: you may need to restart the kernel to use updated packages.\n"
     ]
    }
   ],
   "source": [
    "%pip install -q --user line_profiler"
   ]
  },
  {
   "cell_type": "code",
   "execution_count": 2,
   "metadata": {},
   "outputs": [
    {
     "name": "stdout",
     "output_type": "stream",
     "text": [
      "\u001b[33m  The script mprof is installed in '/Users/pozoshidalgo/.local/bin' which is not on PATH.\n",
      "  Consider adding this directory to PATH or, if you prefer to suppress this warning, use --no-warn-script-location.\u001b[0m\n",
      "Note: you may need to restart the kernel to use updated packages.\n"
     ]
    }
   ],
   "source": [
    "%pip install -q --user memory_profiler"
   ]
  },
  {
   "cell_type": "code",
   "execution_count": 3,
   "metadata": {},
   "outputs": [
    {
     "name": "stdout",
     "output_type": "stream",
     "text": [
      "Note: you may need to restart the kernel to use updated packages.\n"
     ]
    }
   ],
   "source": [
    "%pip install -q --user psutil"
   ]
  },
  {
   "cell_type": "code",
   "execution_count": 4,
   "metadata": {},
   "outputs": [
    {
     "name": "stdout",
     "output_type": "stream",
     "text": [
      "Note: you may need to restart the kernel to use updated packages.\n"
     ]
    }
   ],
   "source": [
    "%pip install -q --user guppy3"
   ]
  },
  {
   "cell_type": "code",
   "execution_count": 1,
   "metadata": {},
   "outputs": [
    {
     "data": {
      "text/plain": [
       "{'status': 'ok', 'restart': True}"
      ]
     },
     "execution_count": 1,
     "metadata": {},
     "output_type": "execute_result"
    },
    {
     "name": "stderr",
     "output_type": "stream",
     "text": [
      "ERROR:root:Invalid alias: The name clear can't be aliased because it is another magic command.\n",
      "ERROR:root:Invalid alias: The name more can't be aliased because it is another magic command.\n",
      "ERROR:root:Invalid alias: The name less can't be aliased because it is another magic command.\n",
      "ERROR:root:Invalid alias: The name man can't be aliased because it is another magic command.\n"
     ]
    }
   ],
   "source": [
    "# Para reiniciar el Kernel y cargar los paquete anteriormente instalados\n",
    "import IPython\n",
    "app = IPython.Application.instance()\n",
    "app.kernel.do_shutdown(True)"
   ]
  },
  {
   "cell_type": "code",
   "execution_count": 3,
   "metadata": {},
   "outputs": [],
   "source": [
    "#Librerias a utilizar\n",
    "import math\n",
    "import numpy as np\n",
    "import time\n",
    "from scipy.linalg import lu\n",
    "from scipy.integrate import quad"
   ]
  },
  {
   "cell_type": "markdown",
   "metadata": {},
   "source": [
    "Funciones del algoritmo PLU, hasta el momento tenemos 2: intercambio_filas y nuestro_lup."
   ]
  },
  {
   "cell_type": "code",
   "execution_count": 5,
   "metadata": {},
   "outputs": [],
   "source": [
    "def intercambio_filas(M, a, b):\n",
    "    \n",
    "    fila_aux = M[a, :].copy()\n",
    "    M[a, :] =  M[b, :]\n",
    "    M[b, :] = fila_aux\n",
    "    return M\n",
    "\n",
    "\n",
    "def nuestro_lup(A):\n",
    "    \"\"\"\n",
    "     Parameters\n",
    "    ----------   \n",
    "    A : ndarray\n",
    "        2D array containing data with `float` type.\n",
    "       \n",
    "    Returns\n",
    "    -------\n",
    "    L\n",
    "        ndarray of matrix L un LUP factorization\n",
    "    U\n",
    "        ndarray of matrix U un LUP factorization\n",
    "    P\n",
    "        ndarray of matrix P un LUP factorization\n",
    "    \"\"\"\n",
    "    n = len(A)\n",
    "    L = np.zeros((n,n), dtype=np.float) \n",
    "    U = A.copy()\n",
    "    P =  np.identity(n, dtype=np.float) \n",
    "\n",
    "    for col_actual in range(n):\n",
    "        #imprime_status(col_actual, P,L,U)\n",
    "\n",
    "        #Get maximum row to swap values \n",
    "        row_mayor = col_actual\n",
    "        a_hat = abs(U[col_actual,col_actual])\n",
    "        for row in range(col_actual, n): \n",
    "            a = abs(U[row, col_actual])\n",
    "            if a > a_hat : \n",
    "                row_mayor = row\n",
    "                a_hat = a\n",
    "\n",
    "        #Swap values\n",
    "        U = intercambio_filas(U, row_mayor, col_actual)\n",
    "        L = intercambio_filas(L, row_mayor, col_actual)\n",
    "        P = intercambio_filas(P, row_mayor, col_actual) \n",
    "\n",
    "\n",
    "        for j in range(col_actual+1, n):\n",
    "            vj = U[col_actual, col_actual]\n",
    "            if (vj !=0):\n",
    "                multi =  U[j, col_actual] / vj\n",
    "                L[j, col_actual] =  multi\n",
    "                U[j, :] = U[j, :] - multi * U[col_actual, :]\n",
    "\n",
    "    L = L + np.identity(n, dtype=np.float)\n",
    "    return L, U, P \n"
   ]
  },
  {
   "cell_type": "markdown",
   "metadata": {},
   "source": [
    "Probamos el algoritmo PLU con la siguiente matriz:"
   ]
  },
  {
   "cell_type": "markdown",
   "metadata": {},
   "source": [
    "$$A = \\begin{bmatrix} 1& 4&-2 \\\\ -3& 9& 8 \\\\ 5& 1& -6\\end{bmatrix}$$"
   ]
  },
  {
   "cell_type": "code",
   "execution_count": 10,
   "metadata": {},
   "outputs": [
    {
     "name": "stdout",
     "output_type": "stream",
     "text": [
      "Matriz L\n",
      "[[ 1.          0.          0.        ]\n",
      " [-0.6         1.          0.        ]\n",
      " [ 0.2         0.39583333  1.        ]]\n",
      "Matriz U\n",
      "[[ 5.          1.         -6.        ]\n",
      " [ 0.          9.6         4.4       ]\n",
      " [ 0.          0.         -2.54166667]]\n",
      "Matriz P\n",
      "[[0. 0. 1.]\n",
      " [0. 1. 0.]\n",
      " [1. 0. 0.]]\n"
     ]
    }
   ],
   "source": [
    "#Ejemplo de matriz de 3x3 a aproximar\n",
    "A = np.array([[ 1, 4,-2], \\\n",
    "              [-3, 9, 8],\n",
    "              [ 5, 1,-6]], dtype=np.float)\n",
    "\n",
    "\n",
    "L, U, P = nuestro_lup(A)\n",
    "\n",
    "print(\"Matriz L\")\n",
    "print(L)\n",
    "print(\"Matriz U\")\n",
    "print(U)\n",
    "print(\"Matriz P\")\n",
    "print(P)"
   ]
  },
  {
   "cell_type": "markdown",
   "metadata": {},
   "source": [
    "Para poder evaluar el resultado usaremos el error relativo con la siguiente función."
   ]
  },
  {
   "cell_type": "code",
   "execution_count": 16,
   "metadata": {},
   "outputs": [],
   "source": [
    "def err_relativo(aprox, obj):\n",
    "    return np.fabs(aprox-obj)/np.fabs(obj) #obsérvese el uso de la librería np porque son matrices"
   ]
  },
  {
   "cell_type": "code",
   "execution_count": 14,
   "metadata": {},
   "outputs": [
    {
     "name": "stdout",
     "output_type": "stream",
     "text": [
      "Matriz l\n",
      "[[ 1.          0.          0.        ]\n",
      " [-0.6         1.          0.        ]\n",
      " [ 0.2         0.39583333  1.        ]]\n",
      "Matriz u\n",
      "[[ 5.          1.         -6.        ]\n",
      " [ 0.          9.6         4.4       ]\n",
      " [ 0.          0.         -2.54166667]]\n",
      "Matriz p\n",
      "[[0. 0. 1.]\n",
      " [0. 1. 0.]\n",
      " [1. 0. 0.]]\n"
     ]
    }
   ],
   "source": [
    "#El resultado con el paquete de scipy\n",
    "p, l, u = lu(A)\n",
    "\n",
    "print(\"Matriz l\")\n",
    "print(l)\n",
    "print(\"Matriz u\")\n",
    "print(u)\n",
    "print(\"Matriz p\")\n",
    "print(p)"
   ]
  },
  {
   "cell_type": "code",
   "execution_count": 17,
   "metadata": {},
   "outputs": [
    {
     "name": "stderr",
     "output_type": "stream",
     "text": [
      "/Users/pozoshidalgo/anaconda3/lib/python3.7/site-packages/ipykernel_launcher.py:2: RuntimeWarning: invalid value encountered in true_divide\n",
      "  \n"
     ]
    },
    {
     "data": {
      "text/plain": [
       "array([[0.00000000e+00,            nan,            nan],\n",
       "       [1.85037171e-16, 0.00000000e+00,            nan],\n",
       "       [0.00000000e+00, 0.00000000e+00, 0.00000000e+00]])"
      ]
     },
     "execution_count": 17,
     "metadata": {},
     "output_type": "execute_result"
    }
   ],
   "source": [
    "#Falta definir un error relativo para matrices\n",
    "err_relativo(L,l)"
   ]
  },
  {
   "cell_type": "markdown",
   "metadata": {},
   "source": [
    "## 1.1 Medición de tiempos"
   ]
  },
  {
   "cell_type": "markdown",
   "metadata": {},
   "source": [
    "### 1.1.1 Uso de time"
   ]
  },
  {
   "cell_type": "code",
   "execution_count": 19,
   "metadata": {},
   "outputs": [],
   "source": [
    "start_time = time.time()\n",
    "aprox=nuestro_lup(A)\n",
    "end_time = time.time()"
   ]
  },
  {
   "cell_type": "code",
   "execution_count": 20,
   "metadata": {},
   "outputs": [
    {
     "name": "stdout",
     "output_type": "stream",
     "text": [
      "Nuestro algoritmo lup tomó 0.0006189346313476562 segundos\n"
     ]
    }
   ],
   "source": [
    "secs = end_time-start_time\n",
    "print(\"Nuestro algoritmo lup tomó\",secs,\"segundos\" )"
   ]
  },
  {
   "cell_type": "markdown",
   "metadata": {},
   "source": [
    "Nuestro primer algoritmo tarda muy poco tiempo en su ejecuación con la primer métrica que es $time$. "
   ]
  },
  {
   "cell_type": "markdown",
   "metadata": {},
   "source": [
    "### 1.1.2 Uso de /usr/bin/time de Unix"
   ]
  },
  {
   "cell_type": "code",
   "execution_count": 28,
   "metadata": {},
   "outputs": [
    {
     "name": "stdout",
     "output_type": "stream",
     "text": [
      "Overwriting nuestro_lup.py\n"
     ]
    }
   ],
   "source": [
    "%%file nuestro_lup.py\n",
    "def nuestro_lup(A):\n",
    "    \"\"\"\n",
    "     Parameters\n",
    "    ----------   \n",
    "    A : ndarray\n",
    "        2D array containing data with `float` type.\n",
    "       \n",
    "    Returns\n",
    "    -------\n",
    "    L\n",
    "        ndarray of matrix L un LUP factorization\n",
    "    U\n",
    "        ndarray of matrix U un LUP factorization\n",
    "    P\n",
    "        ndarray of matrix P un LUP factorization\n",
    "    \"\"\"\n",
    "    n = len(A)\n",
    "    L = np.zeros((n,n), dtype=np.float) \n",
    "    U = A.copy()\n",
    "    P =  np.identity(n, dtype=np.float) \n",
    "\n",
    "    for col_actual in range(n):\n",
    "        #imprime_status(col_actual, P,L,U)\n",
    "\n",
    "        #Get maximum row to swap values \n",
    "        row_mayor = col_actual\n",
    "        a_hat = abs(U[col_actual,col_actual])\n",
    "        for row in range(col_actual, n): \n",
    "            a = abs(U[row, col_actual])\n",
    "            if a > a_hat : \n",
    "                row_mayor = row\n",
    "                a_hat = a\n",
    "\n",
    "        #Swap values\n",
    "        U = intercambio_filas(U, row_mayor, col_actual)\n",
    "        L = intercambio_filas(L, row_mayor, col_actual)\n",
    "        P = intercambio_filas(P, row_mayor, col_actual) \n",
    "\n",
    "\n",
    "        for j in range(col_actual+1, n):\n",
    "            vj = U[col_actual, col_actual]\n",
    "            if (vj !=0):\n",
    "                multi =  U[j, col_actual] / vj\n",
    "                L[j, col_actual] =  multi\n",
    "                U[j, :] = U[j, :] - multi * U[col_actual, :]\n",
    "\n",
    "    L = L + np.identity(n, dtype=np.float)\n",
    "    return L, U, P \n",
    "\n",
    "if __name__==\"__main__\": #añadimos este bloque para ejecución de la función \n",
    "        A = np.array([[ 1, 4,-2], \\\n",
    "              [-3, 9, 8],\n",
    "              [ 5, 1,-6]], dtype=np.float)\n",
    "        print(\"aproximación: {:0.6e}\".format(L, U, P = nuestro_lup(A))"
   ]
  },
  {
   "cell_type": "code",
   "execution_count": 92,
   "metadata": {},
   "outputs": [],
   "source": [
    "##Falta esto\n",
    "#%%bash\n",
    "#sudo apt-get install time"
   ]
  },
  {
   "cell_type": "markdown",
   "metadata": {},
   "source": [
    "### 1.1.3 Uso de %timeit"
   ]
  },
  {
   "cell_type": "code",
   "execution_count": 84,
   "metadata": {},
   "outputs": [
    {
     "name": "stdout",
     "output_type": "stream",
     "text": [
      "172 µs ± 73.5 µs per loop (mean ± std. dev. of 10 runs, 8 loops each)\n"
     ]
    }
   ],
   "source": [
    "%timeit -n 8 -r 10 L, U, P = nuestro_lup(A)"
   ]
  },
  {
   "cell_type": "markdown",
   "metadata": {},
   "source": [
    "La función de \"nuestro_lup\" tiene un loop de tamaño $8$, al repetir esto 10 veces se promedio y se calcula la desviación estandar que tiene mejores resultados. En este caso don 172 microsegundos."
   ]
  },
  {
   "cell_type": "markdown",
   "metadata": {},
   "source": [
    "## 1.2 Medición de uso de CPU"
   ]
  },
  {
   "cell_type": "markdown",
   "metadata": {},
   "source": [
    "### 1.2.1 Uso de cProfile"
   ]
  },
  {
   "cell_type": "code",
   "execution_count": 90,
   "metadata": {},
   "outputs": [],
   "source": [
    "#Falta esto\n",
    "#%%bash\n",
    "#python3 -m cProfile -s cumulative nuestro_lup.py"
   ]
  },
  {
   "cell_type": "markdown",
   "metadata": {},
   "source": [
    "### 1.2.2 Uso de line_profiler"
   ]
  },
  {
   "cell_type": "code",
   "execution_count": 91,
   "metadata": {},
   "outputs": [],
   "source": [
    "%load_ext line_profiler"
   ]
  },
  {
   "cell_type": "code",
   "execution_count": 97,
   "metadata": {},
   "outputs": [],
   "source": [
    "%lprun -f nuestro_lup nuestro_lup(A)"
   ]
  },
  {
   "cell_type": "raw",
   "metadata": {},
   "source": [
    "Timer unit: 1e-06 s\n",
    "\n",
    "Total time: 0.000513 s\n",
    "File: <ipython-input-5-bf34a7f0e6cc>\n",
    "Function: nuestro_lup at line 10\n",
    "Line #      Hits         Time  Per Hit   % Time  Line Contents\n",
    "==============================================================\n",
    "    10                                           def nuestro_lup(A):\n",
    "    11                                               \"\"\"\n",
    "    12                                                Parameters\n",
    "    13                                               ----------   \n",
    "    14                                               A : ndarray\n",
    "    15                                                   2D array containing data with `float` type.\n",
    "    16                                                  \n",
    "    17                                               Returns\n",
    "    18                                               -------\n",
    "    19                                               L\n",
    "    20                                                   ndarray of matrix L un LUP factorization\n",
    "    21                                               U\n",
    "    22                                                   ndarray of matrix U un LUP factorization\n",
    "    23                                               P\n",
    "    24                                                   ndarray of matrix P un LUP factorization\n",
    "    25                                               \"\"\"\n",
    "    26         1          3.0      3.0      0.6      n = len(A)\n",
    "    27         1         12.0     12.0      2.3      L = np.zeros((n,n), dtype=np.float) \n",
    "    28         1         15.0     15.0      2.9      U = A.copy()\n",
    "    29         1         47.0     47.0      9.2      P =  np.identity(n, dtype=np.float) \n",
    "    30                                           \n",
    "    31         4          6.0      1.5      1.2      for col_actual in range(n):\n",
    "    32                                                   #imprime_status(col_actual, P,L,U)\n",
    "    33                                           \n",
    "    34                                                   #Get maximum row to swap values     \n",
    "    35         3          3.0      1.0      0.6          row_mayor = col_actual\n",
    "    36         3         10.0      3.3      1.9          a_hat = abs(U[col_actual,col_actual])\n",
    "    37         9         10.0      1.1      1.9          for row in range(col_actual, n): \n",
    "    38         6          9.0      1.5      1.8              a = abs(U[row, col_actual])\n",
    "    39         6          9.0      1.5      1.8              if a > a_hat : \n",
    "    40         2          2.0      1.0      0.4                  row_mayor = row\n",
    "    41         2          2.0      1.0      0.4                  a_hat = a\n",
    "    42                                           \n",
    "    43                                                   #Swap values\n",
    "    44         3         92.0     30.7     17.9          U = intercambio_filas(U, row_mayor, col_actual)\n",
    "    45         3         69.0     23.0     13.5          L = intercambio_filas(L, row_mayor, col_actual)\n",
    "    46         3         63.0     21.0     12.3          P = intercambio_filas(P, row_mayor, col_actual) \n",
    "    47                                           \n",
    "    48                                           \n",
    "    49         6         19.0      3.2      3.7          for j in range(col_actual+1, n):\n",
    "    50         3          7.0      2.3      1.4              vj = U[col_actual, col_actual]\n",
    "    51         3         11.0      3.7      2.1              if (vj !=0):\n",
    "    52         3          8.0      2.7      1.6                  multi =  U[j, col_actual] / vj\n",
    "    53         3          6.0      2.0      1.2                  L[j, col_actual] =  multi\n",
    "    54         3         73.0     24.3     14.2                  U[j, :] = U[j, :] - multi * U[col_actual, :]\n",
    "    55                                           \n",
    "    56         1         36.0     36.0      7.0      L = L + np.identity(n, dtype=np.float)\n",
    "    57         1          1.0      1.0      0.2      return L, U, P"
   ]
  },
  {
   "cell_type": "markdown",
   "metadata": {},
   "source": [
    "Del algoritmo lo que más ocupa tiempo es el intercambio de filas en las matrices U, L y P probablemente porque mandar a llamar a una función que esta afuera de nuetro_lup. Del mismo modo la línea 54 que es la que resuelve la matriz U ocupa tiempo considerable."
   ]
  },
  {
   "cell_type": "markdown",
   "metadata": {},
   "source": [
    "### 1.2.3 line_profiler desde la línea de comandos:"
   ]
  },
  {
   "cell_type": "code",
   "execution_count": 99,
   "metadata": {},
   "outputs": [
    {
     "name": "stdout",
     "output_type": "stream",
     "text": [
      "Overwriting nuestro_lup.py\n"
     ]
    }
   ],
   "source": [
    "%%file nuestro_lup.py\n",
    "import numpy as np\n",
    "\n",
    "def nuestro_lup(A):\n",
    "    \"\"\"\n",
    "     Parameters\n",
    "    ----------   \n",
    "    A : ndarray\n",
    "        2D array containing data with `float` type.\n",
    "       \n",
    "    Returns\n",
    "    -------\n",
    "    L\n",
    "        ndarray of matrix L un LUP factorization\n",
    "    U\n",
    "        ndarray of matrix U un LUP factorization\n",
    "    P\n",
    "        ndarray of matrix P un LUP factorization\n",
    "    \"\"\"\n",
    "    n = len(A)\n",
    "    L = np.zeros((n,n), dtype=np.float) \n",
    "    U = A.copy()\n",
    "    P =  np.identity(n, dtype=np.float) \n",
    "\n",
    "    for col_actual in range(n):\n",
    "        #imprime_status(col_actual, P,L,U)\n",
    "\n",
    "        #Get maximum row to swap values \n",
    "        row_mayor = col_actual\n",
    "        a_hat = abs(U[col_actual,col_actual])\n",
    "        for row in range(col_actual, n): \n",
    "            a = abs(U[row, col_actual])\n",
    "            if a > a_hat : \n",
    "                row_mayor = row\n",
    "                a_hat = a\n",
    "\n",
    "        #Swap values\n",
    "        U = intercambio_filas(U, row_mayor, col_actual)\n",
    "        L = intercambio_filas(L, row_mayor, col_actual)\n",
    "        P = intercambio_filas(P, row_mayor, col_actual) \n",
    "\n",
    "\n",
    "        for j in range(col_actual+1, n):\n",
    "            vj = U[col_actual, col_actual]\n",
    "            if (vj !=0):\n",
    "                multi =  U[j, col_actual] / vj\n",
    "                L[j, col_actual] =  multi\n",
    "                U[j, :] = U[j, :] - multi * U[col_actual, :]\n",
    "\n",
    "    L = L + np.identity(n, dtype=np.float)\n",
    "    return L, U, P \n",
    "\n",
    "if __name__==\"__main__\": #añadimos este bloque para ejecución de la función \n",
    "        A = np.array([[ 1, 4,-2], \\\n",
    "              [-3, 9, 8],\n",
    "              [ 5, 1,-6]], dtype=np.float)\n",
    "        print(\"aproximación: {:0.6e}\".format(L, U, P = nuestro_lup(A))"
   ]
  },
  {
   "cell_type": "markdown",
   "metadata": {},
   "source": [
    "## 1.3 Uso de memoria RAM"
   ]
  },
  {
   "cell_type": "markdown",
   "metadata": {},
   "source": [
    "### 1.3.1 Uso de %memit"
   ]
  },
  {
   "cell_type": "code",
   "execution_count": 103,
   "metadata": {},
   "outputs": [],
   "source": [
    "%load_ext memory_profiler"
   ]
  },
  {
   "cell_type": "code",
   "execution_count": 104,
   "metadata": {},
   "outputs": [
    {
     "name": "stdout",
     "output_type": "stream",
     "text": [
      "peak memory: 75.52 MiB, increment: 5.95 MiB\n"
     ]
    }
   ],
   "source": [
    "%memit -c L, U, P = nuestro_lup(A)"
   ]
  },
  {
   "cell_type": "markdown",
   "metadata": {},
   "source": [
    "El uso de la memoria es baja para el primer algoritmo desarrollado"
   ]
  },
  {
   "cell_type": "markdown",
   "metadata": {},
   "source": [
    "### 1.3.2 Uso de memory_profiler"
   ]
  },
  {
   "cell_type": "code",
   "execution_count": null,
   "metadata": {},
   "outputs": [],
   "source": [
    "### Falta"
   ]
  },
  {
   "cell_type": "markdown",
   "metadata": {},
   "source": [
    "### 1.3.2 Uso de heapy"
   ]
  },
  {
   "cell_type": "code",
   "execution_count": 109,
   "metadata": {},
   "outputs": [],
   "source": [
    "import math\n",
    "from guppy import hpy\n",
    "def nuestro_lup(A):\n",
    "    \"\"\"\n",
    "     Parameters\n",
    "    ----------   \n",
    "    A : ndarray\n",
    "        2D array containing data with `float` type.\n",
    "       \n",
    "    Returns\n",
    "    -------\n",
    "    L\n",
    "        ndarray of matrix L un LUP factorization\n",
    "    U\n",
    "        ndarray of matrix U un LUP factorization\n",
    "    P\n",
    "        ndarray of matrix P un LUP factorization\n",
    "    \"\"\"\n",
    "    n = len(A)\n",
    "    L = np.zeros((n,n), dtype=np.float) \n",
    "    U = A.copy()\n",
    "    P =  np.identity(n, dtype=np.float)\n",
    "    \n",
    "    hp=hpy()\n",
    "    h=hp.heap()\n",
    "    print(\"beginning of PLU factorization\")\n",
    "    print(h)\n",
    "\n",
    "    for col_actual in range(n):\n",
    "        #imprime_status(col_actual, P,L,U)\n",
    "\n",
    "        #Get maximum row to swap values \n",
    "        row_mayor = col_actual\n",
    "        a_hat = abs(U[col_actual,col_actual])\n",
    "        for row in range(col_actual, n): \n",
    "            a = abs(U[row, col_actual])\n",
    "            if a > a_hat : \n",
    "                row_mayor = row\n",
    "                a_hat = a\n",
    "\n",
    "        #Swap values\n",
    "        U = intercambio_filas(U, row_mayor, col_actual)\n",
    "        L = intercambio_filas(L, row_mayor, col_actual)\n",
    "        P = intercambio_filas(P, row_mayor, col_actual)\n",
    "        \n",
    "        h=hp.heap()\n",
    "        print(\"After swiching rows in matrix\")\n",
    "        print(h)\n",
    "\n",
    "\n",
    "        for j in range(col_actual+1, n):\n",
    "            vj = U[col_actual, col_actual]\n",
    "            if (vj !=0):\n",
    "                multi =  U[j, col_actual] / vj\n",
    "                L[j, col_actual] =  multi\n",
    "                U[j, :] = U[j, :] - multi * U[col_actual, :]\n",
    "                \n",
    "        h=hp.heap()\n",
    "        print(\"After loop of finding U and L\")\n",
    "        print(h)\n",
    "\n",
    "    L = L + np.identity(n, dtype=np.float)\n",
    "    return L, U, P "
   ]
  },
  {
   "cell_type": "code",
   "execution_count": 113,
   "metadata": {},
   "outputs": [
    {
     "name": "stdout",
     "output_type": "stream",
     "text": [
      "beginning of PLU factorization\n",
      "Partition of a set of 446293 objects. Total size = 51388840 bytes.\n",
      " Index  Count   %     Size   % Cumulative  % Kind (class / dict of class)\n",
      "     0 229819  51 22750375  44  22750375  44 str\n",
      "     1  85342  19  6571760  13  29322135  57 tuple\n",
      "     2  39758   9  3169213   6  32491348  63 bytes\n",
      "     3  20050   4  2902248   6  35393596  69 types.CodeType\n",
      "     4  17849   4  2427464   5  37821060  74 function\n",
      "     5   2398   1  2313688   5  40134748  78 type\n",
      "     6   4224   1  1844728   4  41979476  82 dict (no owner)\n",
      "     7   1103   0  1671320   3  43650796  85 dict of module\n",
      "     8   2192   0  1538952   3  45189748  88 list\n",
      "     9   2398   1  1196168   2  46385916  90 dict of type\n",
      "<875 more rows. Type e.g. '_.more' to view.>\n",
      "After swiching rows in matrix\n",
      "Partition of a set of 446335 objects. Total size = 51392216 bytes.\n",
      " Index  Count   %     Size   % Cumulative  % Kind (class / dict of class)\n",
      "     0 229819  51 22750375  44  22750375  44 str\n",
      "     1  85347  19  6572048  13  29322423  57 tuple\n",
      "     2  39758   9  3169213   6  32491636  63 bytes\n",
      "     3  20050   4  2902248   6  35393884  69 types.CodeType\n",
      "     4  17852   4  2427872   5  37821756  74 function\n",
      "     5   2398   1  2313688   5  40135444  78 type\n",
      "     6   4226   1  1845208   4  41980652  82 dict (no owner)\n",
      "     7   1103   0  1671320   3  43651972  85 dict of module\n",
      "     8   2194   0  1539096   3  45191068  88 list\n",
      "     9   2398   1  1196168   2  46387236  90 dict of type\n",
      "<876 more rows. Type e.g. '_.more' to view.>\n",
      "After loop of finding U and L\n",
      "Partition of a set of 446322 objects. Total size = 51390808 bytes.\n",
      " Index  Count   %     Size   % Cumulative  % Kind (class / dict of class)\n",
      "     0 229819  51 22750375  44  22750375  44 str\n",
      "     1  85344  19  6571872  13  29322247  57 tuple\n",
      "     2  39758   9  3169213   6  32491460  63 bytes\n",
      "     3  20050   4  2902248   6  35393708  69 types.CodeType\n",
      "     4  17850   4  2427600   5  37821308  74 function\n",
      "     5   2398   1  2313688   5  40134996  78 type\n",
      "     6   4225   1  1844968   4  41979964  82 dict (no owner)\n",
      "     7   1103   0  1671320   3  43651284  85 dict of module\n",
      "     8   2193   0  1539024   3  45190308  88 list\n",
      "     9   2398   1  1196168   2  46386476  90 dict of type\n",
      "<876 more rows. Type e.g. '_.more' to view.>\n",
      "After swiching rows in matrix\n",
      "Partition of a set of 446315 objects. Total size = 51389944 bytes.\n",
      " Index  Count   %     Size   % Cumulative  % Kind (class / dict of class)\n",
      "     0 229819  51 22750375  44  22750375  44 str\n",
      "     1  85343  19  6571808  13  29322183  57 tuple\n",
      "     2  39758   9  3169213   6  32491396  63 bytes\n",
      "     3  20050   4  2902248   6  35393644  69 types.CodeType\n",
      "     4  17851   4  2427736   5  37821380  74 function\n",
      "     5   2398   1  2313688   5  40135068  78 type\n",
      "     6   4224   1  1844728   4  41979796  82 dict (no owner)\n",
      "     7   1103   0  1671320   3  43651116  85 dict of module\n",
      "     8   2192   0  1538920   3  45190036  88 list\n",
      "     9   2398   1  1196168   2  46386204  90 dict of type\n",
      "<875 more rows. Type e.g. '_.more' to view.>\n",
      "After loop of finding U and L\n",
      "Partition of a set of 446338 objects. Total size = 51392312 bytes.\n",
      " Index  Count   %     Size   % Cumulative  % Kind (class / dict of class)\n",
      "     0 229819  51 22750375  44  22750375  44 str\n",
      "     1  85347  19  6572048  13  29322423  57 tuple\n",
      "     2  39758   9  3169213   6  32491636  63 bytes\n",
      "     3  20050   4  2902248   6  35393884  69 types.CodeType\n",
      "     4  17852   4  2427872   5  37821756  74 function\n",
      "     5   2398   1  2313688   5  40135444  78 type\n",
      "     6   4226   1  1845208   4  41980652  82 dict (no owner)\n",
      "     7   1103   0  1671320   3  43651972  85 dict of module\n",
      "     8   2194   0  1539096   3  45191068  88 list\n",
      "     9   2398   1  1196168   2  46387236  90 dict of type\n",
      "<876 more rows. Type e.g. '_.more' to view.>\n",
      "After swiching rows in matrix\n",
      "Partition of a set of 446323 objects. Total size = 51390840 bytes.\n",
      " Index  Count   %     Size   % Cumulative  % Kind (class / dict of class)\n",
      "     0 229819  51 22750375  44  22750375  44 str\n",
      "     1  85344  19  6571872  13  29322247  57 tuple\n",
      "     2  39758   9  3169213   6  32491460  63 bytes\n",
      "     3  20050   4  2902248   6  35393708  69 types.CodeType\n",
      "     4  17850   4  2427600   5  37821308  74 function\n",
      "     5   2398   1  2313688   5  40134996  78 type\n",
      "     6   4225   1  1844968   4  41979964  82 dict (no owner)\n",
      "     7   1103   0  1671320   3  43651284  85 dict of module\n",
      "     8   2193   0  1539024   3  45190308  88 list\n",
      "     9   2398   1  1196168   2  46386476  90 dict of type\n",
      "<876 more rows. Type e.g. '_.more' to view.>\n",
      "After loop of finding U and L\n",
      "Partition of a set of 446320 objects. Total size = 51391018 bytes.\n",
      " Index  Count   %     Size   % Cumulative  % Kind (class / dict of class)\n",
      "     0 229820  51 22751153  44  22751153  44 str\n",
      "     1  85344  19  6571872  13  29323025  57 tuple\n",
      "     2  39758   9  3169213   6  32492238  63 bytes\n",
      "     3  20050   4  2902248   6  35394486  69 types.CodeType\n",
      "     4  17852   4  2427872   5  37822358  74 function\n",
      "     5   2398   1  2313688   5  40136046  78 type\n",
      "     6   4224   1  1844728   4  41980774  82 dict (no owner)\n",
      "     7   1103   0  1671320   3  43652094  85 dict of module\n",
      "     8   2192   0  1538920   3  45191014  88 list\n",
      "     9   2398   1  1196168   2  46387182  90 dict of type\n",
      "<875 more rows. Type e.g. '_.more' to view.>\n"
     ]
    }
   ],
   "source": [
    "L, U, P = nuestro_lup(A)"
   ]
  },
  {
   "cell_type": "code",
   "execution_count": null,
   "metadata": {},
   "outputs": [],
   "source": []
  }
 ],
 "metadata": {
  "kernelspec": {
   "display_name": "Python 3",
   "language": "python",
   "name": "python3"
  },
  "language_info": {
   "codemirror_mode": {
    "name": "ipython",
    "version": 3
   },
   "file_extension": ".py",
   "mimetype": "text/x-python",
   "name": "python",
   "nbconvert_exporter": "python",
   "pygments_lexer": "ipython3",
   "version": "3.7.3"
  }
 },
 "nbformat": 4,
 "nbformat_minor": 2
}
