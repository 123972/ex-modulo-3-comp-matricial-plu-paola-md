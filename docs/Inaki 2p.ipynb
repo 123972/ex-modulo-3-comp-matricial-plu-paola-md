{
 "cells": [
  {
   "cell_type": "code",
   "execution_count": 1,
   "metadata": {},
   "outputs": [],
   "source": [
    "import scipy.linalg\n",
    "import numpy as np\n",
    "\n",
    "eps = np.finfo(np.float).eps"
   ]
  },
  {
   "cell_type": "code",
   "execution_count": 2,
   "metadata": {},
   "outputs": [
    {
     "name": "stdout",
     "output_type": "stream",
     "text": [
      "1. Inversa de una matriz\n",
      "Usa la función lu(A) para obtener la inversa de la matriz\n",
      "[[0.26785714 0.07142857 0.01785714]\n",
      " [0.07142857 0.28571429 0.07142857]\n",
      " [0.01785714 0.07142857 0.26785714]]\n",
      "\n",
      "[[0.26785714 0.07142857 0.01785714]\n",
      " [0.07142857 0.28571429 0.07142857]\n",
      " [0.01785714 0.07142857 0.26785714]]\n"
     ]
    }
   ],
   "source": [
    "print('1. Inversa de una matriz')\n",
    "print('Usa la función lu(A) para obtener la inversa de la matriz')\n",
    "\n",
    "def inverse(A):\n",
    "    P, L, U = scipy.linalg.lu(A)\n",
    "    I = np.eye(len(A))\n",
    "    res = np.zeros((len(A), len(A)))\n",
    "    for i in range(len(A)):\n",
    "        y = np.linalg.solve(L, P @ I[:, i])\n",
    "        res[i] = np.linalg.solve(U, y)\n",
    "    return res\n",
    "A = [[4, -1, 0], [-1, 4, -1], [0, -1, 4]]\n",
    "print(inverse(A))\n",
    "print()\n",
    "print(scipy.linalg.inv(A))"
   ]
  },
  {
   "cell_type": "code",
   "execution_count": 3,
   "metadata": {},
   "outputs": [],
   "source": [
    "def gauss_seidel(a, b):\n",
    "    d = np.diag(np.diag(a))\n",
    "    l = np.tril(a, -1)\n",
    "    m = d + l\n",
    "    tol = eps\n",
    "    max = 1000\n",
    "    i = 0\n",
    "    x = np.zeros(np.shape(b))\n",
    "    \n",
    "    cond = True\n",
    "    while cond:\n",
    "        xp = x\n",
    "        r = b - (np.dot(a, x))\n",
    "        x = x + np.linalg.solve(m, r)\n",
    "        i += 1\n",
    "        cond = np.linalg.norm(np.divide(x - xp, x)) > tol and i < max\n",
    "\n",
    "    return x, i"
   ]
  },
  {
   "cell_type": "code",
   "execution_count": 4,
   "metadata": {},
   "outputs": [
    {
     "name": "stdout",
     "output_type": "stream",
     "text": [
      "2. Algoritmo de Gauss-Seidel\n",
      "Escribe la matriz P de permutación\n",
      "[[0 1 0]\n",
      " [1 0 0]\n",
      " [0 0 1]]\n",
      "Intercambia los renglones de a y b usando p\n",
      "[[ 3.  -0.1 -0.2]\n",
      " [ 0.1  7.  -0.3]\n",
      " [ 0.3 -0.2 10. ]]\n",
      "[  7.85 -19.3   71.4 ]\n",
      "Resuelve el sistema de ecuaciones\n",
      "(array([ 3. , -2.5,  7. ]), 10)\n",
      "\n",
      "[ 3.  -2.5  7. ]\n"
     ]
    }
   ],
   "source": [
    "print('2. Algoritmo de Gauss-Seidel')\n",
    "a = np.array([[0.1, 7, -0.3], [3, -0.1, -0.2], [0.3, -0.2, 10]])\n",
    "b = np.array([-19.3, 7.85, 71.4])\n",
    "# A = [[3, -0.1, -0.2], [0.1, 7, -0.3], [0.3, -0.2, 10]]\n",
    "# b = [7.85, -19.3, 71.4]\n",
    "print('Escribe la matriz P de permutación')\n",
    "p = np.array([[0, 1, 0], [1, 0, 0], [0, 0, 1]])\n",
    "print(p)\n",
    "print('Intercambia los renglones de a y b usando p')\n",
    "pa = p @ a\n",
    "pb = p @ b\n",
    "print(pa)\n",
    "print(pb)\n",
    "\n",
    "print('Resuelve el sistema de ecuaciones')\n",
    "print(gauss_seidel(pa, pb))\n",
    "print()\n",
    "print(np.linalg.solve(a, b))"
   ]
  },
  {
   "cell_type": "code",
   "execution_count": 5,
   "metadata": {},
   "outputs": [],
   "source": [
    "def descenso_maximo(A, b, x):\n",
    "    i = 0\n",
    "    max = 1000\n",
    "    tol = eps\n",
    "    r = b - np.dot(A, x)\n",
    "    cond = True\n",
    "    while cond:\n",
    "        xp = x\n",
    "        alpha = np.dot(r, r) / (np.transpose(r) @ A @ r)\n",
    "        x = xp + alpha * r\n",
    "        r = b - np.dot(A, x)\n",
    "        i += 1\n",
    "        cond = np.linalg.norm(np.divide(x - xp, x)) > tol and i < max\n",
    "    return x, i"
   ]
  },
  {
   "cell_type": "code",
   "execution_count": 6,
   "metadata": {},
   "outputs": [],
   "source": [
    "def gradiente_conjugado(A, b, x):\n",
    "    cond = True\n",
    "    i = 0\n",
    "    max = 1000\n",
    "    tol = eps\n",
    "    r = np.dot(A, x) - b\n",
    "    p = -r\n",
    "    while cond:\n",
    "        xp = x\n",
    "        alpha = -np.divide(np.dot(np.transpose(r), p), np.transpose(p) @ A @ p)\n",
    "        x = xp + np.dot(alpha, p)\n",
    "        r = np.dot(A, x) - b\n",
    "        B = np.divide(np.transpose(r) @ A @ p, np.transpose(p) @ A @ p)\n",
    "        p = -r + np.dot(B, p)\n",
    "        i += 1\n",
    "        cond = np.linalg.norm(r) > tol and i < max\n",
    "    return x, i"
   ]
  },
  {
   "cell_type": "code",
   "execution_count": 7,
   "metadata": {},
   "outputs": [
    {
     "name": "stdout",
     "output_type": "stream",
     "text": [
      "3. Algoritmo de gradiente conjugado\n",
      "(array([1., 2., 1.]), 2)\n",
      "\n",
      "(array([1., 2., 1.]), 26)\n",
      "\n",
      "(array([1., 2., 1.]), 20)\n",
      "Gradiente 2 vs descenso 26\n"
     ]
    }
   ],
   "source": [
    "print('3. Algoritmo de gradiente conjugado')\n",
    "A = np.array([[4, -1, 0], [-1, 4, -1], [0, -1, 4]])\n",
    "b = [2, 6, 2]\n",
    "print(gradiente_conjugado(A, b, [0, 0, 0]))\n",
    "print()\n",
    "print(descenso_maximo(A, b, [0, 0, 0]))\n",
    "print()\n",
    "print(gauss_seidel(A, b))\n",
    "\n",
    "print('Gradiente', gradiente_conjugado(A, b, [0, 0, 0])[1], 'vs descenso', descenso_maximo(A, b, [0, 0, 0])[1])"
   ]
  },
  {
   "cell_type": "code",
   "execution_count": 8,
   "metadata": {},
   "outputs": [],
   "source": [
    "def newton_rapshon_vv(f, j, x):\n",
    "    tol = eps\n",
    "    max = 1000\n",
    "    cond = True\n",
    "    i = 0\n",
    "    while cond:\n",
    "        xp = x\n",
    "        x = xp - np.linalg.solve(j(xp), f(xp))\n",
    "        i += 1\n",
    "        cond = np.linalg.norm(np.divide(x - xp, x)) > tol and i < max\n",
    "    return x, i"
   ]
  },
  {
   "cell_type": "code",
   "execution_count": 9,
   "metadata": {},
   "outputs": [
    {
     "name": "stdout",
     "output_type": "stream",
     "text": [
      "Primero\n",
      "(array([-1.61803399, -0.61803399]), 6)\n",
      "Segundo\n",
      "(array([1.61803399, 0.61803399]), 6)\n",
      "Tercero\n",
      "(array([0.61803399, 1.61803399]), 6)\n",
      "Cuarto\n",
      "(array([-0.61803399, -1.61803399]), 6)\n"
     ]
    }
   ],
   "source": [
    "f = lambda x: [x[0] ** 2 + x[1] ** 2 - 3, x[0] * x[1] - 1]\n",
    "j = lambda x: [[2 * x[0], 2 * x[1]], [x[1], x[0]]]\n",
    "print('Primero')\n",
    "print(newton_rapshon_vv(f, j, [-2, -1]))\n",
    "print('Segundo')\n",
    "print(newton_rapshon_vv(f, j, [2, 1]))\n",
    "print('Tercero')\n",
    "print(newton_rapshon_vv(f, j, [1, 2]))\n",
    "print('Cuarto')\n",
    "print(newton_rapshon_vv(f, j, [-1, -2]))"
   ]
  },
  {
   "cell_type": "code",
   "execution_count": 10,
   "metadata": {},
   "outputs": [
    {
     "name": "stdout",
     "output_type": "stream",
     "text": [
      "5. Vectores\n",
      "(array([0.525, 2.55 , 2.35 ]), 36)\n"
     ]
    }
   ],
   "source": [
    "print('5. Vectores')\n",
    "A = lambda a: [2, -3, a]\n",
    "B = lambda b: [b, 1, -4]\n",
    "C = lambda c: [3, c, 2]\n",
    "first = lambda a, b: 2 * b - 3 - 4 * a\n",
    "second = lambda a, c: 6 - 3 * c + 2 * a\n",
    "third = lambda b, c: 3 * b + c - 8\n",
    "a = np.array([[-4, 2, 0], [2, 0, -3], [0, 3, 1]])\n",
    "b = np.array([3, -6, 10])\n",
    "p = np.array([[1, 0, 0], [0, 0, 1], [0, 1, 0]])\n",
    "print(gauss_seidel(p @ a, p @ b))"
   ]
  },
  {
   "cell_type": "code",
   "execution_count": 11,
   "metadata": {},
   "outputs": [
    {
     "name": "stdout",
     "output_type": "stream",
     "text": [
      "6. Uso de Matlab\n",
      "[[ 0.1  7.  -0.3  1.   0.   0. ]\n",
      " [ 3.  -0.1 -0.2  0.   1.   0. ]\n",
      " [ 0.3 -0.2 10.   0.   0.   1. ]]\n"
     ]
    }
   ],
   "source": [
    "print('6. Uso de Matlab')\n",
    "A = [[0.1, 7, -0.3], [3, -0.1, -0.2], [0.3, -0.2, 10]]\n",
    "print(np.append(A, np.eye(len(A)), 1))"
   ]
  },
  {
   "cell_type": "code",
   "execution_count": null,
   "metadata": {},
   "outputs": [],
   "source": []
  },
  {
   "cell_type": "code",
   "execution_count": null,
   "metadata": {},
   "outputs": [],
   "source": []
  },
  {
   "cell_type": "code",
   "execution_count": null,
   "metadata": {},
   "outputs": [],
   "source": []
  }
 ],
 "metadata": {
  "kernelspec": {
   "display_name": "Python 3",
   "language": "python",
   "name": "python3"
  },
  "language_info": {
   "codemirror_mode": {
    "name": "ipython",
    "version": 3
   },
   "file_extension": ".py",
   "mimetype": "text/x-python",
   "name": "python",
   "nbconvert_exporter": "python",
   "pygments_lexer": "ipython3",
   "version": "3.7.6"
  }
 },
 "nbformat": 4,
 "nbformat_minor": 2
}
